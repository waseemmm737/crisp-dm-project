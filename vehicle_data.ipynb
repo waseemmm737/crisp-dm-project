{
 "cells": [
  {
   "cell_type": "code",
   "execution_count": 40,
   "metadata": {},
   "outputs": [],
   "source": [
    "import pandas as pd\n",
    "import plotly.express as px\n",
    "from plotly.subplots import make_subplots\n",
    "import plotly.graph_objects as go\n",
    "import glob\n",
    "import re\n",
    "import seaborn as sns\n",
    "import numpy as np\n",
    "import matplotlib as mpl\n",
    "import matplotlib.pyplot as plt\n",
    "import warnings\n",
    "from sklearn.preprocessing import MinMaxScaler\n",
    "from sklearn.model_selection import train_test_split\n",
    "from sklearn.linear_model import LinearRegression\n",
    "warnings.filterwarnings(\"ignore\")"
   ]
  },
  {
   "cell_type": "code",
   "execution_count": 2,
   "metadata": {},
   "outputs": [
    {
     "data": {
      "text/html": [
       "<div>\n",
       "<style scoped>\n",
       "    .dataframe tbody tr th:only-of-type {\n",
       "        vertical-align: middle;\n",
       "    }\n",
       "\n",
       "    .dataframe tbody tr th {\n",
       "        vertical-align: top;\n",
       "    }\n",
       "\n",
       "    .dataframe thead th {\n",
       "        text-align: right;\n",
       "    }\n",
       "</style>\n",
       "<table border=\"1\" class=\"dataframe\">\n",
       "  <thead>\n",
       "    <tr style=\"text-align: right;\">\n",
       "      <th></th>\n",
       "      <th>index</th>\n",
       "      <th>Cars</th>\n",
       "      <th>Cars Sold</th>\n",
       "      <th>Year</th>\n",
       "    </tr>\n",
       "  </thead>\n",
       "  <tbody>\n",
       "    <tr>\n",
       "      <td>0</td>\n",
       "      <td>0</td>\n",
       "      <td>ALFA ROMEO</td>\n",
       "      <td>87</td>\n",
       "      <td>2018</td>\n",
       "    </tr>\n",
       "    <tr>\n",
       "      <td>1</td>\n",
       "      <td>1</td>\n",
       "      <td>AUDI</td>\n",
       "      <td>4913</td>\n",
       "      <td>2018</td>\n",
       "    </tr>\n",
       "    <tr>\n",
       "      <td>2</td>\n",
       "      <td>2</td>\n",
       "      <td>BMW</td>\n",
       "      <td>4280</td>\n",
       "      <td>2018</td>\n",
       "    </tr>\n",
       "    <tr>\n",
       "      <td>3</td>\n",
       "      <td>3</td>\n",
       "      <td>CHRYSLER</td>\n",
       "      <td>0</td>\n",
       "      <td>2018</td>\n",
       "    </tr>\n",
       "    <tr>\n",
       "      <td>4</td>\n",
       "      <td>4</td>\n",
       "      <td>CITROEN</td>\n",
       "      <td>1115</td>\n",
       "      <td>2018</td>\n",
       "    </tr>\n",
       "    <tr>\n",
       "      <td>...</td>\n",
       "      <td>...</td>\n",
       "      <td>...</td>\n",
       "      <td>...</td>\n",
       "      <td>...</td>\n",
       "    </tr>\n",
       "    <tr>\n",
       "      <td>291</td>\n",
       "      <td>31</td>\n",
       "      <td>TOYOTA</td>\n",
       "      <td>15523</td>\n",
       "      <td>2016</td>\n",
       "    </tr>\n",
       "    <tr>\n",
       "      <td>292</td>\n",
       "      <td>32</td>\n",
       "      <td>VOLKSWAGEN</td>\n",
       "      <td>15408</td>\n",
       "      <td>2016</td>\n",
       "    </tr>\n",
       "    <tr>\n",
       "      <td>293</td>\n",
       "      <td>33</td>\n",
       "      <td>VOLVO</td>\n",
       "      <td>1996</td>\n",
       "      <td>2016</td>\n",
       "    </tr>\n",
       "    <tr>\n",
       "      <td>294</td>\n",
       "      <td>34</td>\n",
       "      <td>PRIVATE IMPORT</td>\n",
       "      <td>105</td>\n",
       "      <td>2016</td>\n",
       "    </tr>\n",
       "    <tr>\n",
       "      <td>295</td>\n",
       "      <td>35</td>\n",
       "      <td>OTHER</td>\n",
       "      <td>0</td>\n",
       "      <td>2016</td>\n",
       "    </tr>\n",
       "  </tbody>\n",
       "</table>\n",
       "<p>296 rows × 4 columns</p>\n",
       "</div>"
      ],
      "text/plain": [
       "     index            Cars  Cars Sold  Year\n",
       "0        0      ALFA ROMEO         87  2018\n",
       "1        1            AUDI       4913  2018\n",
       "2        2             BMW       4280  2018\n",
       "3        3        CHRYSLER          0  2018\n",
       "4        4         CITROEN       1115  2018\n",
       "..     ...             ...        ...   ...\n",
       "291     31          TOYOTA      15523  2016\n",
       "292     32      VOLKSWAGEN      15408  2016\n",
       "293     33           VOLVO       1996  2016\n",
       "294     34  PRIVATE IMPORT        105  2016\n",
       "295     35           OTHER          0  2016\n",
       "\n",
       "[296 rows x 4 columns]"
      ]
     },
     "execution_count": 2,
     "metadata": {},
     "output_type": "execute_result"
    }
   ],
   "source": [
    "files = glob.glob('/Users/ahsanmunir/Desktop/Danish Semester Project/cars detailed/*.xls')\n",
    "master_df = pd.DataFrame()\n",
    "for file in files:\n",
    "    temp = pd.read_excel(file)\n",
    "    temp = temp[~temp['Cars'].isna()]\n",
    "    temp = temp[~temp['Cars Sold'].isna()]\n",
    "    temp['Cars Sold'] = temp['Cars Sold'].astype(int)\n",
    "\n",
    "    year = file.split(\"/\")[-1]\n",
    "    year = year.split(\".\")[0]\n",
    "    temp['Year'] = int(re.findall('[^a-zA-Z]+', year)[-1])\n",
    "    \n",
    "    master_df =  master_df.append(temp)\n",
    "    # break\n",
    "master_df = master_df.reset_index()\n",
    "\n",
    "car_data = master_df\n",
    "car_data"
   ]
  },
  {
   "cell_type": "code",
   "execution_count": 3,
   "metadata": {},
   "outputs": [
    {
     "name": "stdout",
     "output_type": "stream",
     "text": [
      "The dataset has  296  rows.\n",
      "The dataset has  4  columns.\n"
     ]
    }
   ],
   "source": [
    "print(\"The dataset has \",car_data.shape[0],\" rows.\")\n",
    "print(\"The dataset has \",car_data.shape[1],\" columns.\")"
   ]
  },
  {
   "cell_type": "code",
   "execution_count": 4,
   "metadata": {},
   "outputs": [
    {
     "data": {
      "text/plain": [
       "<bound method NDFrame.describe of      index            Cars  Cars Sold  Year\n",
       "0        0      ALFA ROMEO         87  2018\n",
       "1        1            AUDI       4913  2018\n",
       "2        2             BMW       4280  2018\n",
       "3        3        CHRYSLER          0  2018\n",
       "4        4         CITROEN       1115  2018\n",
       "..     ...             ...        ...   ...\n",
       "291     31          TOYOTA      15523  2016\n",
       "292     32      VOLKSWAGEN      15408  2016\n",
       "293     33           VOLVO       1996  2016\n",
       "294     34  PRIVATE IMPORT        105  2016\n",
       "295     35           OTHER          0  2016\n",
       "\n",
       "[296 rows x 4 columns]>"
      ]
     },
     "execution_count": 4,
     "metadata": {},
     "output_type": "execute_result"
    }
   ],
   "source": [
    "car_data.describe"
   ]
  },
  {
   "cell_type": "code",
   "execution_count": 5,
   "metadata": {},
   "outputs": [
    {
     "data": {
      "text/plain": [
       "index        0\n",
       "Cars         0\n",
       "Cars Sold    0\n",
       "Year         0\n",
       "dtype: int64"
      ]
     },
     "execution_count": 5,
     "metadata": {},
     "output_type": "execute_result"
    }
   ],
   "source": [
    "car_data.isnull().sum()"
   ]
  },
  {
   "cell_type": "code",
   "execution_count": 6,
   "metadata": {},
   "outputs": [
    {
     "data": {
      "text/plain": [
       "index         int64\n",
       "Cars         object\n",
       "Cars Sold     int64\n",
       "Year          int64\n",
       "dtype: object"
      ]
     },
     "execution_count": 6,
     "metadata": {},
     "output_type": "execute_result"
    }
   ],
   "source": [
    "car_data[car_data.columns].dtypes"
   ]
  },
  {
   "cell_type": "code",
   "execution_count": 7,
   "metadata": {},
   "outputs": [
    {
     "data": {
      "text/plain": [
       "Counter({'ALFA ROMEO': 8,\n",
       "         'AUDI': 8,\n",
       "         'BMW': 8,\n",
       "         'CHRYSLER': 8,\n",
       "         'CITROEN': 8,\n",
       "         'DACIA': 6,\n",
       "         'DS': 4,\n",
       "         'FIAT': 8,\n",
       "         'FORD': 8,\n",
       "         'HONDA': 8,\n",
       "         'HYUNDAI': 8,\n",
       "         'JAGUAR': 8,\n",
       "         'JEEP': 8,\n",
       "         'KIA': 8,\n",
       "         'LAND ROVER': 8,\n",
       "         'LEXUS': 8,\n",
       "         'MAZDA': 8,\n",
       "         'MERCEDES-BENZ': 8,\n",
       "         'MINI': 8,\n",
       "         'MITSUBISHI': 8,\n",
       "         'NISSAN': 8,\n",
       "         'OPEL': 3,\n",
       "         'PERODUA': 8,\n",
       "         'PEUGEOT': 8,\n",
       "         'PORSCHE': 8,\n",
       "         'PRIVATE IMPORT': 8,\n",
       "         'RENAULT': 8,\n",
       "         'SEAT': 8,\n",
       "         'SKODA': 8,\n",
       "         'SSANGYONG': 5,\n",
       "         'SUBARU': 8,\n",
       "         'SUZUKI': 8,\n",
       "         'TESLA': 3,\n",
       "         'TOYOTA': 8,\n",
       "         'VOLKSWAGEN': 8,\n",
       "         'VOLVO': 8,\n",
       "         'OTHER': 7,\n",
       "         'GM(OPEL)': 5,\n",
       "         'MG': 3,\n",
       "         'CHEVROLET': 2,\n",
       "         'DAIHATSU': 2,\n",
       "         'DODGE': 2,\n",
       "         'SAAB': 2,\n",
       "         'CADILLAC': 1,\n",
       "         'SMART': 1,\n",
       "         'TATA': 1,\n",
       "         'ROVER': 1})"
      ]
     },
     "execution_count": 7,
     "metadata": {},
     "output_type": "execute_result"
    }
   ],
   "source": [
    "from collections import Counter\n",
    "Counter(car_data['Cars'])"
   ]
  },
  {
   "cell_type": "code",
   "execution_count": 8,
   "metadata": {},
   "outputs": [
    {
     "data": {
      "text/html": [
       "<div>\n",
       "<style scoped>\n",
       "    .dataframe tbody tr th:only-of-type {\n",
       "        vertical-align: middle;\n",
       "    }\n",
       "\n",
       "    .dataframe tbody tr th {\n",
       "        vertical-align: top;\n",
       "    }\n",
       "\n",
       "    .dataframe thead th {\n",
       "        text-align: right;\n",
       "    }\n",
       "</style>\n",
       "<table border=\"1\" class=\"dataframe\">\n",
       "  <thead>\n",
       "    <tr style=\"text-align: right;\">\n",
       "      <th></th>\n",
       "      <th>index</th>\n",
       "      <th>Cars</th>\n",
       "      <th>Cars Sold</th>\n",
       "      <th>Year</th>\n",
       "    </tr>\n",
       "  </thead>\n",
       "  <tbody>\n",
       "  </tbody>\n",
       "</table>\n",
       "</div>"
      ],
      "text/plain": [
       "Empty DataFrame\n",
       "Columns: [index, Cars, Cars Sold, Year]\n",
       "Index: []"
      ]
     },
     "execution_count": 8,
     "metadata": {},
     "output_type": "execute_result"
    }
   ],
   "source": [
    "car_data[car_data.duplicated()]"
   ]
  },
  {
   "cell_type": "code",
   "execution_count": 9,
   "metadata": {},
   "outputs": [
    {
     "data": {
      "text/html": [
       "<div>\n",
       "<style scoped>\n",
       "    .dataframe tbody tr th:only-of-type {\n",
       "        vertical-align: middle;\n",
       "    }\n",
       "\n",
       "    .dataframe tbody tr th {\n",
       "        vertical-align: top;\n",
       "    }\n",
       "\n",
       "    .dataframe thead th {\n",
       "        text-align: right;\n",
       "    }\n",
       "</style>\n",
       "<table border=\"1\" class=\"dataframe\">\n",
       "  <thead>\n",
       "    <tr style=\"text-align: right;\">\n",
       "      <th>Year</th>\n",
       "      <th>Cars</th>\n",
       "      <th>2012</th>\n",
       "      <th>2013</th>\n",
       "      <th>2014</th>\n",
       "      <th>2015</th>\n",
       "      <th>2016</th>\n",
       "      <th>2017</th>\n",
       "      <th>2018</th>\n",
       "      <th>2019</th>\n",
       "    </tr>\n",
       "  </thead>\n",
       "  <tbody>\n",
       "    <tr>\n",
       "      <td>0</td>\n",
       "      <td>ALFA ROMEO</td>\n",
       "      <td>18.0</td>\n",
       "      <td>0.0</td>\n",
       "      <td>36.0</td>\n",
       "      <td>43.0</td>\n",
       "      <td>43.0</td>\n",
       "      <td>97.0</td>\n",
       "      <td>87.0</td>\n",
       "      <td>39.0</td>\n",
       "    </tr>\n",
       "    <tr>\n",
       "      <td>1</td>\n",
       "      <td>AUDI</td>\n",
       "      <td>759.0</td>\n",
       "      <td>938.0</td>\n",
       "      <td>4259.0</td>\n",
       "      <td>5211.0</td>\n",
       "      <td>6065.0</td>\n",
       "      <td>5535.0</td>\n",
       "      <td>4913.0</td>\n",
       "      <td>4575.0</td>\n",
       "    </tr>\n",
       "    <tr>\n",
       "      <td>2</td>\n",
       "      <td>BMW</td>\n",
       "      <td>843.0</td>\n",
       "      <td>922.0</td>\n",
       "      <td>4011.0</td>\n",
       "      <td>4826.0</td>\n",
       "      <td>5504.0</td>\n",
       "      <td>4643.0</td>\n",
       "      <td>4280.0</td>\n",
       "      <td>4005.0</td>\n",
       "    </tr>\n",
       "    <tr>\n",
       "      <td>3</td>\n",
       "      <td>CADILLAC</td>\n",
       "      <td>0.0</td>\n",
       "      <td>NaN</td>\n",
       "      <td>NaN</td>\n",
       "      <td>NaN</td>\n",
       "      <td>NaN</td>\n",
       "      <td>NaN</td>\n",
       "      <td>NaN</td>\n",
       "      <td>NaN</td>\n",
       "    </tr>\n",
       "    <tr>\n",
       "      <td>4</td>\n",
       "      <td>CHEVROLET</td>\n",
       "      <td>9.0</td>\n",
       "      <td>2.0</td>\n",
       "      <td>NaN</td>\n",
       "      <td>NaN</td>\n",
       "      <td>NaN</td>\n",
       "      <td>NaN</td>\n",
       "      <td>NaN</td>\n",
       "      <td>NaN</td>\n",
       "    </tr>\n",
       "    <tr>\n",
       "      <td>5</td>\n",
       "      <td>CHRYSLER</td>\n",
       "      <td>17.0</td>\n",
       "      <td>0.0</td>\n",
       "      <td>23.0</td>\n",
       "      <td>23.0</td>\n",
       "      <td>0.0</td>\n",
       "      <td>0.0</td>\n",
       "      <td>0.0</td>\n",
       "      <td>0.0</td>\n",
       "    </tr>\n",
       "    <tr>\n",
       "      <td>6</td>\n",
       "      <td>CITROEN</td>\n",
       "      <td>342.0</td>\n",
       "      <td>260.0</td>\n",
       "      <td>1409.0</td>\n",
       "      <td>1830.0</td>\n",
       "      <td>1408.0</td>\n",
       "      <td>1291.0</td>\n",
       "      <td>1115.0</td>\n",
       "      <td>926.0</td>\n",
       "    </tr>\n",
       "    <tr>\n",
       "      <td>7</td>\n",
       "      <td>DACIA</td>\n",
       "      <td>NaN</td>\n",
       "      <td>NaN</td>\n",
       "      <td>2693.0</td>\n",
       "      <td>3784.0</td>\n",
       "      <td>4386.0</td>\n",
       "      <td>3641.0</td>\n",
       "      <td>3624.0</td>\n",
       "      <td>3018.0</td>\n",
       "    </tr>\n",
       "    <tr>\n",
       "      <td>8</td>\n",
       "      <td>DAIHATSU</td>\n",
       "      <td>0.0</td>\n",
       "      <td>1.0</td>\n",
       "      <td>NaN</td>\n",
       "      <td>NaN</td>\n",
       "      <td>NaN</td>\n",
       "      <td>NaN</td>\n",
       "      <td>NaN</td>\n",
       "      <td>NaN</td>\n",
       "    </tr>\n",
       "    <tr>\n",
       "      <td>9</td>\n",
       "      <td>DODGE</td>\n",
       "      <td>0.0</td>\n",
       "      <td>0.0</td>\n",
       "      <td>NaN</td>\n",
       "      <td>NaN</td>\n",
       "      <td>NaN</td>\n",
       "      <td>NaN</td>\n",
       "      <td>NaN</td>\n",
       "      <td>NaN</td>\n",
       "    </tr>\n",
       "    <tr>\n",
       "      <td>10</td>\n",
       "      <td>DS</td>\n",
       "      <td>NaN</td>\n",
       "      <td>NaN</td>\n",
       "      <td>NaN</td>\n",
       "      <td>NaN</td>\n",
       "      <td>13.0</td>\n",
       "      <td>35.0</td>\n",
       "      <td>14.0</td>\n",
       "      <td>38.0</td>\n",
       "    </tr>\n",
       "    <tr>\n",
       "      <td>11</td>\n",
       "      <td>FIAT</td>\n",
       "      <td>120.0</td>\n",
       "      <td>64.0</td>\n",
       "      <td>601.0</td>\n",
       "      <td>634.0</td>\n",
       "      <td>717.0</td>\n",
       "      <td>761.0</td>\n",
       "      <td>657.0</td>\n",
       "      <td>400.0</td>\n",
       "    </tr>\n",
       "    <tr>\n",
       "      <td>12</td>\n",
       "      <td>FORD</td>\n",
       "      <td>2680.0</td>\n",
       "      <td>1839.0</td>\n",
       "      <td>9479.0</td>\n",
       "      <td>12049.0</td>\n",
       "      <td>14595.0</td>\n",
       "      <td>12239.0</td>\n",
       "      <td>11285.0</td>\n",
       "      <td>9620.0</td>\n",
       "    </tr>\n",
       "    <tr>\n",
       "      <td>13</td>\n",
       "      <td>GM(OPEL)</td>\n",
       "      <td>1254.0</td>\n",
       "      <td>1049.0</td>\n",
       "      <td>6356.0</td>\n",
       "      <td>7482.0</td>\n",
       "      <td>7887.0</td>\n",
       "      <td>NaN</td>\n",
       "      <td>NaN</td>\n",
       "      <td>NaN</td>\n",
       "    </tr>\n",
       "    <tr>\n",
       "      <td>14</td>\n",
       "      <td>HONDA</td>\n",
       "      <td>211.0</td>\n",
       "      <td>243.0</td>\n",
       "      <td>1365.0</td>\n",
       "      <td>1507.0</td>\n",
       "      <td>1590.0</td>\n",
       "      <td>1331.0</td>\n",
       "      <td>1333.0</td>\n",
       "      <td>1326.0</td>\n",
       "    </tr>\n",
       "    <tr>\n",
       "      <td>15</td>\n",
       "      <td>HYUNDAI</td>\n",
       "      <td>1248.0</td>\n",
       "      <td>1522.0</td>\n",
       "      <td>8158.0</td>\n",
       "      <td>11483.0</td>\n",
       "      <td>15442.0</td>\n",
       "      <td>11930.0</td>\n",
       "      <td>11633.0</td>\n",
       "      <td>11052.0</td>\n",
       "    </tr>\n",
       "    <tr>\n",
       "      <td>16</td>\n",
       "      <td>JAGUAR</td>\n",
       "      <td>65.0</td>\n",
       "      <td>36.0</td>\n",
       "      <td>190.0</td>\n",
       "      <td>268.0</td>\n",
       "      <td>556.0</td>\n",
       "      <td>656.0</td>\n",
       "      <td>608.0</td>\n",
       "      <td>459.0</td>\n",
       "    </tr>\n",
       "    <tr>\n",
       "      <td>17</td>\n",
       "      <td>JEEP</td>\n",
       "      <td>0.0</td>\n",
       "      <td>0.0</td>\n",
       "      <td>0.0</td>\n",
       "      <td>93.0</td>\n",
       "      <td>99.0</td>\n",
       "      <td>56.0</td>\n",
       "      <td>92.0</td>\n",
       "      <td>115.0</td>\n",
       "    </tr>\n",
       "    <tr>\n",
       "      <td>18</td>\n",
       "      <td>KIA</td>\n",
       "      <td>678.0</td>\n",
       "      <td>723.0</td>\n",
       "      <td>4236.0</td>\n",
       "      <td>5481.0</td>\n",
       "      <td>6710.0</td>\n",
       "      <td>7132.0</td>\n",
       "      <td>7326.0</td>\n",
       "      <td>6453.0</td>\n",
       "    </tr>\n",
       "    <tr>\n",
       "      <td>19</td>\n",
       "      <td>LAND ROVER</td>\n",
       "      <td>133.0</td>\n",
       "      <td>117.0</td>\n",
       "      <td>532.0</td>\n",
       "      <td>772.0</td>\n",
       "      <td>1167.0</td>\n",
       "      <td>1217.0</td>\n",
       "      <td>1024.0</td>\n",
       "      <td>1136.0</td>\n",
       "    </tr>\n",
       "    <tr>\n",
       "      <td>20</td>\n",
       "      <td>LEXUS</td>\n",
       "      <td>81.0</td>\n",
       "      <td>41.0</td>\n",
       "      <td>351.0</td>\n",
       "      <td>500.0</td>\n",
       "      <td>592.0</td>\n",
       "      <td>443.0</td>\n",
       "      <td>484.0</td>\n",
       "      <td>501.0</td>\n",
       "    </tr>\n",
       "    <tr>\n",
       "      <td>21</td>\n",
       "      <td>MAZDA</td>\n",
       "      <td>467.0</td>\n",
       "      <td>353.0</td>\n",
       "      <td>1792.0</td>\n",
       "      <td>2236.0</td>\n",
       "      <td>3011.0</td>\n",
       "      <td>2678.0</td>\n",
       "      <td>2209.0</td>\n",
       "      <td>1872.0</td>\n",
       "    </tr>\n",
       "    <tr>\n",
       "      <td>22</td>\n",
       "      <td>MERCEDES-BENZ</td>\n",
       "      <td>517.0</td>\n",
       "      <td>337.0</td>\n",
       "      <td>2050.0</td>\n",
       "      <td>2620.0</td>\n",
       "      <td>3774.0</td>\n",
       "      <td>4830.0</td>\n",
       "      <td>4116.0</td>\n",
       "      <td>3298.0</td>\n",
       "    </tr>\n",
       "    <tr>\n",
       "      <td>23</td>\n",
       "      <td>MG</td>\n",
       "      <td>0.0</td>\n",
       "      <td>0.0</td>\n",
       "      <td>0.0</td>\n",
       "      <td>NaN</td>\n",
       "      <td>NaN</td>\n",
       "      <td>NaN</td>\n",
       "      <td>NaN</td>\n",
       "      <td>NaN</td>\n",
       "    </tr>\n",
       "    <tr>\n",
       "      <td>24</td>\n",
       "      <td>MINI</td>\n",
       "      <td>122.0</td>\n",
       "      <td>111.0</td>\n",
       "      <td>484.0</td>\n",
       "      <td>662.0</td>\n",
       "      <td>774.0</td>\n",
       "      <td>623.0</td>\n",
       "      <td>555.0</td>\n",
       "      <td>523.0</td>\n",
       "    </tr>\n",
       "    <tr>\n",
       "      <td>25</td>\n",
       "      <td>MITSUBISHI</td>\n",
       "      <td>95.0</td>\n",
       "      <td>108.0</td>\n",
       "      <td>592.0</td>\n",
       "      <td>872.0</td>\n",
       "      <td>942.0</td>\n",
       "      <td>661.0</td>\n",
       "      <td>768.0</td>\n",
       "      <td>909.0</td>\n",
       "    </tr>\n",
       "    <tr>\n",
       "      <td>26</td>\n",
       "      <td>NISSAN</td>\n",
       "      <td>1431.0</td>\n",
       "      <td>1208.0</td>\n",
       "      <td>7025.0</td>\n",
       "      <td>11196.0</td>\n",
       "      <td>11885.0</td>\n",
       "      <td>10347.0</td>\n",
       "      <td>9701.0</td>\n",
       "      <td>8202.0</td>\n",
       "    </tr>\n",
       "    <tr>\n",
       "      <td>27</td>\n",
       "      <td>OPEL</td>\n",
       "      <td>NaN</td>\n",
       "      <td>NaN</td>\n",
       "      <td>NaN</td>\n",
       "      <td>NaN</td>\n",
       "      <td>NaN</td>\n",
       "      <td>6530.0</td>\n",
       "      <td>4810.0</td>\n",
       "      <td>4202.0</td>\n",
       "    </tr>\n",
       "    <tr>\n",
       "      <td>28</td>\n",
       "      <td>OTHER</td>\n",
       "      <td>NaN</td>\n",
       "      <td>93.0</td>\n",
       "      <td>127.0</td>\n",
       "      <td>0.0</td>\n",
       "      <td>0.0</td>\n",
       "      <td>0.0</td>\n",
       "      <td>0.0</td>\n",
       "      <td>0.0</td>\n",
       "    </tr>\n",
       "    <tr>\n",
       "      <td>29</td>\n",
       "      <td>PERODUA</td>\n",
       "      <td>0.0</td>\n",
       "      <td>4.0</td>\n",
       "      <td>6.0</td>\n",
       "      <td>2.0</td>\n",
       "      <td>0.0</td>\n",
       "      <td>0.0</td>\n",
       "      <td>0.0</td>\n",
       "      <td>0.0</td>\n",
       "    </tr>\n",
       "    <tr>\n",
       "      <td>30</td>\n",
       "      <td>PEUGEOT</td>\n",
       "      <td>595.0</td>\n",
       "      <td>634.0</td>\n",
       "      <td>2820.0</td>\n",
       "      <td>3505.0</td>\n",
       "      <td>4133.0</td>\n",
       "      <td>3884.0</td>\n",
       "      <td>5586.0</td>\n",
       "      <td>5619.0</td>\n",
       "    </tr>\n",
       "    <tr>\n",
       "      <td>31</td>\n",
       "      <td>PORSCHE</td>\n",
       "      <td>0.0</td>\n",
       "      <td>7.0</td>\n",
       "      <td>48.0</td>\n",
       "      <td>85.0</td>\n",
       "      <td>70.0</td>\n",
       "      <td>77.0</td>\n",
       "      <td>66.0</td>\n",
       "      <td>65.0</td>\n",
       "    </tr>\n",
       "    <tr>\n",
       "      <td>32</td>\n",
       "      <td>PRIVATE IMPORT</td>\n",
       "      <td>92.0</td>\n",
       "      <td>16.0</td>\n",
       "      <td>187.0</td>\n",
       "      <td>147.0</td>\n",
       "      <td>105.0</td>\n",
       "      <td>79.0</td>\n",
       "      <td>71.0</td>\n",
       "      <td>62.0</td>\n",
       "    </tr>\n",
       "    <tr>\n",
       "      <td>33</td>\n",
       "      <td>RENAULT</td>\n",
       "      <td>1501.0</td>\n",
       "      <td>592.0</td>\n",
       "      <td>4881.0</td>\n",
       "      <td>6090.0</td>\n",
       "      <td>8379.0</td>\n",
       "      <td>8328.0</td>\n",
       "      <td>7176.0</td>\n",
       "      <td>6550.0</td>\n",
       "    </tr>\n",
       "    <tr>\n",
       "      <td>34</td>\n",
       "      <td>ROVER</td>\n",
       "      <td>NaN</td>\n",
       "      <td>NaN</td>\n",
       "      <td>NaN</td>\n",
       "      <td>0.0</td>\n",
       "      <td>NaN</td>\n",
       "      <td>NaN</td>\n",
       "      <td>NaN</td>\n",
       "      <td>NaN</td>\n",
       "    </tr>\n",
       "    <tr>\n",
       "      <td>35</td>\n",
       "      <td>SAAB</td>\n",
       "      <td>0.0</td>\n",
       "      <td>1.0</td>\n",
       "      <td>NaN</td>\n",
       "      <td>NaN</td>\n",
       "      <td>NaN</td>\n",
       "      <td>NaN</td>\n",
       "      <td>NaN</td>\n",
       "      <td>NaN</td>\n",
       "    </tr>\n",
       "    <tr>\n",
       "      <td>36</td>\n",
       "      <td>SEAT</td>\n",
       "      <td>234.0</td>\n",
       "      <td>532.0</td>\n",
       "      <td>2402.0</td>\n",
       "      <td>2499.0</td>\n",
       "      <td>2791.0</td>\n",
       "      <td>3301.0</td>\n",
       "      <td>3688.0</td>\n",
       "      <td>4087.0</td>\n",
       "    </tr>\n",
       "    <tr>\n",
       "      <td>37</td>\n",
       "      <td>SKODA</td>\n",
       "      <td>1266.0</td>\n",
       "      <td>1200.0</td>\n",
       "      <td>6295.0</td>\n",
       "      <td>7816.0</td>\n",
       "      <td>9447.0</td>\n",
       "      <td>9029.0</td>\n",
       "      <td>9116.0</td>\n",
       "      <td>9300.0</td>\n",
       "    </tr>\n",
       "    <tr>\n",
       "      <td>38</td>\n",
       "      <td>SMART</td>\n",
       "      <td>0.0</td>\n",
       "      <td>NaN</td>\n",
       "      <td>NaN</td>\n",
       "      <td>NaN</td>\n",
       "      <td>NaN</td>\n",
       "      <td>NaN</td>\n",
       "      <td>NaN</td>\n",
       "      <td>NaN</td>\n",
       "    </tr>\n",
       "    <tr>\n",
       "      <td>39</td>\n",
       "      <td>SSANGYONG</td>\n",
       "      <td>NaN</td>\n",
       "      <td>NaN</td>\n",
       "      <td>NaN</td>\n",
       "      <td>107.0</td>\n",
       "      <td>217.0</td>\n",
       "      <td>103.0</td>\n",
       "      <td>81.0</td>\n",
       "      <td>47.0</td>\n",
       "    </tr>\n",
       "    <tr>\n",
       "      <td>40</td>\n",
       "      <td>SUBARU</td>\n",
       "      <td>31.0</td>\n",
       "      <td>17.0</td>\n",
       "      <td>157.0</td>\n",
       "      <td>199.0</td>\n",
       "      <td>180.0</td>\n",
       "      <td>169.0</td>\n",
       "      <td>195.0</td>\n",
       "      <td>96.0</td>\n",
       "    </tr>\n",
       "    <tr>\n",
       "      <td>41</td>\n",
       "      <td>SUZUKI</td>\n",
       "      <td>158.0</td>\n",
       "      <td>134.0</td>\n",
       "      <td>653.0</td>\n",
       "      <td>881.0</td>\n",
       "      <td>1263.0</td>\n",
       "      <td>1341.0</td>\n",
       "      <td>1286.0</td>\n",
       "      <td>1216.0</td>\n",
       "    </tr>\n",
       "    <tr>\n",
       "      <td>42</td>\n",
       "      <td>TATA</td>\n",
       "      <td>0.0</td>\n",
       "      <td>NaN</td>\n",
       "      <td>NaN</td>\n",
       "      <td>NaN</td>\n",
       "      <td>NaN</td>\n",
       "      <td>NaN</td>\n",
       "      <td>NaN</td>\n",
       "      <td>NaN</td>\n",
       "    </tr>\n",
       "    <tr>\n",
       "      <td>43</td>\n",
       "      <td>TESLA</td>\n",
       "      <td>NaN</td>\n",
       "      <td>NaN</td>\n",
       "      <td>NaN</td>\n",
       "      <td>NaN</td>\n",
       "      <td>NaN</td>\n",
       "      <td>49.0</td>\n",
       "      <td>120.0</td>\n",
       "      <td>270.0</td>\n",
       "    </tr>\n",
       "    <tr>\n",
       "      <td>44</td>\n",
       "      <td>TOYOTA</td>\n",
       "      <td>3422.0</td>\n",
       "      <td>1853.0</td>\n",
       "      <td>10272.0</td>\n",
       "      <td>13109.0</td>\n",
       "      <td>15523.0</td>\n",
       "      <td>12684.0</td>\n",
       "      <td>12036.0</td>\n",
       "      <td>12123.0</td>\n",
       "    </tr>\n",
       "    <tr>\n",
       "      <td>45</td>\n",
       "      <td>VOLKSWAGEN</td>\n",
       "      <td>2622.0</td>\n",
       "      <td>2137.0</td>\n",
       "      <td>11653.0</td>\n",
       "      <td>15369.0</td>\n",
       "      <td>15408.0</td>\n",
       "      <td>13828.0</td>\n",
       "      <td>13772.0</td>\n",
       "      <td>13506.0</td>\n",
       "    </tr>\n",
       "    <tr>\n",
       "      <td>46</td>\n",
       "      <td>VOLVO</td>\n",
       "      <td>302.0</td>\n",
       "      <td>199.0</td>\n",
       "      <td>1195.0</td>\n",
       "      <td>1564.0</td>\n",
       "      <td>1996.0</td>\n",
       "      <td>1808.0</td>\n",
       "      <td>1730.0</td>\n",
       "      <td>1490.0</td>\n",
       "    </tr>\n",
       "  </tbody>\n",
       "</table>\n",
       "</div>"
      ],
      "text/plain": [
       "Year            Cars    2012    2013     2014     2015     2016     2017  \\\n",
       "0         ALFA ROMEO    18.0     0.0     36.0     43.0     43.0     97.0   \n",
       "1               AUDI   759.0   938.0   4259.0   5211.0   6065.0   5535.0   \n",
       "2                BMW   843.0   922.0   4011.0   4826.0   5504.0   4643.0   \n",
       "3           CADILLAC     0.0     NaN      NaN      NaN      NaN      NaN   \n",
       "4          CHEVROLET     9.0     2.0      NaN      NaN      NaN      NaN   \n",
       "5           CHRYSLER    17.0     0.0     23.0     23.0      0.0      0.0   \n",
       "6            CITROEN   342.0   260.0   1409.0   1830.0   1408.0   1291.0   \n",
       "7              DACIA     NaN     NaN   2693.0   3784.0   4386.0   3641.0   \n",
       "8           DAIHATSU     0.0     1.0      NaN      NaN      NaN      NaN   \n",
       "9              DODGE     0.0     0.0      NaN      NaN      NaN      NaN   \n",
       "10                DS     NaN     NaN      NaN      NaN     13.0     35.0   \n",
       "11              FIAT   120.0    64.0    601.0    634.0    717.0    761.0   \n",
       "12              FORD  2680.0  1839.0   9479.0  12049.0  14595.0  12239.0   \n",
       "13          GM(OPEL)  1254.0  1049.0   6356.0   7482.0   7887.0      NaN   \n",
       "14             HONDA   211.0   243.0   1365.0   1507.0   1590.0   1331.0   \n",
       "15           HYUNDAI  1248.0  1522.0   8158.0  11483.0  15442.0  11930.0   \n",
       "16            JAGUAR    65.0    36.0    190.0    268.0    556.0    656.0   \n",
       "17              JEEP     0.0     0.0      0.0     93.0     99.0     56.0   \n",
       "18               KIA   678.0   723.0   4236.0   5481.0   6710.0   7132.0   \n",
       "19        LAND ROVER   133.0   117.0    532.0    772.0   1167.0   1217.0   \n",
       "20             LEXUS    81.0    41.0    351.0    500.0    592.0    443.0   \n",
       "21             MAZDA   467.0   353.0   1792.0   2236.0   3011.0   2678.0   \n",
       "22     MERCEDES-BENZ   517.0   337.0   2050.0   2620.0   3774.0   4830.0   \n",
       "23                MG     0.0     0.0      0.0      NaN      NaN      NaN   \n",
       "24              MINI   122.0   111.0    484.0    662.0    774.0    623.0   \n",
       "25        MITSUBISHI    95.0   108.0    592.0    872.0    942.0    661.0   \n",
       "26            NISSAN  1431.0  1208.0   7025.0  11196.0  11885.0  10347.0   \n",
       "27              OPEL     NaN     NaN      NaN      NaN      NaN   6530.0   \n",
       "28             OTHER     NaN    93.0    127.0      0.0      0.0      0.0   \n",
       "29           PERODUA     0.0     4.0      6.0      2.0      0.0      0.0   \n",
       "30           PEUGEOT   595.0   634.0   2820.0   3505.0   4133.0   3884.0   \n",
       "31           PORSCHE     0.0     7.0     48.0     85.0     70.0     77.0   \n",
       "32    PRIVATE IMPORT    92.0    16.0    187.0    147.0    105.0     79.0   \n",
       "33           RENAULT  1501.0   592.0   4881.0   6090.0   8379.0   8328.0   \n",
       "34             ROVER     NaN     NaN      NaN      0.0      NaN      NaN   \n",
       "35              SAAB     0.0     1.0      NaN      NaN      NaN      NaN   \n",
       "36              SEAT   234.0   532.0   2402.0   2499.0   2791.0   3301.0   \n",
       "37             SKODA  1266.0  1200.0   6295.0   7816.0   9447.0   9029.0   \n",
       "38             SMART     0.0     NaN      NaN      NaN      NaN      NaN   \n",
       "39         SSANGYONG     NaN     NaN      NaN    107.0    217.0    103.0   \n",
       "40            SUBARU    31.0    17.0    157.0    199.0    180.0    169.0   \n",
       "41            SUZUKI   158.0   134.0    653.0    881.0   1263.0   1341.0   \n",
       "42              TATA     0.0     NaN      NaN      NaN      NaN      NaN   \n",
       "43             TESLA     NaN     NaN      NaN      NaN      NaN     49.0   \n",
       "44            TOYOTA  3422.0  1853.0  10272.0  13109.0  15523.0  12684.0   \n",
       "45        VOLKSWAGEN  2622.0  2137.0  11653.0  15369.0  15408.0  13828.0   \n",
       "46             VOLVO   302.0   199.0   1195.0   1564.0   1996.0   1808.0   \n",
       "\n",
       "Year     2018     2019  \n",
       "0        87.0     39.0  \n",
       "1      4913.0   4575.0  \n",
       "2      4280.0   4005.0  \n",
       "3         NaN      NaN  \n",
       "4         NaN      NaN  \n",
       "5         0.0      0.0  \n",
       "6      1115.0    926.0  \n",
       "7      3624.0   3018.0  \n",
       "8         NaN      NaN  \n",
       "9         NaN      NaN  \n",
       "10       14.0     38.0  \n",
       "11      657.0    400.0  \n",
       "12    11285.0   9620.0  \n",
       "13        NaN      NaN  \n",
       "14     1333.0   1326.0  \n",
       "15    11633.0  11052.0  \n",
       "16      608.0    459.0  \n",
       "17       92.0    115.0  \n",
       "18     7326.0   6453.0  \n",
       "19     1024.0   1136.0  \n",
       "20      484.0    501.0  \n",
       "21     2209.0   1872.0  \n",
       "22     4116.0   3298.0  \n",
       "23        NaN      NaN  \n",
       "24      555.0    523.0  \n",
       "25      768.0    909.0  \n",
       "26     9701.0   8202.0  \n",
       "27     4810.0   4202.0  \n",
       "28        0.0      0.0  \n",
       "29        0.0      0.0  \n",
       "30     5586.0   5619.0  \n",
       "31       66.0     65.0  \n",
       "32       71.0     62.0  \n",
       "33     7176.0   6550.0  \n",
       "34        NaN      NaN  \n",
       "35        NaN      NaN  \n",
       "36     3688.0   4087.0  \n",
       "37     9116.0   9300.0  \n",
       "38        NaN      NaN  \n",
       "39       81.0     47.0  \n",
       "40      195.0     96.0  \n",
       "41     1286.0   1216.0  \n",
       "42        NaN      NaN  \n",
       "43      120.0    270.0  \n",
       "44    12036.0  12123.0  \n",
       "45    13772.0  13506.0  \n",
       "46     1730.0   1490.0  "
      ]
     },
     "execution_count": 9,
     "metadata": {},
     "output_type": "execute_result"
    }
   ],
   "source": [
    "pivot_table = pd.pivot_table(car_data, index=['Cars'], columns='Year', values='Cars Sold').reset_index()\n",
    "# pivot_table.drop(['Year'], axis=1, inplace=True)\n",
    "pivot_table\n"
   ]
  },
  {
   "cell_type": "code",
   "execution_count": 10,
   "metadata": {},
   "outputs": [
    {
     "data": {
      "text/plain": [
       "Index(['Cars', 2012, 2013, 2014, 2015, 2016, 2017, 2018, 2019], dtype='object', name='Year')"
      ]
     },
     "execution_count": 10,
     "metadata": {},
     "output_type": "execute_result"
    }
   ],
   "source": [
    "pivot_table.columns"
   ]
  },
  {
   "cell_type": "code",
   "execution_count": 11,
   "metadata": {},
   "outputs": [
    {
     "data": {
      "image/png": "[encoded data removed]",
      "text/plain": [
       "<Figure size 720x720 with 4 Axes>"
      ]
     },
     "metadata": {
      "needs_background": "light"
     },
     "output_type": "display_data"
    }
   ],
   "source": [
    "car_data.hist(edgecolor=\"black\", linewidth=1.2, figsize=(10, 10));"
   ]
  },
  {
   "cell_type": "code",
   "execution_count": 33,
   "metadata": {},
   "outputs": [
    {
     "data": {
      "image/png": "[encoded data removed]",
      "text/plain": [
       "<Figure size 1080x1080 with 1 Axes>"
      ]
     },
     "metadata": {},
     "output_type": "display_data"
    }
   ],
   "source": [
    "labels, index = np.unique(car_data[\"Cars\"], return_inverse=True)\n",
    "fig, ax = plt.subplots()\n",
    "sc = ax.scatter(car_data['Year'], car_data['Cars Sold'], marker = 'o', c = index, alpha = 0.8)\n",
    "fig.text(0.5, 0.04, 'Year', ha='center')\n",
    "fig.text(0.04, 0.5, 'Cars Sold', va='center', rotation='vertical')\n",
    "ax.legend(sc.legend_elements()[0], labels)\n",
    "fig.set_figheight(15)\n",
    "fig.set_figwidth(15)\n",
    "plt.show()"
   ]
  },
  {
   "cell_type": "code",
   "execution_count": 12,
   "metadata": {},
   "outputs": [
    {
     "data": {
      "application/vnd.plotly.v1+json": {
       "config": {
        "plotlyServerURL": "https://plot.ly"
       },
       "data": [
        {
         "name": "2012",
         "type": "bar",
         "x": [
          "ALFA ROMEO",
          "AUDI",
          "BMW",
          "CADILLAC",
          "CHEVROLET",
          "CHRYSLER",
          "CITROEN",
          "DACIA",
          "DAIHATSU",
          "DODGE",
          "DS",
          "FIAT",
          "FORD",
          "GM(OPEL)",
          "HONDA",
          "HYUNDAI",
          "JAGUAR",
          "JEEP",
          "KIA",
          "LAND ROVER",
          "LEXUS",
          "MAZDA",
          "MERCEDES-BENZ",
          "MG",
          "MINI",
          "MITSUBISHI",
          "NISSAN",
          "OPEL",
          "OTHER",
          "PERODUA",
          "PEUGEOT",
          "PORSCHE",
          "PRIVATE IMPORT",
          "RENAULT",
          "ROVER",
          "SAAB",
          "SEAT",
          "SKODA",
          "SMART",
          "SSANGYONG",
          "SUBARU",
          "SUZUKI",
          "TATA",
          "TESLA",
          "TOYOTA",
          "VOLKSWAGEN",
          "VOLVO"
         ],
         "xaxis": "x",
         "y": [
          18,
          759,
          843,
          0,
          9,
          17,
          342,
          null,
          0,
          0,
          null,
          120,
          2680,
          1254,
          211,
          1248,
          65,
          0,
          678,
          133,
          81,
          467,
          517,
          0,
          122,
          95,
          1431,
          null,
          null,
          0,
          595,
          0,
          92,
          1501,
          null,
          0,
          234,
          1266,
          0,
          null,
          31,
          158,
          0,
          null,
          3422,
          2622,
          302
         ],
         "yaxis": "y"
        },
        {
         "name": "2013",
         "type": "bar",
         "x": [
          "ALFA ROMEO",
          "AUDI",
          "BMW",
          "CADILLAC",
          "CHEVROLET",
          "CHRYSLER",
          "CITROEN",
          "DACIA",
          "DAIHATSU",
          "DODGE",
          "DS",
          "FIAT",
          "FORD",
          "GM(OPEL)",
          "HONDA",
          "HYUNDAI",
          "JAGUAR",
          "JEEP",
          "KIA",
          "LAND ROVER",
          "LEXUS",
          "MAZDA",
          "MERCEDES-BENZ",
          "MG",
          "MINI",
          "MITSUBISHI",
          "NISSAN",
          "OPEL",
          "OTHER",
          "PERODUA",
          "PEUGEOT",
          "PORSCHE",
          "PRIVATE IMPORT",
          "RENAULT",
          "ROVER",
          "SAAB",
          "SEAT",
          "SKODA",
          "SMART",
          "SSANGYONG",
          "SUBARU",
          "SUZUKI",
          "TATA",
          "TESLA",
          "TOYOTA",
          "VOLKSWAGEN",
          "VOLVO"
         ],
         "xaxis": "x2",
         "y": [
          0,
          938,
          922,
          null,
          2,
          0,
          260,
          null,
          1,
          0,
          null,
          64,
          1839,
          1049,
          243,
          1522,
          36,
          0,
          723,
          117,
          41,
          353,
          337,
          0,
          111,
          108,
          1208,
          null,
          93,
          4,
          634,
          7,
          16,
          592,
          null,
          1,
          532,
          1200,
          null,
          null,
          17,
          134,
          null,
          null,
          1853,
          2137,
          199
         ],
         "yaxis": "y2"
        },
        {
         "name": "2014",
         "type": "bar",
         "x": [
          "ALFA ROMEO",
          "AUDI",
          "BMW",
          "CADILLAC",
          "CHEVROLET",
          "CHRYSLER",
          "CITROEN",
          "DACIA",
          "DAIHATSU",
          "DODGE",
          "DS",
          "FIAT",
          "FORD",
          "GM(OPEL)",
          "HONDA",
          "HYUNDAI",
          "JAGUAR",
          "JEEP",
          "KIA",
          "LAND ROVER",
          "LEXUS",
          "MAZDA",
          "MERCEDES-BENZ",
          "MG",
          "MINI",
          "MITSUBISHI",
          "NISSAN",
          "OPEL",
          "OTHER",
          "PERODUA",
          "PEUGEOT",
          "PORSCHE",
          "PRIVATE IMPORT",
          "RENAULT",
          "ROVER",
          "SAAB",
          "SEAT",
          "SKODA",
          "SMART",
          "SSANGYONG",
          "SUBARU",
          "SUZUKI",
          "TATA",
          "TESLA",
          "TOYOTA",
          "VOLKSWAGEN",
          "VOLVO"
         ],
         "xaxis": "x3",
         "y": [
          36,
          4259,
          4011,
          null,
          null,
          23,
          1409,
          2693,
          null,
          null,
          null,
          601,
          9479,
          6356,
          1365,
          8158,
          190,
          0,
          4236,
          532,
          351,
          1792,
          2050,
          0,
          484,
          592,
          7025,
          null,
          127,
          6,
          2820,
          48,
          187,
          4881,
          null,
          null,
          2402,
          6295,
          null,
          null,
          157,
          653,
          null,
          null,
          10272,
          11653,
          1195
         ],
         "yaxis": "y3"
        },
        {
         "name": "2015",
         "type": "bar",
         "x": [
          "ALFA ROMEO",
          "AUDI",
          "BMW",
          "CADILLAC",
          "CHEVROLET",
          "CHRYSLER",
          "CITROEN",
          "DACIA",
          "DAIHATSU",
          "DODGE",
          "DS",
          "FIAT",
          "FORD",
          "GM(OPEL)",
          "HONDA",
          "HYUNDAI",
          "JAGUAR",
          "JEEP",
          "KIA",
          "LAND ROVER",
          "LEXUS",
          "MAZDA",
          "MERCEDES-BENZ",
          "MG",
          "MINI",
          "MITSUBISHI",
          "NISSAN",
          "OPEL",
          "OTHER",
          "PERODUA",
          "PEUGEOT",
          "PORSCHE",
          "PRIVATE IMPORT",
          "RENAULT",
          "ROVER",
          "SAAB",
          "SEAT",
          "SKODA",
          "SMART",
          "SSANGYONG",
          "SUBARU",
          "SUZUKI",
          "TATA",
          "TESLA",
          "TOYOTA",
          "VOLKSWAGEN",
          "VOLVO"
         ],
         "xaxis": "x4",
         "y": [
          43,
          5211,
          4826,
          null,
          null,
          23,
          1830,
          3784,
          null,
          null,
          null,
          634,
          12049,
          7482,
          1507,
          11483,
          268,
          93,
          5481,
          772,
          500,
          2236,
          2620,
          null,
          662,
          872,
          11196,
          null,
          0,
          2,
          3505,
          85,
          147,
          6090,
          0,
          null,
          2499,
          7816,
          null,
          107,
          199,
          881,
          null,
          null,
          13109,
          15369,
          1564
         ],
         "yaxis": "y4"
        },
        {
         "name": "2016",
         "type": "bar",
         "x": [
          "ALFA ROMEO",
          "AUDI",
          "BMW",
          "CADILLAC",
          "CHEVROLET",
          "CHRYSLER",
          "CITROEN",
          "DACIA",
          "DAIHATSU",
          "DODGE",
          "DS",
          "FIAT",
          "FORD",
          "GM(OPEL)",
          "HONDA",
          "HYUNDAI",
          "JAGUAR",
          "JEEP",
          "KIA",
          "LAND ROVER",
          "LEXUS",
          "MAZDA",
          "MERCEDES-BENZ",
          "MG",
          "MINI",
          "MITSUBISHI",
          "NISSAN",
          "OPEL",
          "OTHER",
          "PERODUA",
          "PEUGEOT",
          "PORSCHE",
          "PRIVATE IMPORT",
          "RENAULT",
          "ROVER",
          "SAAB",
          "SEAT",
          "SKODA",
          "SMART",
          "SSANGYONG",
          "SUBARU",
          "SUZUKI",
          "TATA",
          "TESLA",
          "TOYOTA",
          "VOLKSWAGEN",
          "VOLVO"
         ],
         "xaxis": "x5",
         "y": [
          43,
          6065,
          5504,
          null,
          null,
          0,
          1408,
          4386,
          null,
          null,
          13,
          717,
          14595,
          7887,
          1590,
          15442,
          556,
          99,
          6710,
          1167,
          592,
          3011,
          3774,
          null,
          774,
          942,
          11885,
          null,
          0,
          0,
          4133,
          70,
          105,
          8379,
          null,
          null,
          2791,
          9447,
          null,
          217,
          180,
          1263,
          null,
          null,
          15523,
          15408,
          1996
         ],
         "yaxis": "y5"
        },
        {
         "name": "2017",
         "type": "bar",
         "x": [
          "ALFA ROMEO",
          "AUDI",
          "BMW",
          "CADILLAC",
          "CHEVROLET",
          "CHRYSLER",
          "CITROEN",
          "DACIA",
          "DAIHATSU",
          "DODGE",
          "DS",
          "FIAT",
          "FORD",
          "GM(OPEL)",
          "HONDA",
          "HYUNDAI",
          "JAGUAR",
          "JEEP",
          "KIA",
          "LAND ROVER",
          "LEXUS",
          "MAZDA",
          "MERCEDES-BENZ",
          "MG",
          "MINI",
          "MITSUBISHI",
          "NISSAN",
          "OPEL",
          "OTHER",
          "PERODUA",
          "PEUGEOT",
          "PORSCHE",
          "PRIVATE IMPORT",
          "RENAULT",
          "ROVER",
          "SAAB",
          "SEAT",
          "SKODA",
          "SMART",
          "SSANGYONG",
          "SUBARU",
          "SUZUKI",
          "TATA",
          "TESLA",
          "TOYOTA",
          "VOLKSWAGEN",
          "VOLVO"
         ],
         "xaxis": "x6",
         "y": [
          97,
          5535,
          4643,
          null,
          null,
          0,
          1291,
          3641,
          null,
          null,
          35,
          761,
          12239,
          null,
          1331,
          11930,
          656,
          56,
          7132,
          1217,
          443,
          2678,
          4830,
          null,
          623,
          661,
          10347,
          6530,
          0,
          0,
          3884,
          77,
          79,
          8328,
          null,
          null,
          3301,
          9029,
          null,
          103,
          169,
          1341,
          null,
          49,
          12684,
          13828,
          1808
         ],
         "yaxis": "y6"
        },
        {
         "name": "2018",
         "type": "bar",
         "x": [
          "ALFA ROMEO",
          "AUDI",
          "BMW",
          "CADILLAC",
          "CHEVROLET",
          "CHRYSLER",
          "CITROEN",
          "DACIA",
          "DAIHATSU",
          "DODGE",
          "DS",
          "FIAT",
          "FORD",
          "GM(OPEL)",
          "HONDA",
          "HYUNDAI",
          "JAGUAR",
          "JEEP",
          "KIA",
          "LAND ROVER",
          "LEXUS",
          "MAZDA",
          "MERCEDES-BENZ",
          "MG",
          "MINI",
          "MITSUBISHI",
          "NISSAN",
          "OPEL",
          "OTHER",
          "PERODUA",
          "PEUGEOT",
          "PORSCHE",
          "PRIVATE IMPORT",
          "RENAULT",
          "ROVER",
          "SAAB",
          "SEAT",
          "SKODA",
          "SMART",
          "SSANGYONG",
          "SUBARU",
          "SUZUKI",
          "TATA",
          "TESLA",
          "TOYOTA",
          "VOLKSWAGEN",
          "VOLVO"
         ],
         "xaxis": "x7",
         "y": [
          87,
          4913,
          4280,
          null,
          null,
          0,
          1115,
          3624,
          null,
          null,
          14,
          657,
          11285,
          null,
          1333,
          11633,
          608,
          92,
          7326,
          1024,
          484,
          2209,
          4116,
          null,
          555,
          768,
          9701,
          4810,
          0,
          0,
          5586,
          66,
          71,
          7176,
          null,
          null,
          3688,
          9116,
          null,
          81,
          195,
          1286,
          null,
          120,
          12036,
          13772,
          1730
         ],
         "yaxis": "y7"
        },
        {
         "name": "2019",
         "type": "bar",
         "x": [
          "ALFA ROMEO",
          "AUDI",
          "BMW",
          "CADILLAC",
          "CHEVROLET",
          "CHRYSLER",
          "CITROEN",
          "DACIA",
          "DAIHATSU",
          "DODGE",
          "DS",
          "FIAT",
          "FORD",
          "GM(OPEL)",
          "HONDA",
          "HYUNDAI",
          "JAGUAR",
          "JEEP",
          "KIA",
          "LAND ROVER",
          "LEXUS",
          "MAZDA",
          "MERCEDES-BENZ",
          "MG",
          "MINI",
          "MITSUBISHI",
          "NISSAN",
          "OPEL",
          "OTHER",
          "PERODUA",
          "PEUGEOT",
          "PORSCHE",
          "PRIVATE IMPORT",
          "RENAULT",
          "ROVER",
          "SAAB",
          "SEAT",
          "SKODA",
          "SMART",
          "SSANGYONG",
          "SUBARU",
          "SUZUKI",
          "TATA",
          "TESLA",
          "TOYOTA",
          "VOLKSWAGEN",
          "VOLVO"
         ],
         "xaxis": "x8",
         "y": [
          39,
          4575,
          4005,
          null,
          null,
          0,
          926,
          3018,
          null,
          null,
          38,
          400,
          9620,
          null,
          1326,
          11052,
          459,
          115,
          6453,
          1136,
          501,
          1872,
          3298,
          null,
          523,
          909,
          8202,
          4202,
          0,
          0,
          5619,
          65,
          62,
          6550,
          null,
          null,
          4087,
          9300,
          null,
          47,
          96,
          1216,
          null,
          270,
          12123,
          13506,
          1490
         ],
         "yaxis": "y8"
        }
       ],
       "layout": {
        "annotations": [
         {
          "font": {
           "size": 16
          },
          "showarrow": false,
          "text": "2012",
          "x": 0.225,
          "xanchor": "center",
          "xref": "paper",
          "y": 1,
          "yanchor": "bottom",
          "yref": "paper"
         },
         {
          "font": {
           "size": 16
          },
          "showarrow": false,
          "text": "2013",
          "x": 0.775,
          "xanchor": "center",
          "xref": "paper",
          "y": 1,
          "yanchor": "bottom",
          "yref": "paper"
         },
         {
          "font": {
           "size": 16
          },
          "showarrow": false,
          "text": "2014",
          "x": 0.225,
          "xanchor": "center",
          "xref": "paper",
          "y": 0.71875,
          "yanchor": "bottom",
          "yref": "paper"
         },
         {
          "font": {
           "size": 16
          },
          "showarrow": false,
          "text": "2015",
          "x": 0.775,
          "xanchor": "center",
          "xref": "paper",
          "y": 0.71875,
          "yanchor": "bottom",
          "yref": "paper"
         },
         {
          "font": {
           "size": 16
          },
          "showarrow": false,
          "text": "2016",
          "x": 0.225,
          "xanchor": "center",
          "xref": "paper",
          "y": 0.4375,
          "yanchor": "bottom",
          "yref": "paper"
         },
         {
          "font": {
           "size": 16
          },
          "showarrow": false,
          "text": "2017",
          "x": 0.775,
          "xanchor": "center",
          "xref": "paper",
          "y": 0.4375,
          "yanchor": "bottom",
          "yref": "paper"
         },
         {
          "font": {
           "size": 16
          },
          "showarrow": false,
          "text": "2018",
          "x": 0.225,
          "xanchor": "center",
          "xref": "paper",
          "y": 0.15625,
          "yanchor": "bottom",
          "yref": "paper"
         },
         {
          "font": {
           "size": 16
          },
          "showarrow": false,
          "text": "2019",
          "x": 0.775,
          "xanchor": "center",
          "xref": "paper",
          "y": 0.15625,
          "yanchor": "bottom",
          "yref": "paper"
         }
        ],
        "height": 2000,
        "template": {
         "data": {
          "bar": [
           {
            "error_x": {
             "color": "#2a3f5f"
            },
            "error_y": {
             "color": "#2a3f5f"
            },
            "marker": {
             "line": {
              "color": "#E5ECF6",
              "width": 0.5
             },
             "pattern": {
              "fillmode": "overlay",
              "size": 10,
              "solidity": 0.2
             }
            },
            "type": "bar"
           }
          ],
          "barpolar": [
           {
            "marker": {
             "line": {
              "color": "#E5ECF6",
              "width": 0.5
             },
             "pattern": {
              "fillmode": "overlay",
              "size": 10,
              "solidity": 0.2
             }
            },
            "type": "barpolar"
           }
          ],
          "carpet": [
           {
            "aaxis": {
             "endlinecolor": "#2a3f5f",
             "gridcolor": "white",
             "linecolor": "white",
             "minorgridcolor": "white",
             "startlinecolor": "#2a3f5f"
            },
            "baxis": {
             "endlinecolor": "#2a3f5f",
             "gridcolor": "white",
             "linecolor": "white",
             "minorgridcolor": "white",
             "startlinecolor": "#2a3f5f"
            },
            "type": "carpet"
           }
          ],
          "choropleth": [
           {
            "colorbar": {
             "outlinewidth": 0,
             "ticks": ""
            },
            "type": "choropleth"
           }
          ],
          "contour": [
           {
            "colorbar": {
             "outlinewidth": 0,
             "ticks": ""
            },
            "colorscale": [
             [
              0,
              "#0d0887"
             ],
             [
              0.1111111111111111,
              "#46039f"
             ],
             [
              0.2222222222222222,
              "#7201a8"
             ],
             [
              0.3333333333333333,
              "#9c179e"
             ],
             [
              0.4444444444444444,
              "#bd3786"
             ],
             [
              0.5555555555555556,
              "#d8576b"
             ],
             [
              0.6666666666666666,
              "#ed7953"
             ],
             [
              0.7777777777777778,
              "#fb9f3a"
             ],
             [
              0.8888888888888888,
              "#fdca26"
             ],
             [
              1,
              "#f0f921"
             ]
            ],
            "type": "contour"
           }
          ],
          "contourcarpet": [
           {
            "colorbar": {
             "outlinewidth": 0,
             "ticks": ""
            },
            "type": "contourcarpet"
           }
          ],
          "heatmap": [
           {
            "colorbar": {
             "outlinewidth": 0,
             "ticks": ""
            },
            "colorscale": [
             [
              0,
              "#0d0887"
             ],
             [
              0.1111111111111111,
              "#46039f"
             ],
             [
              0.2222222222222222,
              "#7201a8"
             ],
             [
              0.3333333333333333,
              "#9c179e"
             ],
             [
              0.4444444444444444,
              "#bd3786"
             ],
             [
              0.5555555555555556,
              "#d8576b"
             ],
             [
              0.6666666666666666,
              "#ed7953"
             ],
             [
              0.7777777777777778,
              "#fb9f3a"
             ],
             [
              0.8888888888888888,
              "#fdca26"
             ],
             [
              1,
              "#f0f921"
             ]
            ],
            "type": "heatmap"
           }
          ],
          "heatmapgl": [
           {
            "colorbar": {
             "outlinewidth": 0,
             "ticks": ""
            },
            "colorscale": [
             [
              0,
              "#0d0887"
             ],
             [
              0.1111111111111111,
              "#46039f"
             ],
             [
              0.2222222222222222,
              "#7201a8"
             ],
             [
              0.3333333333333333,
              "#9c179e"
             ],
             [
              0.4444444444444444,
              "#bd3786"
             ],
             [
              0.5555555555555556,
              "#d8576b"
             ],
             [
              0.6666666666666666,
              "#ed7953"
             ],
             [
              0.7777777777777778,
              "#fb9f3a"
             ],
             [
              0.8888888888888888,
              "#fdca26"
             ],
             [
              1,
              "#f0f921"
             ]
            ],
            "type": "heatmapgl"
           }
          ],
          "histogram": [
           {
            "marker": {
             "pattern": {
              "fillmode": "overlay",
              "size": 10,
              "solidity": 0.2
             }
            },
            "type": "histogram"
           }
          ],
          "histogram2d": [
           {
            "colorbar": {
             "outlinewidth": 0,
             "ticks": ""
            },
            "colorscale": [
             [
              0,
              "#0d0887"
             ],
             [
              0.1111111111111111,
              "#46039f"
             ],
             [
              0.2222222222222222,
              "#7201a8"
             ],
             [
              0.3333333333333333,
              "#9c179e"
             ],
             [
              0.4444444444444444,
              "#bd3786"
             ],
             [
              0.5555555555555556,
              "#d8576b"
             ],
             [
              0.6666666666666666,
              "#ed7953"
             ],
             [
              0.7777777777777778,
              "#fb9f3a"
             ],
             [
              0.8888888888888888,
              "#fdca26"
             ],
             [
              1,
              "#f0f921"
             ]
            ],
            "type": "histogram2d"
           }
          ],
          "histogram2dcontour": [
           {
            "colorbar": {
             "outlinewidth": 0,
             "ticks": ""
            },
            "colorscale": [
             [
              0,
              "#0d0887"
             ],
             [
              0.1111111111111111,
              "#46039f"
             ],
             [
              0.2222222222222222,
              "#7201a8"
             ],
             [
              0.3333333333333333,
              "#9c179e"
             ],
             [
              0.4444444444444444,
              "#bd3786"
             ],
             [
              0.5555555555555556,
              "#d8576b"
             ],
             [
              0.6666666666666666,
              "#ed7953"
             ],
             [
              0.7777777777777778,
              "#fb9f3a"
             ],
             [
              0.8888888888888888,
              "#fdca26"
             ],
             [
              1,
              "#f0f921"
             ]
            ],
            "type": "histogram2dcontour"
           }
          ],
          "mesh3d": [
           {
            "colorbar": {
             "outlinewidth": 0,
             "ticks": ""
            },
            "type": "mesh3d"
           }
          ],
          "parcoords": [
           {
            "line": {
             "colorbar": {
              "outlinewidth": 0,
              "ticks": ""
             }
            },
            "type": "parcoords"
           }
          ],
          "pie": [
           {
            "automargin": true,
            "type": "pie"
           }
          ],
          "scatter": [
           {
            "marker": {
             "colorbar": {
              "outlinewidth": 0,
              "ticks": ""
             }
            },
            "type": "scatter"
           }
          ],
          "scatter3d": [
           {
            "line": {
             "colorbar": {
              "outlinewidth": 0,
              "ticks": ""
             }
            },
            "marker": {
             "colorbar": {
              "outlinewidth": 0,
              "ticks": ""
             }
            },
            "type": "scatter3d"
           }
          ],
          "scattercarpet": [
           {
            "marker": {
             "colorbar": {
              "outlinewidth": 0,
              "ticks": ""
             }
            },
            "type": "scattercarpet"
           }
          ],
          "scattergeo": [
           {
            "marker": {
             "colorbar": {
              "outlinewidth": 0,
              "ticks": ""
             }
            },
            "type": "scattergeo"
           }
          ],
          "scattergl": [
           {
            "marker": {
             "colorbar": {
              "outlinewidth": 0,
              "ticks": ""
             }
            },
            "type": "scattergl"
           }
          ],
          "scattermapbox": [
           {
            "marker": {
             "colorbar": {
              "outlinewidth": 0,
              "ticks": ""
             }
            },
            "type": "scattermapbox"
           }
          ],
          "scatterpolar": [
           {
            "marker": {
             "colorbar": {
              "outlinewidth": 0,
              "ticks": ""
             }
            },
            "type": "scatterpolar"
           }
          ],
          "scatterpolargl": [
           {
            "marker": {
             "colorbar": {
              "outlinewidth": 0,
              "ticks": ""
             }
            },
            "type": "scatterpolargl"
           }
          ],
          "scatterternary": [
           {
            "marker": {
             "colorbar": {
              "outlinewidth": 0,
              "ticks": ""
             }
            },
            "type": "scatterternary"
           }
          ],
          "surface": [
           {
            "colorbar": {
             "outlinewidth": 0,
             "ticks": ""
            },
            "colorscale": [
             [
              0,
              "#0d0887"
             ],
             [
              0.1111111111111111,
              "#46039f"
             ],
             [
              0.2222222222222222,
              "#7201a8"
             ],
             [
              0.3333333333333333,
              "#9c179e"
             ],
             [
              0.4444444444444444,
              "#bd3786"
             ],
             [
              0.5555555555555556,
              "#d8576b"
             ],
             [
              0.6666666666666666,
              "#ed7953"
             ],
             [
              0.7777777777777778,
              "#fb9f3a"
             ],
             [
              0.8888888888888888,
              "#fdca26"
             ],
             [
              1,
              "#f0f921"
             ]
            ],
            "type": "surface"
           }
          ],
          "table": [
           {
            "cells": {
             "fill": {
              "color": "#EBF0F8"
             },
             "line": {
              "color": "white"
             }
            },
            "header": {
             "fill": {
              "color": "#C8D4E3"
             },
             "line": {
              "color": "white"
             }
            },
            "type": "table"
           }
          ]
         },
         "layout": {
          "annotationdefaults": {
           "arrowcolor": "#2a3f5f",
           "arrowhead": 0,
           "arrowwidth": 1
          },
          "autotypenumbers": "strict",
          "coloraxis": {
           "colorbar": {
            "outlinewidth": 0,
            "ticks": ""
           }
          },
          "colorscale": {
           "diverging": [
            [
             0,
             "#8e0152"
            ],
            [
             0.1,
             "#c51b7d"
            ],
            [
             0.2,
             "#de77ae"
            ],
            [
             0.3,
             "#f1b6da"
            ],
            [
             0.4,
             "#fde0ef"
            ],
            [
             0.5,
             "#f7f7f7"
            ],
            [
             0.6,
             "#e6f5d0"
            ],
            [
             0.7,
             "#b8e186"
            ],
            [
             0.8,
             "#7fbc41"
            ],
            [
             0.9,
             "#4d9221"
            ],
            [
             1,
             "#276419"
            ]
           ],
           "sequential": [
            [
             0,
             "#0d0887"
            ],
            [
             0.1111111111111111,
             "#46039f"
            ],
            [
             0.2222222222222222,
             "#7201a8"
            ],
            [
             0.3333333333333333,
             "#9c179e"
            ],
            [
             0.4444444444444444,
             "#bd3786"
            ],
            [
             0.5555555555555556,
             "#d8576b"
            ],
            [
             0.6666666666666666,
             "#ed7953"
            ],
            [
             0.7777777777777778,
             "#fb9f3a"
            ],
            [
             0.8888888888888888,
             "#fdca26"
            ],
            [
             1,
             "#f0f921"
            ]
           ],
           "sequentialminus": [
            [
             0,
             "#0d0887"
            ],
            [
             0.1111111111111111,
             "#46039f"
            ],
            [
             0.2222222222222222,
             "#7201a8"
            ],
            [
             0.3333333333333333,
             "#9c179e"
            ],
            [
             0.4444444444444444,
             "#bd3786"
            ],
            [
             0.5555555555555556,
             "#d8576b"
            ],
            [
             0.6666666666666666,
             "#ed7953"
            ],
            [
             0.7777777777777778,
             "#fb9f3a"
            ],
            [
             0.8888888888888888,
             "#fdca26"
            ],
            [
             1,
             "#f0f921"
            ]
           ]
          },
          "colorway": [
           "#636efa",
           "#EF553B",
           "#00cc96",
           "#ab63fa",
           "#FFA15A",
           "#19d3f3",
           "#FF6692",
           "#B6E880",
           "#FF97FF",
           "#FECB52"
          ],
          "font": {
           "color": "#2a3f5f"
          },
          "geo": {
           "bgcolor": "white",
           "lakecolor": "white",
           "landcolor": "#E5ECF6",
           "showlakes": true,
           "showland": true,
           "subunitcolor": "white"
          },
          "hoverlabel": {
           "align": "left"
          },
          "hovermode": "closest",
          "mapbox": {
           "style": "light"
          },
          "paper_bgcolor": "white",
          "plot_bgcolor": "#E5ECF6",
          "polar": {
           "angularaxis": {
            "gridcolor": "white",
            "linecolor": "white",
            "ticks": ""
           },
           "bgcolor": "#E5ECF6",
           "radialaxis": {
            "gridcolor": "white",
            "linecolor": "white",
            "ticks": ""
           }
          },
          "scene": {
           "xaxis": {
            "backgroundcolor": "#E5ECF6",
            "gridcolor": "white",
            "gridwidth": 2,
            "linecolor": "white",
            "showbackground": true,
            "ticks": "",
            "zerolinecolor": "white"
           },
           "yaxis": {
            "backgroundcolor": "#E5ECF6",
            "gridcolor": "white",
            "gridwidth": 2,
            "linecolor": "white",
            "showbackground": true,
            "ticks": "",
            "zerolinecolor": "white"
           },
           "zaxis": {
            "backgroundcolor": "#E5ECF6",
            "gridcolor": "white",
            "gridwidth": 2,
            "linecolor": "white",
            "showbackground": true,
            "ticks": "",
            "zerolinecolor": "white"
           }
          },
          "shapedefaults": {
           "line": {
            "color": "#2a3f5f"
           }
          },
          "ternary": {
           "aaxis": {
            "gridcolor": "white",
            "linecolor": "white",
            "ticks": ""
           },
           "baxis": {
            "gridcolor": "white",
            "linecolor": "white",
            "ticks": ""
           },
           "bgcolor": "#E5ECF6",
           "caxis": {
            "gridcolor": "white",
            "linecolor": "white",
            "ticks": ""
           }
          },
          "title": {
           "x": 0.05
          },
          "xaxis": {
           "automargin": true,
           "gridcolor": "white",
           "linecolor": "white",
           "ticks": "",
           "title": {
            "standoff": 15
           },
           "zerolinecolor": "white",
           "zerolinewidth": 2
          },
          "yaxis": {
           "automargin": true,
           "gridcolor": "white",
           "linecolor": "white",
           "ticks": "",
           "title": {
            "standoff": 15
           },
           "zerolinecolor": "white",
           "zerolinewidth": 2
          }
         }
        },
        "width": 1200,
        "xaxis": {
         "anchor": "y",
         "domain": [
          0,
          0.45
         ]
        },
        "xaxis2": {
         "anchor": "y2",
         "domain": [
          0.55,
          1
         ]
        },
        "xaxis3": {
         "anchor": "y3",
         "domain": [
          0,
          0.45
         ]
        },
        "xaxis4": {
         "anchor": "y4",
         "domain": [
          0.55,
          1
         ]
        },
        "xaxis5": {
         "anchor": "y5",
         "domain": [
          0,
          0.45
         ]
        },
        "xaxis6": {
         "anchor": "y6",
         "domain": [
          0.55,
          1
         ]
        },
        "xaxis7": {
         "anchor": "y7",
         "domain": [
          0,
          0.45
         ]
        },
        "xaxis8": {
         "anchor": "y8",
         "domain": [
          0.55,
          1
         ]
        },
        "yaxis": {
         "anchor": "x",
         "domain": [
          0.84375,
          1
         ]
        },
        "yaxis2": {
         "anchor": "x2",
         "domain": [
          0.84375,
          1
         ]
        },
        "yaxis3": {
         "anchor": "x3",
         "domain": [
          0.5625,
          0.71875
         ]
        },
        "yaxis4": {
         "anchor": "x4",
         "domain": [
          0.5625,
          0.71875
         ]
        },
        "yaxis5": {
         "anchor": "x5",
         "domain": [
          0.28125,
          0.4375
         ]
        },
        "yaxis6": {
         "anchor": "x6",
         "domain": [
          0.28125,
          0.4375
         ]
        },
        "yaxis7": {
         "anchor": "x7",
         "domain": [
          0,
          0.15625
         ]
        },
        "yaxis8": {
         "anchor": "x8",
         "domain": [
          0,
          0.15625
         ]
        }
       }
      }
     },
     "metadata": {},
     "output_type": "display_data"
    }
   ],
   "source": [
    "rows=4\n",
    "cols=2\n",
    "fig = make_subplots(rows=rows, cols=cols, subplot_titles=(pivot_table.columns[1:]))\n",
    "x = 1\n",
    "for i in range(1, rows + 1):\n",
    "    for j in range(1, cols + 1):\n",
    "        fig.add_trace(go.Bar(x =pivot_table['Cars'], y = pivot_table[pivot_table.columns[x]], name=pivot_table.columns[x]) ,\n",
    "                     row=i,\n",
    "                     col=j)\n",
    "\n",
    "        x=x+1\n",
    "\n",
    "fig.update_layout(height=2000, width=1200)\n",
    "fig.show()\n",
    "\n",
    "\n",
    "\n",
    "# fig = px.box(car_data, x=\"Year\", y=\"VALUE\", color=\"Brand\")\n",
    "# fig"
   ]
  },
  {
   "cell_type": "code",
   "execution_count": 13,
   "metadata": {},
   "outputs": [
    {
     "data": {
      "text/html": [
       "<div>\n",
       "<style scoped>\n",
       "    .dataframe tbody tr th:only-of-type {\n",
       "        vertical-align: middle;\n",
       "    }\n",
       "\n",
       "    .dataframe tbody tr th {\n",
       "        vertical-align: top;\n",
       "    }\n",
       "\n",
       "    .dataframe thead th {\n",
       "        text-align: right;\n",
       "    }\n",
       "</style>\n",
       "<table border=\"1\" class=\"dataframe\">\n",
       "  <thead>\n",
       "    <tr style=\"text-align: right;\">\n",
       "      <th></th>\n",
       "      <th>Year</th>\n",
       "      <th>Cars Sold</th>\n",
       "    </tr>\n",
       "  </thead>\n",
       "  <tbody>\n",
       "    <tr>\n",
       "      <td>0</td>\n",
       "      <td>2012</td>\n",
       "      <td>21313</td>\n",
       "    </tr>\n",
       "    <tr>\n",
       "      <td>1</td>\n",
       "      <td>2013</td>\n",
       "      <td>17293</td>\n",
       "    </tr>\n",
       "    <tr>\n",
       "      <td>2</td>\n",
       "      <td>2014</td>\n",
       "      <td>96338</td>\n",
       "    </tr>\n",
       "    <tr>\n",
       "      <td>3</td>\n",
       "      <td>2015</td>\n",
       "      <td>124945</td>\n",
       "    </tr>\n",
       "    <tr>\n",
       "      <td>4</td>\n",
       "      <td>2016</td>\n",
       "      <td>146672</td>\n",
       "    </tr>\n",
       "    <tr>\n",
       "      <td>5</td>\n",
       "      <td>2017</td>\n",
       "      <td>131356</td>\n",
       "    </tr>\n",
       "    <tr>\n",
       "      <td>6</td>\n",
       "      <td>2018</td>\n",
       "      <td>125557</td>\n",
       "    </tr>\n",
       "    <tr>\n",
       "      <td>7</td>\n",
       "      <td>2019</td>\n",
       "      <td>117100</td>\n",
       "    </tr>\n",
       "  </tbody>\n",
       "</table>\n",
       "</div>"
      ],
      "text/plain": [
       "   Year  Cars Sold\n",
       "0  2012      21313\n",
       "1  2013      17293\n",
       "2  2014      96338\n",
       "3  2015     124945\n",
       "4  2016     146672\n",
       "5  2017     131356\n",
       "6  2018     125557\n",
       "7  2019     117100"
      ]
     },
     "execution_count": 13,
     "metadata": {},
     "output_type": "execute_result"
    }
   ],
   "source": [
    "yearly_grouped_car = car_data.groupby(['Year']).sum().reset_index()\n",
    "yearly_grouped_car.drop(['index'], axis=1, inplace=True)\n",
    "yearly_grouped_car"
   ]
  },
  {
   "cell_type": "code",
   "execution_count": 14,
   "metadata": {},
   "outputs": [
    {
     "data": {
      "application/vnd.plotly.v1+json": {
       "config": {
        "plotlyServerURL": "https://plot.ly"
       },
       "data": [
        {
         "hovertemplate": "Year=%{x}<br>Cars Sold=%{y}<extra></extra>",
         "legendgroup": "",
         "line": {
          "color": "#636efa",
          "dash": "solid"
         },
         "marker": {
          "symbol": "circle"
         },
         "mode": "lines",
         "name": "",
         "orientation": "v",
         "showlegend": false,
         "type": "scatter",
         "x": [
          2012,
          2013,
          2014,
          2015,
          2016,
          2017,
          2018,
          2019
         ],
         "xaxis": "x",
         "y": [
          21313,
          17293,
          96338,
          124945,
          146672,
          131356,
          125557,
          117100
         ],
         "yaxis": "y"
        }
       ],
       "layout": {
        "legend": {
         "tracegroupgap": 0
        },
        "margin": {
         "t": 60
        },
        "template": {
         "data": {
          "bar": [
           {
            "error_x": {
             "color": "#2a3f5f"
            },
            "error_y": {
             "color": "#2a3f5f"
            },
            "marker": {
             "line": {
              "color": "#E5ECF6",
              "width": 0.5
             },
             "pattern": {
              "fillmode": "overlay",
              "size": 10,
              "solidity": 0.2
             }
            },
            "type": "bar"
           }
          ],
          "barpolar": [
           {
            "marker": {
             "line": {
              "color": "#E5ECF6",
              "width": 0.5
             },
             "pattern": {
              "fillmode": "overlay",
              "size": 10,
              "solidity": 0.2
             }
            },
            "type": "barpolar"
           }
          ],
          "carpet": [
           {
            "aaxis": {
             "endlinecolor": "#2a3f5f",
             "gridcolor": "white",
             "linecolor": "white",
             "minorgridcolor": "white",
             "startlinecolor": "#2a3f5f"
            },
            "baxis": {
             "endlinecolor": "#2a3f5f",
             "gridcolor": "white",
             "linecolor": "white",
             "minorgridcolor": "white",
             "startlinecolor": "#2a3f5f"
            },
            "type": "carpet"
           }
          ],
          "choropleth": [
           {
            "colorbar": {
             "outlinewidth": 0,
             "ticks": ""
            },
            "type": "choropleth"
           }
          ],
          "contour": [
           {
            "colorbar": {
             "outlinewidth": 0,
             "ticks": ""
            },
            "colorscale": [
             [
              0,
              "#0d0887"
             ],
             [
              0.1111111111111111,
              "#46039f"
             ],
             [
              0.2222222222222222,
              "#7201a8"
             ],
             [
              0.3333333333333333,
              "#9c179e"
             ],
             [
              0.4444444444444444,
              "#bd3786"
             ],
             [
              0.5555555555555556,
              "#d8576b"
             ],
             [
              0.6666666666666666,
              "#ed7953"
             ],
             [
              0.7777777777777778,
              "#fb9f3a"
             ],
             [
              0.8888888888888888,
              "#fdca26"
             ],
             [
              1,
              "#f0f921"
             ]
            ],
            "type": "contour"
           }
          ],
          "contourcarpet": [
           {
            "colorbar": {
             "outlinewidth": 0,
             "ticks": ""
            },
            "type": "contourcarpet"
           }
          ],
          "heatmap": [
           {
            "colorbar": {
             "outlinewidth": 0,
             "ticks": ""
            },
            "colorscale": [
             [
              0,
              "#0d0887"
             ],
             [
              0.1111111111111111,
              "#46039f"
             ],
             [
              0.2222222222222222,
              "#7201a8"
             ],
             [
              0.3333333333333333,
              "#9c179e"
             ],
             [
              0.4444444444444444,
              "#bd3786"
             ],
             [
              0.5555555555555556,
              "#d8576b"
             ],
             [
              0.6666666666666666,
              "#ed7953"
             ],
             [
              0.7777777777777778,
              "#fb9f3a"
             ],
             [
              0.8888888888888888,
              "#fdca26"
             ],
             [
              1,
              "#f0f921"
             ]
            ],
            "type": "heatmap"
           }
          ],
          "heatmapgl": [
           {
            "colorbar": {
             "outlinewidth": 0,
             "ticks": ""
            },
            "colorscale": [
             [
              0,
              "#0d0887"
             ],
             [
              0.1111111111111111,
              "#46039f"
             ],
             [
              0.2222222222222222,
              "#7201a8"
             ],
             [
              0.3333333333333333,
              "#9c179e"
             ],
             [
              0.4444444444444444,
              "#bd3786"
             ],
             [
              0.5555555555555556,
              "#d8576b"
             ],
             [
              0.6666666666666666,
              "#ed7953"
             ],
             [
              0.7777777777777778,
              "#fb9f3a"
             ],
             [
              0.8888888888888888,
              "#fdca26"
             ],
             [
              1,
              "#f0f921"
             ]
            ],
            "type": "heatmapgl"
           }
          ],
          "histogram": [
           {
            "marker": {
             "pattern": {
              "fillmode": "overlay",
              "size": 10,
              "solidity": 0.2
             }
            },
            "type": "histogram"
           }
          ],
          "histogram2d": [
           {
            "colorbar": {
             "outlinewidth": 0,
             "ticks": ""
            },
            "colorscale": [
             [
              0,
              "#0d0887"
             ],
             [
              0.1111111111111111,
              "#46039f"
             ],
             [
              0.2222222222222222,
              "#7201a8"
             ],
             [
              0.3333333333333333,
              "#9c179e"
             ],
             [
              0.4444444444444444,
              "#bd3786"
             ],
             [
              0.5555555555555556,
              "#d8576b"
             ],
             [
              0.6666666666666666,
              "#ed7953"
             ],
             [
              0.7777777777777778,
              "#fb9f3a"
             ],
             [
              0.8888888888888888,
              "#fdca26"
             ],
             [
              1,
              "#f0f921"
             ]
            ],
            "type": "histogram2d"
           }
          ],
          "histogram2dcontour": [
           {
            "colorbar": {
             "outlinewidth": 0,
             "ticks": ""
            },
            "colorscale": [
             [
              0,
              "#0d0887"
             ],
             [
              0.1111111111111111,
              "#46039f"
             ],
             [
              0.2222222222222222,
              "#7201a8"
             ],
             [
              0.3333333333333333,
              "#9c179e"
             ],
             [
              0.4444444444444444,
              "#bd3786"
             ],
             [
              0.5555555555555556,
              "#d8576b"
             ],
             [
              0.6666666666666666,
              "#ed7953"
             ],
             [
              0.7777777777777778,
              "#fb9f3a"
             ],
             [
              0.8888888888888888,
              "#fdca26"
             ],
             [
              1,
              "#f0f921"
             ]
            ],
            "type": "histogram2dcontour"
           }
          ],
          "mesh3d": [
           {
            "colorbar": {
             "outlinewidth": 0,
             "ticks": ""
            },
            "type": "mesh3d"
           }
          ],
          "parcoords": [
           {
            "line": {
             "colorbar": {
              "outlinewidth": 0,
              "ticks": ""
             }
            },
            "type": "parcoords"
           }
          ],
          "pie": [
           {
            "automargin": true,
            "type": "pie"
           }
          ],
          "scatter": [
           {
            "marker": {
             "colorbar": {
              "outlinewidth": 0,
              "ticks": ""
             }
            },
            "type": "scatter"
           }
          ],
          "scatter3d": [
           {
            "line": {
             "colorbar": {
              "outlinewidth": 0,
              "ticks": ""
             }
            },
            "marker": {
             "colorbar": {
              "outlinewidth": 0,
              "ticks": ""
             }
            },
            "type": "scatter3d"
           }
          ],
          "scattercarpet": [
           {
            "marker": {
             "colorbar": {
              "outlinewidth": 0,
              "ticks": ""
             }
            },
            "type": "scattercarpet"
           }
          ],
          "scattergeo": [
           {
            "marker": {
             "colorbar": {
              "outlinewidth": 0,
              "ticks": ""
             }
            },
            "type": "scattergeo"
           }
          ],
          "scattergl": [
           {
            "marker": {
             "colorbar": {
              "outlinewidth": 0,
              "ticks": ""
             }
            },
            "type": "scattergl"
           }
          ],
          "scattermapbox": [
           {
            "marker": {
             "colorbar": {
              "outlinewidth": 0,
              "ticks": ""
             }
            },
            "type": "scattermapbox"
           }
          ],
          "scatterpolar": [
           {
            "marker": {
             "colorbar": {
              "outlinewidth": 0,
              "ticks": ""
             }
            },
            "type": "scatterpolar"
           }
          ],
          "scatterpolargl": [
           {
            "marker": {
             "colorbar": {
              "outlinewidth": 0,
              "ticks": ""
             }
            },
            "type": "scatterpolargl"
           }
          ],
          "scatterternary": [
           {
            "marker": {
             "colorbar": {
              "outlinewidth": 0,
              "ticks": ""
             }
            },
            "type": "scatterternary"
           }
          ],
          "surface": [
           {
            "colorbar": {
             "outlinewidth": 0,
             "ticks": ""
            },
            "colorscale": [
             [
              0,
              "#0d0887"
             ],
             [
              0.1111111111111111,
              "#46039f"
             ],
             [
              0.2222222222222222,
              "#7201a8"
             ],
             [
              0.3333333333333333,
              "#9c179e"
             ],
             [
              0.4444444444444444,
              "#bd3786"
             ],
             [
              0.5555555555555556,
              "#d8576b"
             ],
             [
              0.6666666666666666,
              "#ed7953"
             ],
             [
              0.7777777777777778,
              "#fb9f3a"
             ],
             [
              0.8888888888888888,
              "#fdca26"
             ],
             [
              1,
              "#f0f921"
             ]
            ],
            "type": "surface"
           }
          ],
          "table": [
           {
            "cells": {
             "fill": {
              "color": "#EBF0F8"
             },
             "line": {
              "color": "white"
             }
            },
            "header": {
             "fill": {
              "color": "#C8D4E3"
             },
             "line": {
              "color": "white"
             }
            },
            "type": "table"
           }
          ]
         },
         "layout": {
          "annotationdefaults": {
           "arrowcolor": "#2a3f5f",
           "arrowhead": 0,
           "arrowwidth": 1
          },
          "autotypenumbers": "strict",
          "coloraxis": {
           "colorbar": {
            "outlinewidth": 0,
            "ticks": ""
           }
          },
          "colorscale": {
           "diverging": [
            [
             0,
             "#8e0152"
            ],
            [
             0.1,
             "#c51b7d"
            ],
            [
             0.2,
             "#de77ae"
            ],
            [
             0.3,
             "#f1b6da"
            ],
            [
             0.4,
             "#fde0ef"
            ],
            [
             0.5,
             "#f7f7f7"
            ],
            [
             0.6,
             "#e6f5d0"
            ],
            [
             0.7,
             "#b8e186"
            ],
            [
             0.8,
             "#7fbc41"
            ],
            [
             0.9,
             "#4d9221"
            ],
            [
             1,
             "#276419"
            ]
           ],
           "sequential": [
            [
             0,
             "#0d0887"
            ],
            [
             0.1111111111111111,
             "#46039f"
            ],
            [
             0.2222222222222222,
             "#7201a8"
            ],
            [
             0.3333333333333333,
             "#9c179e"
            ],
            [
             0.4444444444444444,
             "#bd3786"
            ],
            [
             0.5555555555555556,
             "#d8576b"
            ],
            [
             0.6666666666666666,
             "#ed7953"
            ],
            [
             0.7777777777777778,
             "#fb9f3a"
            ],
            [
             0.8888888888888888,
             "#fdca26"
            ],
            [
             1,
             "#f0f921"
            ]
           ],
           "sequentialminus": [
            [
             0,
             "#0d0887"
            ],
            [
             0.1111111111111111,
             "#46039f"
            ],
            [
             0.2222222222222222,
             "#7201a8"
            ],
            [
             0.3333333333333333,
             "#9c179e"
            ],
            [
             0.4444444444444444,
             "#bd3786"
            ],
            [
             0.5555555555555556,
             "#d8576b"
            ],
            [
             0.6666666666666666,
             "#ed7953"
            ],
            [
             0.7777777777777778,
             "#fb9f3a"
            ],
            [
             0.8888888888888888,
             "#fdca26"
            ],
            [
             1,
             "#f0f921"
            ]
           ]
          },
          "colorway": [
           "#636efa",
           "#EF553B",
           "#00cc96",
           "#ab63fa",
           "#FFA15A",
           "#19d3f3",
           "#FF6692",
           "#B6E880",
           "#FF97FF",
           "#FECB52"
          ],
          "font": {
           "color": "#2a3f5f"
          },
          "geo": {
           "bgcolor": "white",
           "lakecolor": "white",
           "landcolor": "#E5ECF6",
           "showlakes": true,
           "showland": true,
           "subunitcolor": "white"
          },
          "hoverlabel": {
           "align": "left"
          },
          "hovermode": "closest",
          "mapbox": {
           "style": "light"
          },
          "paper_bgcolor": "white",
          "plot_bgcolor": "#E5ECF6",
          "polar": {
           "angularaxis": {
            "gridcolor": "white",
            "linecolor": "white",
            "ticks": ""
           },
           "bgcolor": "#E5ECF6",
           "radialaxis": {
            "gridcolor": "white",
            "linecolor": "white",
            "ticks": ""
           }
          },
          "scene": {
           "xaxis": {
            "backgroundcolor": "#E5ECF6",
            "gridcolor": "white",
            "gridwidth": 2,
            "linecolor": "white",
            "showbackground": true,
            "ticks": "",
            "zerolinecolor": "white"
           },
           "yaxis": {
            "backgroundcolor": "#E5ECF6",
            "gridcolor": "white",
            "gridwidth": 2,
            "linecolor": "white",
            "showbackground": true,
            "ticks": "",
            "zerolinecolor": "white"
           },
           "zaxis": {
            "backgroundcolor": "#E5ECF6",
            "gridcolor": "white",
            "gridwidth": 2,
            "linecolor": "white",
            "showbackground": true,
            "ticks": "",
            "zerolinecolor": "white"
           }
          },
          "shapedefaults": {
           "line": {
            "color": "#2a3f5f"
           }
          },
          "ternary": {
           "aaxis": {
            "gridcolor": "white",
            "linecolor": "white",
            "ticks": ""
           },
           "baxis": {
            "gridcolor": "white",
            "linecolor": "white",
            "ticks": ""
           },
           "bgcolor": "#E5ECF6",
           "caxis": {
            "gridcolor": "white",
            "linecolor": "white",
            "ticks": ""
           }
          },
          "title": {
           "x": 0.05
          },
          "xaxis": {
           "automargin": true,
           "gridcolor": "white",
           "linecolor": "white",
           "ticks": "",
           "title": {
            "standoff": 15
           },
           "zerolinecolor": "white",
           "zerolinewidth": 2
          },
          "yaxis": {
           "automargin": true,
           "gridcolor": "white",
           "linecolor": "white",
           "ticks": "",
           "title": {
            "standoff": 15
           },
           "zerolinecolor": "white",
           "zerolinewidth": 2
          }
         }
        },
        "xaxis": {
         "anchor": "y",
         "domain": [
          0,
          1
         ],
         "title": {
          "text": "Year"
         }
        },
        "yaxis": {
         "anchor": "x",
         "domain": [
          0,
          1
         ],
         "title": {
          "text": "Cars Sold"
         }
        }
       }
      }
     },
     "metadata": {},
     "output_type": "display_data"
    }
   ],
   "source": [
    "fig = px.line(yearly_grouped_car, x='Year', y='Cars Sold')\n",
    "fig.show()"
   ]
  },
  {
   "cell_type": "code",
   "execution_count": 15,
   "metadata": {},
   "outputs": [
    {
     "data": {
      "text/html": [
       "<div>\n",
       "<style scoped>\n",
       "    .dataframe tbody tr th:only-of-type {\n",
       "        vertical-align: middle;\n",
       "    }\n",
       "\n",
       "    .dataframe tbody tr th {\n",
       "        vertical-align: top;\n",
       "    }\n",
       "\n",
       "    .dataframe thead th {\n",
       "        text-align: right;\n",
       "    }\n",
       "</style>\n",
       "<table border=\"1\" class=\"dataframe\">\n",
       "  <thead>\n",
       "    <tr style=\"text-align: right;\">\n",
       "      <th></th>\n",
       "      <th>STATISTIC CODE</th>\n",
       "      <th>Statistic</th>\n",
       "      <th>C02149V02592</th>\n",
       "      <th>Type of Expenditure</th>\n",
       "      <th>TLIST(Q1)</th>\n",
       "      <th>Quarter</th>\n",
       "      <th>UNIT</th>\n",
       "      <th>VALUE</th>\n",
       "    </tr>\n",
       "  </thead>\n",
       "  <tbody>\n",
       "    <tr>\n",
       "      <td>0</td>\n",
       "      <td>TMQ05</td>\n",
       "      <td>Tourism and Travel Estimated Earnings and Expe...</td>\n",
       "      <td>14</td>\n",
       "      <td>Overseas tourism and travel earnings from trip...</td>\n",
       "      <td>20121</td>\n",
       "      <td>2012Q1</td>\n",
       "      <td>Euro Million</td>\n",
       "      <td>621</td>\n",
       "    </tr>\n",
       "    <tr>\n",
       "      <td>1</td>\n",
       "      <td>TMQ05</td>\n",
       "      <td>Tourism and Travel Estimated Earnings and Expe...</td>\n",
       "      <td>14</td>\n",
       "      <td>Overseas tourism and travel earnings from trip...</td>\n",
       "      <td>20122</td>\n",
       "      <td>2012Q2</td>\n",
       "      <td>Euro Million</td>\n",
       "      <td>1048</td>\n",
       "    </tr>\n",
       "    <tr>\n",
       "      <td>2</td>\n",
       "      <td>TMQ05</td>\n",
       "      <td>Tourism and Travel Estimated Earnings and Expe...</td>\n",
       "      <td>14</td>\n",
       "      <td>Overseas tourism and travel earnings from trip...</td>\n",
       "      <td>20123</td>\n",
       "      <td>2012Q3</td>\n",
       "      <td>Euro Million</td>\n",
       "      <td>1296</td>\n",
       "    </tr>\n",
       "    <tr>\n",
       "      <td>3</td>\n",
       "      <td>TMQ05</td>\n",
       "      <td>Tourism and Travel Estimated Earnings and Expe...</td>\n",
       "      <td>14</td>\n",
       "      <td>Overseas tourism and travel earnings from trip...</td>\n",
       "      <td>20124</td>\n",
       "      <td>2012Q4</td>\n",
       "      <td>Euro Million</td>\n",
       "      <td>806</td>\n",
       "    </tr>\n",
       "    <tr>\n",
       "      <td>4</td>\n",
       "      <td>TMQ05</td>\n",
       "      <td>Tourism and Travel Estimated Earnings and Expe...</td>\n",
       "      <td>14</td>\n",
       "      <td>Overseas tourism and travel earnings from trip...</td>\n",
       "      <td>20131</td>\n",
       "      <td>2013Q1</td>\n",
       "      <td>Euro Million</td>\n",
       "      <td>688</td>\n",
       "    </tr>\n",
       "    <tr>\n",
       "      <td>...</td>\n",
       "      <td>...</td>\n",
       "      <td>...</td>\n",
       "      <td>...</td>\n",
       "      <td>...</td>\n",
       "      <td>...</td>\n",
       "      <td>...</td>\n",
       "      <td>...</td>\n",
       "      <td>...</td>\n",
       "    </tr>\n",
       "    <tr>\n",
       "      <td>91</td>\n",
       "      <td>TMQ05</td>\n",
       "      <td>Tourism and Travel Estimated Earnings and Expe...</td>\n",
       "      <td>16</td>\n",
       "      <td>Tourism and travel balance</td>\n",
       "      <td>20184</td>\n",
       "      <td>2018Q4</td>\n",
       "      <td>Euro Million</td>\n",
       "      <td>177</td>\n",
       "    </tr>\n",
       "    <tr>\n",
       "      <td>92</td>\n",
       "      <td>TMQ05</td>\n",
       "      <td>Tourism and Travel Estimated Earnings and Expe...</td>\n",
       "      <td>16</td>\n",
       "      <td>Tourism and travel balance</td>\n",
       "      <td>20191</td>\n",
       "      <td>2019Q1</td>\n",
       "      <td>Euro Million</td>\n",
       "      <td>-231</td>\n",
       "    </tr>\n",
       "    <tr>\n",
       "      <td>93</td>\n",
       "      <td>TMQ05</td>\n",
       "      <td>Tourism and Travel Estimated Earnings and Expe...</td>\n",
       "      <td>16</td>\n",
       "      <td>Tourism and travel balance</td>\n",
       "      <td>20192</td>\n",
       "      <td>2019Q2</td>\n",
       "      <td>Euro Million</td>\n",
       "      <td>323</td>\n",
       "    </tr>\n",
       "    <tr>\n",
       "      <td>94</td>\n",
       "      <td>TMQ05</td>\n",
       "      <td>Tourism and Travel Estimated Earnings and Expe...</td>\n",
       "      <td>16</td>\n",
       "      <td>Tourism and travel balance</td>\n",
       "      <td>20193</td>\n",
       "      <td>2019Q3</td>\n",
       "      <td>Euro Million</td>\n",
       "      <td>225</td>\n",
       "    </tr>\n",
       "    <tr>\n",
       "      <td>95</td>\n",
       "      <td>TMQ05</td>\n",
       "      <td>Tourism and Travel Estimated Earnings and Expe...</td>\n",
       "      <td>16</td>\n",
       "      <td>Tourism and travel balance</td>\n",
       "      <td>20194</td>\n",
       "      <td>2019Q4</td>\n",
       "      <td>Euro Million</td>\n",
       "      <td>70</td>\n",
       "    </tr>\n",
       "  </tbody>\n",
       "</table>\n",
       "<p>96 rows × 8 columns</p>\n",
       "</div>"
      ],
      "text/plain": [
       "   STATISTIC CODE                                          Statistic  \\\n",
       "0           TMQ05  Tourism and Travel Estimated Earnings and Expe...   \n",
       "1           TMQ05  Tourism and Travel Estimated Earnings and Expe...   \n",
       "2           TMQ05  Tourism and Travel Estimated Earnings and Expe...   \n",
       "3           TMQ05  Tourism and Travel Estimated Earnings and Expe...   \n",
       "4           TMQ05  Tourism and Travel Estimated Earnings and Expe...   \n",
       "..            ...                                                ...   \n",
       "91          TMQ05  Tourism and Travel Estimated Earnings and Expe...   \n",
       "92          TMQ05  Tourism and Travel Estimated Earnings and Expe...   \n",
       "93          TMQ05  Tourism and Travel Estimated Earnings and Expe...   \n",
       "94          TMQ05  Tourism and Travel Estimated Earnings and Expe...   \n",
       "95          TMQ05  Tourism and Travel Estimated Earnings and Expe...   \n",
       "\n",
       "    C02149V02592                                Type of Expenditure  \\\n",
       "0             14  Overseas tourism and travel earnings from trip...   \n",
       "1             14  Overseas tourism and travel earnings from trip...   \n",
       "2             14  Overseas tourism and travel earnings from trip...   \n",
       "3             14  Overseas tourism and travel earnings from trip...   \n",
       "4             14  Overseas tourism and travel earnings from trip...   \n",
       "..           ...                                                ...   \n",
       "91            16                         Tourism and travel balance   \n",
       "92            16                         Tourism and travel balance   \n",
       "93            16                         Tourism and travel balance   \n",
       "94            16                         Tourism and travel balance   \n",
       "95            16                         Tourism and travel balance   \n",
       "\n",
       "    TLIST(Q1) Quarter          UNIT  VALUE  \n",
       "0       20121  2012Q1  Euro Million    621  \n",
       "1       20122  2012Q2  Euro Million   1048  \n",
       "2       20123  2012Q3  Euro Million   1296  \n",
       "3       20124  2012Q4  Euro Million    806  \n",
       "4       20131  2013Q1  Euro Million    688  \n",
       "..        ...     ...           ...    ...  \n",
       "91      20184  2018Q4  Euro Million    177  \n",
       "92      20191  2019Q1  Euro Million   -231  \n",
       "93      20192  2019Q2  Euro Million    323  \n",
       "94      20193  2019Q3  Euro Million    225  \n",
       "95      20194  2019Q4  Euro Million     70  \n",
       "\n",
       "[96 rows x 8 columns]"
      ]
     },
     "execution_count": 15,
     "metadata": {},
     "output_type": "execute_result"
    }
   ],
   "source": [
    "tourism_df = pd.read_csv(\"./TMQ05.20220711103214.csv\")\n",
    "tourism_df"
   ]
  },
  {
   "cell_type": "code",
   "execution_count": 16,
   "metadata": {},
   "outputs": [
    {
     "name": "stdout",
     "output_type": "stream",
     "text": [
      "The dataset has  96  rows.\n",
      "The dataset has  8  columns.\n"
     ]
    }
   ],
   "source": [
    "print(\"The dataset has \",tourism_df.shape[0],\" rows.\")\n",
    "print(\"The dataset has \",tourism_df.shape[1],\" columns.\")"
   ]
  },
  {
   "cell_type": "code",
   "execution_count": 17,
   "metadata": {},
   "outputs": [
    {
     "data": {
      "text/plain": [
       "STATISTIC CODE         object\n",
       "Statistic              object\n",
       "C02149V02592            int64\n",
       "Type of Expenditure    object\n",
       "TLIST(Q1)               int64\n",
       "Quarter                object\n",
       "UNIT                   object\n",
       "VALUE                   int64\n",
       "dtype: object"
      ]
     },
     "execution_count": 17,
     "metadata": {},
     "output_type": "execute_result"
    }
   ],
   "source": [
    "tourism_df[tourism_df.columns].dtypes"
   ]
  },
  {
   "cell_type": "code",
   "execution_count": 18,
   "metadata": {},
   "outputs": [
    {
     "data": {
      "text/plain": [
       "STATISTIC CODE         0\n",
       "Statistic              0\n",
       "C02149V02592           0\n",
       "Type of Expenditure    0\n",
       "TLIST(Q1)              0\n",
       "Quarter                0\n",
       "UNIT                   0\n",
       "VALUE                  0\n",
       "dtype: int64"
      ]
     },
     "execution_count": 18,
     "metadata": {},
     "output_type": "execute_result"
    }
   ],
   "source": [
    "tourism_df.isnull().sum()"
   ]
  },
  {
   "cell_type": "code",
   "execution_count": 19,
   "metadata": {},
   "outputs": [
    {
     "data": {
      "text/html": [
       "<div>\n",
       "<style scoped>\n",
       "    .dataframe tbody tr th:only-of-type {\n",
       "        vertical-align: middle;\n",
       "    }\n",
       "\n",
       "    .dataframe tbody tr th {\n",
       "        vertical-align: top;\n",
       "    }\n",
       "\n",
       "    .dataframe thead th {\n",
       "        text-align: right;\n",
       "    }\n",
       "</style>\n",
       "<table border=\"1\" class=\"dataframe\">\n",
       "  <thead>\n",
       "    <tr style=\"text-align: right;\">\n",
       "      <th></th>\n",
       "      <th>STATISTIC CODE</th>\n",
       "      <th>Statistic</th>\n",
       "      <th>C02149V02592</th>\n",
       "      <th>Type of Expenditure</th>\n",
       "      <th>TLIST(Q1)</th>\n",
       "      <th>Quarter</th>\n",
       "      <th>UNIT</th>\n",
       "      <th>VALUE</th>\n",
       "    </tr>\n",
       "  </thead>\n",
       "  <tbody>\n",
       "  </tbody>\n",
       "</table>\n",
       "</div>"
      ],
      "text/plain": [
       "Empty DataFrame\n",
       "Columns: [STATISTIC CODE, Statistic, C02149V02592, Type of Expenditure, TLIST(Q1), Quarter, UNIT, VALUE]\n",
       "Index: []"
      ]
     },
     "execution_count": 19,
     "metadata": {},
     "output_type": "execute_result"
    }
   ],
   "source": [
    "tourism_df[tourism_df.duplicated()]"
   ]
  },
  {
   "cell_type": "code",
   "execution_count": 20,
   "metadata": {},
   "outputs": [
    {
     "data": {
      "text/html": [
       "<div>\n",
       "<style scoped>\n",
       "    .dataframe tbody tr th:only-of-type {\n",
       "        vertical-align: middle;\n",
       "    }\n",
       "\n",
       "    .dataframe tbody tr th {\n",
       "        vertical-align: top;\n",
       "    }\n",
       "\n",
       "    .dataframe thead th {\n",
       "        text-align: right;\n",
       "    }\n",
       "</style>\n",
       "<table border=\"1\" class=\"dataframe\">\n",
       "  <thead>\n",
       "    <tr style=\"text-align: right;\">\n",
       "      <th></th>\n",
       "      <th>Year</th>\n",
       "      <th>Quarter</th>\n",
       "      <th>Type of Expenditure</th>\n",
       "      <th>Revenue_Million_Euro</th>\n",
       "    </tr>\n",
       "  </thead>\n",
       "  <tbody>\n",
       "    <tr>\n",
       "      <td>0</td>\n",
       "      <td>2012</td>\n",
       "      <td>1</td>\n",
       "      <td>Overseas tourism and travel earnings from trip...</td>\n",
       "      <td>621</td>\n",
       "    </tr>\n",
       "    <tr>\n",
       "      <td>1</td>\n",
       "      <td>2012</td>\n",
       "      <td>2</td>\n",
       "      <td>Overseas tourism and travel earnings from trip...</td>\n",
       "      <td>1048</td>\n",
       "    </tr>\n",
       "    <tr>\n",
       "      <td>2</td>\n",
       "      <td>2012</td>\n",
       "      <td>3</td>\n",
       "      <td>Overseas tourism and travel earnings from trip...</td>\n",
       "      <td>1296</td>\n",
       "    </tr>\n",
       "    <tr>\n",
       "      <td>3</td>\n",
       "      <td>2012</td>\n",
       "      <td>4</td>\n",
       "      <td>Overseas tourism and travel earnings from trip...</td>\n",
       "      <td>806</td>\n",
       "    </tr>\n",
       "    <tr>\n",
       "      <td>4</td>\n",
       "      <td>2013</td>\n",
       "      <td>1</td>\n",
       "      <td>Overseas tourism and travel earnings from trip...</td>\n",
       "      <td>688</td>\n",
       "    </tr>\n",
       "    <tr>\n",
       "      <td>...</td>\n",
       "      <td>...</td>\n",
       "      <td>...</td>\n",
       "      <td>...</td>\n",
       "      <td>...</td>\n",
       "    </tr>\n",
       "    <tr>\n",
       "      <td>91</td>\n",
       "      <td>2018</td>\n",
       "      <td>4</td>\n",
       "      <td>Tourism and travel balance</td>\n",
       "      <td>177</td>\n",
       "    </tr>\n",
       "    <tr>\n",
       "      <td>92</td>\n",
       "      <td>2019</td>\n",
       "      <td>1</td>\n",
       "      <td>Tourism and travel balance</td>\n",
       "      <td>-231</td>\n",
       "    </tr>\n",
       "    <tr>\n",
       "      <td>93</td>\n",
       "      <td>2019</td>\n",
       "      <td>2</td>\n",
       "      <td>Tourism and travel balance</td>\n",
       "      <td>323</td>\n",
       "    </tr>\n",
       "    <tr>\n",
       "      <td>94</td>\n",
       "      <td>2019</td>\n",
       "      <td>3</td>\n",
       "      <td>Tourism and travel balance</td>\n",
       "      <td>225</td>\n",
       "    </tr>\n",
       "    <tr>\n",
       "      <td>95</td>\n",
       "      <td>2019</td>\n",
       "      <td>4</td>\n",
       "      <td>Tourism and travel balance</td>\n",
       "      <td>70</td>\n",
       "    </tr>\n",
       "  </tbody>\n",
       "</table>\n",
       "<p>96 rows × 4 columns</p>\n",
       "</div>"
      ],
      "text/plain": [
       "    Year Quarter                                Type of Expenditure  \\\n",
       "0   2012       1  Overseas tourism and travel earnings from trip...   \n",
       "1   2012       2  Overseas tourism and travel earnings from trip...   \n",
       "2   2012       3  Overseas tourism and travel earnings from trip...   \n",
       "3   2012       4  Overseas tourism and travel earnings from trip...   \n",
       "4   2013       1  Overseas tourism and travel earnings from trip...   \n",
       "..   ...     ...                                                ...   \n",
       "91  2018       4                         Tourism and travel balance   \n",
       "92  2019       1                         Tourism and travel balance   \n",
       "93  2019       2                         Tourism and travel balance   \n",
       "94  2019       3                         Tourism and travel balance   \n",
       "95  2019       4                         Tourism and travel balance   \n",
       "\n",
       "    Revenue_Million_Euro  \n",
       "0                    621  \n",
       "1                   1048  \n",
       "2                   1296  \n",
       "3                    806  \n",
       "4                    688  \n",
       "..                   ...  \n",
       "91                   177  \n",
       "92                  -231  \n",
       "93                   323  \n",
       "94                   225  \n",
       "95                    70  \n",
       "\n",
       "[96 rows x 4 columns]"
      ]
     },
     "execution_count": 20,
     "metadata": {},
     "output_type": "execute_result"
    }
   ],
   "source": [
    "tourism_df.rename({'Quarter':'Year', 'VALUE':'Revenue_Million_Euro'}, axis=1, inplace=True)\n",
    "tourism_df['Year'] = tourism_df['Year'].str.replace(r'[a-zA-Z]', ' ')\n",
    "tourism_df['Quarter'] = tourism_df['Year'].str.split(\" \").str[1]\n",
    "tourism_df['Year'] = tourism_df['Year'].str.split(\" \").str[0].astype(int)\n",
    "tourism_df = tourism_df[['Year', 'Quarter', 'Type of Expenditure', 'Revenue_Million_Euro']]\n",
    "tourism_df"
   ]
  },
  {
   "cell_type": "code",
   "execution_count": 21,
   "metadata": {},
   "outputs": [
    {
     "data": {
      "image/png": "[encoded data removed]",
      "text/plain": [
       "<Figure size 720x720 with 2 Axes>"
      ]
     },
     "metadata": {
      "needs_background": "light"
     },
     "output_type": "display_data"
    }
   ],
   "source": [
    "tourism_df.hist(edgecolor=\"black\", linewidth=1.2, figsize=(10, 10));"
   ]
  }
 ],
 "metadata": {
  "kernelspec": {
   "display_name": "Python 3.7.4 ('base')",
   "language": "python",
   "name": "python3"
  },
  "language_info": {
   "codemirror_mode": {
    "name": "ipython",
    "version": 3
   },
   "file_extension": ".py",
   "mimetype": "text/x-python",
   "name": "python",
   "nbconvert_exporter": "python",
   "pygments_lexer": "ipython3",
   "version": "3.7.4"
  },
  "orig_nbformat": 4,
  "vscode": {
   "interpreter": {
    "hash": "40d3a090f54c6569ab1632332b64b2c03c39dcf918b08424e98f38b5ae0af88f"
   }
  }
 },
 "nbformat": 4,
 "nbformat_minor": 2
}
