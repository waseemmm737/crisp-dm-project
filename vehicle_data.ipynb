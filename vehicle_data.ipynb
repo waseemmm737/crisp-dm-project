{
 "cells": [
  {
   "cell_type": "code",
   "execution_count": 32,
   "metadata": {},
   "outputs": [],
   "source": [
    "import pandas as pd\n",
    "import plotly.express as px\n",
    "from plotly.subplots import make_subplots\n",
    "import plotly.graph_objects as go"
   ]
  },
  {
   "cell_type": "code",
   "execution_count": 39,
   "metadata": {},
   "outputs": [
    {
     "data": {
      "text/html": [
       "<div>\n",
       "<style scoped>\n",
       "    .dataframe tbody tr th:only-of-type {\n",
       "        vertical-align: middle;\n",
       "    }\n",
       "\n",
       "    .dataframe tbody tr th {\n",
       "        vertical-align: top;\n",
       "    }\n",
       "\n",
       "    .dataframe thead th {\n",
       "        text-align: right;\n",
       "    }\n",
       "</style>\n",
       "<table border=\"1\" class=\"dataframe\">\n",
       "  <thead>\n",
       "    <tr style=\"text-align: right;\">\n",
       "      <th></th>\n",
       "      <th>STATISTIC CODE</th>\n",
       "      <th>Statistic</th>\n",
       "      <th>TLIST(A1)</th>\n",
       "      <th>Year</th>\n",
       "      <th>C03398V04090</th>\n",
       "      <th>Make and Model</th>\n",
       "      <th>UNIT</th>\n",
       "      <th>VALUE</th>\n",
       "    </tr>\n",
       "  </thead>\n",
       "  <tbody>\n",
       "    <tr>\n",
       "      <td>0</td>\n",
       "      <td>TEA28C01</td>\n",
       "      <td>New Private Cars Licensed for the First Time</td>\n",
       "      <td>2014</td>\n",
       "      <td>2014</td>\n",
       "      <td>ALF024</td>\n",
       "      <td>Alfa Romeo Giulietta</td>\n",
       "      <td>Number</td>\n",
       "      <td>34.0</td>\n",
       "    </tr>\n",
       "    <tr>\n",
       "      <td>1</td>\n",
       "      <td>TEA28C01</td>\n",
       "      <td>New Private Cars Licensed for the First Time</td>\n",
       "      <td>2014</td>\n",
       "      <td>2014</td>\n",
       "      <td>ALF025</td>\n",
       "      <td>Alfa Romeo Giulia</td>\n",
       "      <td>Number</td>\n",
       "      <td>0.0</td>\n",
       "    </tr>\n",
       "    <tr>\n",
       "      <td>2</td>\n",
       "      <td>TEA28C01</td>\n",
       "      <td>New Private Cars Licensed for the First Time</td>\n",
       "      <td>2014</td>\n",
       "      <td>2014</td>\n",
       "      <td>ALF026</td>\n",
       "      <td>Alfa Romeo Stelvio</td>\n",
       "      <td>Number</td>\n",
       "      <td>0.0</td>\n",
       "    </tr>\n",
       "    <tr>\n",
       "      <td>3</td>\n",
       "      <td>TEA28C01</td>\n",
       "      <td>New Private Cars Licensed for the First Time</td>\n",
       "      <td>2014</td>\n",
       "      <td>2014</td>\n",
       "      <td>AUD015</td>\n",
       "      <td>Audi TT</td>\n",
       "      <td>Number</td>\n",
       "      <td>NaN</td>\n",
       "    </tr>\n",
       "    <tr>\n",
       "      <td>4</td>\n",
       "      <td>TEA28C01</td>\n",
       "      <td>New Private Cars Licensed for the First Time</td>\n",
       "      <td>2014</td>\n",
       "      <td>2014</td>\n",
       "      <td>AUD016</td>\n",
       "      <td>Audi A3</td>\n",
       "      <td>Number</td>\n",
       "      <td>994.0</td>\n",
       "    </tr>\n",
       "    <tr>\n",
       "      <td>...</td>\n",
       "      <td>...</td>\n",
       "      <td>...</td>\n",
       "      <td>...</td>\n",
       "      <td>...</td>\n",
       "      <td>...</td>\n",
       "      <td>...</td>\n",
       "      <td>...</td>\n",
       "      <td>...</td>\n",
       "    </tr>\n",
       "    <tr>\n",
       "      <td>3963</td>\n",
       "      <td>TEA28C02</td>\n",
       "      <td>New Private Cars Licensed for the First Time Rank</td>\n",
       "      <td>2021</td>\n",
       "      <td>2021</td>\n",
       "      <td>VOO075</td>\n",
       "      <td>Volvo S90</td>\n",
       "      <td>Number</td>\n",
       "      <td>150.0</td>\n",
       "    </tr>\n",
       "    <tr>\n",
       "      <td>3964</td>\n",
       "      <td>TEA28C02</td>\n",
       "      <td>New Private Cars Licensed for the First Time Rank</td>\n",
       "      <td>2021</td>\n",
       "      <td>2021</td>\n",
       "      <td>VOO077</td>\n",
       "      <td>Volvo V90</td>\n",
       "      <td>Number</td>\n",
       "      <td>182.0</td>\n",
       "    </tr>\n",
       "    <tr>\n",
       "      <td>3965</td>\n",
       "      <td>TEA28C02</td>\n",
       "      <td>New Private Cars Licensed for the First Time Rank</td>\n",
       "      <td>2021</td>\n",
       "      <td>2021</td>\n",
       "      <td>VOO078</td>\n",
       "      <td>Volvo XC40</td>\n",
       "      <td>Number</td>\n",
       "      <td>63.0</td>\n",
       "    </tr>\n",
       "    <tr>\n",
       "      <td>3966</td>\n",
       "      <td>TEA28C02</td>\n",
       "      <td>New Private Cars Licensed for the First Time Rank</td>\n",
       "      <td>2021</td>\n",
       "      <td>2021</td>\n",
       "      <td>ZZZ001</td>\n",
       "      <td>Other</td>\n",
       "      <td>Number</td>\n",
       "      <td>NaN</td>\n",
       "    </tr>\n",
       "    <tr>\n",
       "      <td>3967</td>\n",
       "      <td>TEA28C02</td>\n",
       "      <td>New Private Cars Licensed for the First Time Rank</td>\n",
       "      <td>2021</td>\n",
       "      <td>2021</td>\n",
       "      <td>ZZZ111</td>\n",
       "      <td>All models</td>\n",
       "      <td>Number</td>\n",
       "      <td>NaN</td>\n",
       "    </tr>\n",
       "  </tbody>\n",
       "</table>\n",
       "<p>3968 rows × 8 columns</p>\n",
       "</div>"
      ],
      "text/plain": [
       "     STATISTIC CODE                                          Statistic  \\\n",
       "0          TEA28C01       New Private Cars Licensed for the First Time   \n",
       "1          TEA28C01       New Private Cars Licensed for the First Time   \n",
       "2          TEA28C01       New Private Cars Licensed for the First Time   \n",
       "3          TEA28C01       New Private Cars Licensed for the First Time   \n",
       "4          TEA28C01       New Private Cars Licensed for the First Time   \n",
       "...             ...                                                ...   \n",
       "3963       TEA28C02  New Private Cars Licensed for the First Time Rank   \n",
       "3964       TEA28C02  New Private Cars Licensed for the First Time Rank   \n",
       "3965       TEA28C02  New Private Cars Licensed for the First Time Rank   \n",
       "3966       TEA28C02  New Private Cars Licensed for the First Time Rank   \n",
       "3967       TEA28C02  New Private Cars Licensed for the First Time Rank   \n",
       "\n",
       "      TLIST(A1)  Year C03398V04090        Make and Model    UNIT  VALUE  \n",
       "0          2014  2014       ALF024  Alfa Romeo Giulietta  Number   34.0  \n",
       "1          2014  2014       ALF025     Alfa Romeo Giulia  Number    0.0  \n",
       "2          2014  2014       ALF026    Alfa Romeo Stelvio  Number    0.0  \n",
       "3          2014  2014       AUD015               Audi TT  Number    NaN  \n",
       "4          2014  2014       AUD016               Audi A3  Number  994.0  \n",
       "...         ...   ...          ...                   ...     ...    ...  \n",
       "3963       2021  2021       VOO075             Volvo S90  Number  150.0  \n",
       "3964       2021  2021       VOO077             Volvo V90  Number  182.0  \n",
       "3965       2021  2021       VOO078            Volvo XC40  Number   63.0  \n",
       "3966       2021  2021       ZZZ001                 Other  Number    NaN  \n",
       "3967       2021  2021       ZZZ111            All models  Number    NaN  \n",
       "\n",
       "[3968 rows x 8 columns]"
      ]
     },
     "execution_count": 39,
     "metadata": {},
     "output_type": "execute_result"
    }
   ],
   "source": [
    "car_data = pd.read_csv('./TEA28.20220711103135.csv')\n",
    "car_data"
   ]
  },
  {
   "cell_type": "code",
   "execution_count": 40,
   "metadata": {},
   "outputs": [
    {
     "name": "stdout",
     "output_type": "stream",
     "text": [
      "The dataset has  3968  rows.\n",
      "The dataset has  8  columns.\n"
     ]
    }
   ],
   "source": [
    "print(\"The dataset has \",car_data.shape[0],\" rows.\")\n",
    "print(\"The dataset has \",car_data.shape[1],\" columns.\")"
   ]
  },
  {
   "cell_type": "code",
   "execution_count": 41,
   "metadata": {},
   "outputs": [
    {
     "data": {
      "text/plain": [
       "STATISTIC CODE     object\n",
       "Statistic          object\n",
       "TLIST(A1)           int64\n",
       "Year                int64\n",
       "C03398V04090       object\n",
       "Make and Model     object\n",
       "UNIT               object\n",
       "VALUE             float64\n",
       "dtype: object"
      ]
     },
     "execution_count": 41,
     "metadata": {},
     "output_type": "execute_result"
    }
   ],
   "source": [
    "car_data[car_data.columns].dtypes"
   ]
  },
  {
   "cell_type": "code",
   "execution_count": 42,
   "metadata": {},
   "outputs": [
    {
     "data": {
      "text/plain": [
       "Counter({'New Private Cars Licensed for the First Time': 1984,\n",
       "         'New Private Cars Licensed for the First Time Rank': 1984})"
      ]
     },
     "execution_count": 42,
     "metadata": {},
     "output_type": "execute_result"
    }
   ],
   "source": [
    "from collections import Counter\n",
    "Counter(car_data['Statistic'])"
   ]
  },
  {
   "cell_type": "code",
   "execution_count": 43,
   "metadata": {},
   "outputs": [
    {
     "data": {
      "text/html": [
       "<div>\n",
       "<style scoped>\n",
       "    .dataframe tbody tr th:only-of-type {\n",
       "        vertical-align: middle;\n",
       "    }\n",
       "\n",
       "    .dataframe tbody tr th {\n",
       "        vertical-align: top;\n",
       "    }\n",
       "\n",
       "    .dataframe thead th {\n",
       "        text-align: right;\n",
       "    }\n",
       "</style>\n",
       "<table border=\"1\" class=\"dataframe\">\n",
       "  <thead>\n",
       "    <tr style=\"text-align: right;\">\n",
       "      <th></th>\n",
       "      <th>STATISTIC CODE</th>\n",
       "      <th>Statistic</th>\n",
       "      <th>TLIST(A1)</th>\n",
       "      <th>Year</th>\n",
       "      <th>C03398V04090</th>\n",
       "      <th>Make and Model</th>\n",
       "      <th>UNIT</th>\n",
       "      <th>VALUE</th>\n",
       "    </tr>\n",
       "  </thead>\n",
       "  <tbody>\n",
       "  </tbody>\n",
       "</table>\n",
       "</div>"
      ],
      "text/plain": [
       "Empty DataFrame\n",
       "Columns: [STATISTIC CODE, Statistic, TLIST(A1), Year, C03398V04090, Make and Model, UNIT, VALUE]\n",
       "Index: []"
      ]
     },
     "execution_count": 43,
     "metadata": {},
     "output_type": "execute_result"
    }
   ],
   "source": [
    "car_data[car_data.duplicated()]"
   ]
  },
  {
   "cell_type": "code",
   "execution_count": 44,
   "metadata": {},
   "outputs": [
    {
     "name": "stderr",
     "output_type": "stream",
     "text": [
      "/Users/ahsanmunir/.local/lib/python3.7/site-packages/ipykernel_launcher.py:4: SettingWithCopyWarning:\n",
      "\n",
      "\n",
      "A value is trying to be set on a copy of a slice from a DataFrame.\n",
      "Try using .loc[row_indexer,col_indexer] = value instead\n",
      "\n",
      "See the caveats in the documentation: http://pandas.pydata.org/pandas-docs/stable/user_guide/indexing.html#returning-a-view-versus-a-copy\n",
      "\n"
     ]
    },
    {
     "data": {
      "text/html": [
       "<div>\n",
       "<style scoped>\n",
       "    .dataframe tbody tr th:only-of-type {\n",
       "        vertical-align: middle;\n",
       "    }\n",
       "\n",
       "    .dataframe tbody tr th {\n",
       "        vertical-align: top;\n",
       "    }\n",
       "\n",
       "    .dataframe thead th {\n",
       "        text-align: right;\n",
       "    }\n",
       "</style>\n",
       "<table border=\"1\" class=\"dataframe\">\n",
       "  <thead>\n",
       "    <tr style=\"text-align: right;\">\n",
       "      <th></th>\n",
       "      <th>Statistic</th>\n",
       "      <th>Year</th>\n",
       "      <th>Brand Code</th>\n",
       "      <th>Make and Model</th>\n",
       "      <th>VALUE</th>\n",
       "      <th>Brand</th>\n",
       "    </tr>\n",
       "  </thead>\n",
       "  <tbody>\n",
       "    <tr>\n",
       "      <td>0</td>\n",
       "      <td>New Private Cars Licensed for the First Time</td>\n",
       "      <td>2014</td>\n",
       "      <td>ALF</td>\n",
       "      <td>Alfa Romeo Giulietta</td>\n",
       "      <td>34.0</td>\n",
       "      <td>Alfa</td>\n",
       "    </tr>\n",
       "    <tr>\n",
       "      <td>1</td>\n",
       "      <td>New Private Cars Licensed for the First Time</td>\n",
       "      <td>2014</td>\n",
       "      <td>ALF</td>\n",
       "      <td>Alfa Romeo Giulia</td>\n",
       "      <td>0.0</td>\n",
       "      <td>Alfa</td>\n",
       "    </tr>\n",
       "    <tr>\n",
       "      <td>2</td>\n",
       "      <td>New Private Cars Licensed for the First Time</td>\n",
       "      <td>2014</td>\n",
       "      <td>ALF</td>\n",
       "      <td>Alfa Romeo Stelvio</td>\n",
       "      <td>0.0</td>\n",
       "      <td>Alfa</td>\n",
       "    </tr>\n",
       "    <tr>\n",
       "      <td>3</td>\n",
       "      <td>New Private Cars Licensed for the First Time</td>\n",
       "      <td>2014</td>\n",
       "      <td>AUD</td>\n",
       "      <td>Audi TT</td>\n",
       "      <td>NaN</td>\n",
       "      <td>Audi</td>\n",
       "    </tr>\n",
       "    <tr>\n",
       "      <td>4</td>\n",
       "      <td>New Private Cars Licensed for the First Time</td>\n",
       "      <td>2014</td>\n",
       "      <td>AUD</td>\n",
       "      <td>Audi A3</td>\n",
       "      <td>994.0</td>\n",
       "      <td>Audi</td>\n",
       "    </tr>\n",
       "    <tr>\n",
       "      <td>...</td>\n",
       "      <td>...</td>\n",
       "      <td>...</td>\n",
       "      <td>...</td>\n",
       "      <td>...</td>\n",
       "      <td>...</td>\n",
       "      <td>...</td>\n",
       "    </tr>\n",
       "    <tr>\n",
       "      <td>3961</td>\n",
       "      <td>New Private Cars Licensed for the First Time Rank</td>\n",
       "      <td>2021</td>\n",
       "      <td>VOO</td>\n",
       "      <td>Volvo XC60</td>\n",
       "      <td>74.0</td>\n",
       "      <td>Volvo</td>\n",
       "    </tr>\n",
       "    <tr>\n",
       "      <td>3962</td>\n",
       "      <td>New Private Cars Licensed for the First Time Rank</td>\n",
       "      <td>2021</td>\n",
       "      <td>VOO</td>\n",
       "      <td>Volvo V60</td>\n",
       "      <td>138.0</td>\n",
       "      <td>Volvo</td>\n",
       "    </tr>\n",
       "    <tr>\n",
       "      <td>3963</td>\n",
       "      <td>New Private Cars Licensed for the First Time Rank</td>\n",
       "      <td>2021</td>\n",
       "      <td>VOO</td>\n",
       "      <td>Volvo S90</td>\n",
       "      <td>150.0</td>\n",
       "      <td>Volvo</td>\n",
       "    </tr>\n",
       "    <tr>\n",
       "      <td>3964</td>\n",
       "      <td>New Private Cars Licensed for the First Time Rank</td>\n",
       "      <td>2021</td>\n",
       "      <td>VOO</td>\n",
       "      <td>Volvo V90</td>\n",
       "      <td>182.0</td>\n",
       "      <td>Volvo</td>\n",
       "    </tr>\n",
       "    <tr>\n",
       "      <td>3965</td>\n",
       "      <td>New Private Cars Licensed for the First Time Rank</td>\n",
       "      <td>2021</td>\n",
       "      <td>VOO</td>\n",
       "      <td>Volvo XC40</td>\n",
       "      <td>63.0</td>\n",
       "      <td>Volvo</td>\n",
       "    </tr>\n",
       "  </tbody>\n",
       "</table>\n",
       "<p>3936 rows × 6 columns</p>\n",
       "</div>"
      ],
      "text/plain": [
       "                                              Statistic  Year Brand Code  \\\n",
       "0          New Private Cars Licensed for the First Time  2014        ALF   \n",
       "1          New Private Cars Licensed for the First Time  2014        ALF   \n",
       "2          New Private Cars Licensed for the First Time  2014        ALF   \n",
       "3          New Private Cars Licensed for the First Time  2014        AUD   \n",
       "4          New Private Cars Licensed for the First Time  2014        AUD   \n",
       "...                                                 ...   ...        ...   \n",
       "3961  New Private Cars Licensed for the First Time Rank  2021        VOO   \n",
       "3962  New Private Cars Licensed for the First Time Rank  2021        VOO   \n",
       "3963  New Private Cars Licensed for the First Time Rank  2021        VOO   \n",
       "3964  New Private Cars Licensed for the First Time Rank  2021        VOO   \n",
       "3965  New Private Cars Licensed for the First Time Rank  2021        VOO   \n",
       "\n",
       "            Make and Model  VALUE  Brand  \n",
       "0     Alfa Romeo Giulietta   34.0   Alfa  \n",
       "1        Alfa Romeo Giulia    0.0   Alfa  \n",
       "2       Alfa Romeo Stelvio    0.0   Alfa  \n",
       "3                  Audi TT    NaN   Audi  \n",
       "4                  Audi A3  994.0   Audi  \n",
       "...                    ...    ...    ...  \n",
       "3961            Volvo XC60   74.0  Volvo  \n",
       "3962             Volvo V60  138.0  Volvo  \n",
       "3963             Volvo S90  150.0  Volvo  \n",
       "3964             Volvo V90  182.0  Volvo  \n",
       "3965            Volvo XC40   63.0  Volvo  \n",
       "\n",
       "[3936 rows x 6 columns]"
      ]
     },
     "execution_count": 44,
     "metadata": {},
     "output_type": "execute_result"
    }
   ],
   "source": [
    "car_data.rename({'C03398V04090':'Brand Code'}, axis=1, inplace=True)\n",
    "car_data['Brand Code'] = car_data['Brand Code'].str.replace(r'[^a-zA-Z]', '')\n",
    "car_data = car_data[['Statistic', 'Year', 'Brand Code', 'Make and Model', 'VALUE']]\n",
    "car_data['Brand'] = car_data['Make and Model'].str.split(\" \").str[0]\n",
    "car_data = car_data[car_data['Brand Code']!='ZZZ']\n",
    "car_data"
   ]
  },
  {
   "cell_type": "code",
   "execution_count": 64,
   "metadata": {},
   "outputs": [
    {
     "data": {
      "text/html": [
       "<div>\n",
       "<style scoped>\n",
       "    .dataframe tbody tr th:only-of-type {\n",
       "        vertical-align: middle;\n",
       "    }\n",
       "\n",
       "    .dataframe tbody tr th {\n",
       "        vertical-align: top;\n",
       "    }\n",
       "\n",
       "    .dataframe thead th {\n",
       "        text-align: right;\n",
       "    }\n",
       "</style>\n",
       "<table border=\"1\" class=\"dataframe\">\n",
       "  <thead>\n",
       "    <tr style=\"text-align: right;\">\n",
       "      <th>Year</th>\n",
       "      <th>Make and Model</th>\n",
       "      <th>Brand</th>\n",
       "      <th>2014</th>\n",
       "      <th>2015</th>\n",
       "      <th>2016</th>\n",
       "      <th>2017</th>\n",
       "      <th>2018</th>\n",
       "      <th>2019</th>\n",
       "      <th>2020</th>\n",
       "      <th>2021</th>\n",
       "    </tr>\n",
       "  </thead>\n",
       "  <tbody>\n",
       "    <tr>\n",
       "      <td>0</td>\n",
       "      <td>Alfa Romeo Giulia</td>\n",
       "      <td>Alfa</td>\n",
       "      <td>0.0</td>\n",
       "      <td>0.0</td>\n",
       "      <td>97.0</td>\n",
       "      <td>111.5</td>\n",
       "      <td>109.5</td>\n",
       "      <td>106.0</td>\n",
       "      <td>100.0</td>\n",
       "      <td>95.5</td>\n",
       "    </tr>\n",
       "    <tr>\n",
       "      <td>1</td>\n",
       "      <td>Alfa Romeo Giulietta</td>\n",
       "      <td>Alfa</td>\n",
       "      <td>85.0</td>\n",
       "      <td>96.5</td>\n",
       "      <td>101.5</td>\n",
       "      <td>105.0</td>\n",
       "      <td>109.5</td>\n",
       "      <td>107.0</td>\n",
       "      <td>102.0</td>\n",
       "      <td>100.5</td>\n",
       "    </tr>\n",
       "    <tr>\n",
       "      <td>2</td>\n",
       "      <td>Alfa Romeo Stelvio</td>\n",
       "      <td>Alfa</td>\n",
       "      <td>0.0</td>\n",
       "      <td>0.0</td>\n",
       "      <td>0.0</td>\n",
       "      <td>103.5</td>\n",
       "      <td>109.5</td>\n",
       "      <td>107.0</td>\n",
       "      <td>102.0</td>\n",
       "      <td>102.5</td>\n",
       "    </tr>\n",
       "    <tr>\n",
       "      <td>3</td>\n",
       "      <td>Audi A1</td>\n",
       "      <td>Audi</td>\n",
       "      <td>195.0</td>\n",
       "      <td>210.5</td>\n",
       "      <td>217.5</td>\n",
       "      <td>187.5</td>\n",
       "      <td>167.5</td>\n",
       "      <td>159.5</td>\n",
       "      <td>144.0</td>\n",
       "      <td>155.0</td>\n",
       "    </tr>\n",
       "    <tr>\n",
       "      <td>4</td>\n",
       "      <td>Audi A3</td>\n",
       "      <td>Audi</td>\n",
       "      <td>511.0</td>\n",
       "      <td>643.5</td>\n",
       "      <td>694.5</td>\n",
       "      <td>618.0</td>\n",
       "      <td>511.0</td>\n",
       "      <td>405.5</td>\n",
       "      <td>281.0</td>\n",
       "      <td>417.0</td>\n",
       "    </tr>\n",
       "    <tr>\n",
       "      <td>...</td>\n",
       "      <td>...</td>\n",
       "      <td>...</td>\n",
       "      <td>...</td>\n",
       "      <td>...</td>\n",
       "      <td>...</td>\n",
       "      <td>...</td>\n",
       "      <td>...</td>\n",
       "      <td>...</td>\n",
       "      <td>...</td>\n",
       "      <td>...</td>\n",
       "    </tr>\n",
       "    <tr>\n",
       "      <td>241</td>\n",
       "      <td>Volvo V60</td>\n",
       "      <td>Volvo</td>\n",
       "      <td>101.0</td>\n",
       "      <td>110.0</td>\n",
       "      <td>111.5</td>\n",
       "      <td>113.0</td>\n",
       "      <td>111.5</td>\n",
       "      <td>130.0</td>\n",
       "      <td>99.5</td>\n",
       "      <td>99.5</td>\n",
       "    </tr>\n",
       "    <tr>\n",
       "      <td>242</td>\n",
       "      <td>Volvo V90</td>\n",
       "      <td>Volvo</td>\n",
       "      <td>0.0</td>\n",
       "      <td>0.0</td>\n",
       "      <td>0.0</td>\n",
       "      <td>113.5</td>\n",
       "      <td>115.5</td>\n",
       "      <td>107.0</td>\n",
       "      <td>95.0</td>\n",
       "      <td>98.0</td>\n",
       "    </tr>\n",
       "    <tr>\n",
       "      <td>243</td>\n",
       "      <td>Volvo XC40</td>\n",
       "      <td>Volvo</td>\n",
       "      <td>0.0</td>\n",
       "      <td>0.0</td>\n",
       "      <td>0.0</td>\n",
       "      <td>0.0</td>\n",
       "      <td>153.0</td>\n",
       "      <td>188.0</td>\n",
       "      <td>244.5</td>\n",
       "      <td>289.5</td>\n",
       "    </tr>\n",
       "    <tr>\n",
       "      <td>244</td>\n",
       "      <td>Volvo XC60</td>\n",
       "      <td>Volvo</td>\n",
       "      <td>147.0</td>\n",
       "      <td>237.5</td>\n",
       "      <td>270.5</td>\n",
       "      <td>255.5</td>\n",
       "      <td>209.0</td>\n",
       "      <td>214.5</td>\n",
       "      <td>195.0</td>\n",
       "      <td>222.5</td>\n",
       "    </tr>\n",
       "    <tr>\n",
       "      <td>245</td>\n",
       "      <td>Volvo XC90</td>\n",
       "      <td>Volvo</td>\n",
       "      <td>97.0</td>\n",
       "      <td>114.0</td>\n",
       "      <td>239.0</td>\n",
       "      <td>208.5</td>\n",
       "      <td>209.0</td>\n",
       "      <td>187.5</td>\n",
       "      <td>151.0</td>\n",
       "      <td>208.0</td>\n",
       "    </tr>\n",
       "  </tbody>\n",
       "</table>\n",
       "<p>246 rows × 10 columns</p>\n",
       "</div>"
      ],
      "text/plain": [
       "Year        Make and Model  Brand   2014   2015   2016   2017   2018   2019  \\\n",
       "0        Alfa Romeo Giulia   Alfa    0.0    0.0   97.0  111.5  109.5  106.0   \n",
       "1     Alfa Romeo Giulietta   Alfa   85.0   96.5  101.5  105.0  109.5  107.0   \n",
       "2       Alfa Romeo Stelvio   Alfa    0.0    0.0    0.0  103.5  109.5  107.0   \n",
       "3                  Audi A1   Audi  195.0  210.5  217.5  187.5  167.5  159.5   \n",
       "4                  Audi A3   Audi  511.0  643.5  694.5  618.0  511.0  405.5   \n",
       "..                     ...    ...    ...    ...    ...    ...    ...    ...   \n",
       "241              Volvo V60  Volvo  101.0  110.0  111.5  113.0  111.5  130.0   \n",
       "242              Volvo V90  Volvo    0.0    0.0    0.0  113.5  115.5  107.0   \n",
       "243             Volvo XC40  Volvo    0.0    0.0    0.0    0.0  153.0  188.0   \n",
       "244             Volvo XC60  Volvo  147.0  237.5  270.5  255.5  209.0  214.5   \n",
       "245             Volvo XC90  Volvo   97.0  114.0  239.0  208.5  209.0  187.5   \n",
       "\n",
       "Year   2020   2021  \n",
       "0     100.0   95.5  \n",
       "1     102.0  100.5  \n",
       "2     102.0  102.5  \n",
       "3     144.0  155.0  \n",
       "4     281.0  417.0  \n",
       "..      ...    ...  \n",
       "241    99.5   99.5  \n",
       "242    95.0   98.0  \n",
       "243   244.5  289.5  \n",
       "244   195.0  222.5  \n",
       "245   151.0  208.0  \n",
       "\n",
       "[246 rows x 10 columns]"
      ]
     },
     "execution_count": 64,
     "metadata": {},
     "output_type": "execute_result"
    }
   ],
   "source": [
    "pivot_table = pd.pivot_table(car_data, index=['Make and Model', 'Brand'], columns='Year', values='VALUE').reset_index()\n",
    "pivot_table"
   ]
  },
  {
   "cell_type": "code",
   "execution_count": 66,
   "metadata": {},
   "outputs": [
    {
     "data": {
      "application/vnd.plotly.v1+json": {
       "config": {
        "plotlyServerURL": "https://plot.ly"
       },
       "data": [
        {
         "name": "2014",
         "type": "box",
         "x": [
          "Alfa",
          "Alfa",
          "Alfa",
          "Audi",
          "Audi",
          "Audi",
          "Audi",
          "Audi",
          "Audi",
          "Audi",
          "Audi",
          "Audi",
          "Audi",
          "Audi",
          "Audi",
          "Audi",
          "Audi",
          "Audi",
          "BMW",
          "BMW",
          "BMW",
          "BMW",
          "BMW",
          "BMW",
          "BMW",
          "BMW",
          "BMW",
          "BMW",
          "BMW",
          "BMW",
          "BMW",
          "BMW",
          "BMW",
          "BMW",
          "BMW",
          "BMW",
          "BMW",
          "Citroen",
          "Citroen",
          "Citroen",
          "Citroen",
          "Citroen",
          "Citroen",
          "Citroen",
          "Citroen",
          "Cupra",
          "Dacia",
          "Dacia",
          "Dacia",
          "Fiat",
          "Fiat",
          "Fiat",
          "Fiat",
          "Fiat",
          "Fiat",
          "Ford",
          "Ford",
          "Ford",
          "Ford",
          "Ford",
          "Ford",
          "Ford",
          "Ford",
          "Ford",
          "Ford",
          "Ford",
          "Ford",
          "Honda",
          "Honda",
          "Honda",
          "Honda",
          "Hyundai",
          "Hyundai",
          "Hyundai",
          "Hyundai",
          "Hyundai",
          "Hyundai",
          "Hyundai",
          "Hyundai",
          "Hyundai",
          "Hyundai",
          "Hyundai",
          "Jaguar",
          "Jaguar",
          "Jaguar",
          "Jaguar",
          "Jaguar",
          "Jeep",
          "Jeep",
          "KIA",
          "Kia",
          "Kia",
          "Kia",
          "Kia",
          "Kia",
          "Kia",
          "Kia",
          "Kia",
          "Kia",
          "Kia",
          "Kia",
          "Kia",
          "Kia",
          "Kia",
          "Landrover",
          "Landrover",
          "Landrover",
          "Landrover",
          "Landrover",
          "Landrover",
          "Lexus",
          "Lexus",
          "Lexus",
          "Lexus",
          "Lexus",
          "Lexus",
          "Lexus",
          "Lexus",
          "Lexus",
          "MG",
          "Mazda",
          "Mazda",
          "Mazda",
          "Mazda",
          "Mazda",
          "Mazda",
          "Mazda",
          "Mercedes",
          "Mercedes",
          "Mercedes",
          "Mercedes",
          "Mercedes",
          "Mercedes",
          "Mercedes",
          "Mercedes",
          "Mercedes",
          "Mercedes",
          "Mercedes",
          "Mercedes-Benz",
          "Mini",
          "Mitsubishi",
          "Mitsubishi",
          "Mitsubishi",
          "Mitsubishi",
          "Mitsubishi",
          "Nissan",
          "Nissan",
          "Nissan",
          "Nissan",
          "Nissan",
          "Nissan",
          "Nissan",
          "Opel",
          "Opel",
          "Opel",
          "Opel",
          "Opel",
          "Opel",
          "Opel",
          "Opel",
          "Opel",
          "Peugeot",
          "Peugeot",
          "Peugeot",
          "Peugeot",
          "Peugeot",
          "Peugeot",
          "Peugeot",
          "Peugeot",
          "Porsche",
          "Porsche",
          "Porsche",
          "Porsche",
          "Renault",
          "Renault",
          "Renault",
          "Renault",
          "Renault",
          "Renault",
          "Renault",
          "Renault",
          "Renault",
          "Renault",
          "Seat",
          "Seat",
          "Seat",
          "Seat",
          "Seat",
          "Seat",
          "Seat",
          "Seat",
          "Skoda",
          "Skoda",
          "Skoda",
          "Skoda",
          "Skoda",
          "Skoda",
          "Skoda",
          "Skoda",
          "Skoda",
          "Skoda",
          "Ssangyong",
          "Subaru",
          "Subaru",
          "Subaru",
          "Suzuki",
          "Suzuki",
          "Suzuki",
          "Suzuki",
          "Suzuki",
          "Suzuki",
          "Tesla",
          "Tesla",
          "Tesla",
          "Toyota",
          "Toyota",
          "Toyota",
          "Toyota",
          "Toyota",
          "Toyota",
          "Toyota",
          "Toyota",
          "Toyota",
          "Toyota",
          "Volkswagen",
          "Volkswagen",
          "Volkswagen",
          "Volkswagen",
          "Volkswagen",
          "Volkswagen",
          "Volkswagen",
          "Volkswagen",
          "Volkswagen",
          "Volkswagen",
          "Volkswagen",
          "Volkswagen",
          "Volkswagen",
          "Volkswagen",
          "Volvo",
          "Volvo",
          "Volvo",
          "Volvo",
          "Volvo",
          "Volvo",
          "Volvo",
          "Volvo"
         ],
         "xaxis": "x",
         "y": [
          0,
          85,
          0,
          195,
          511,
          509.5,
          180,
          434.5,
          97,
          83.5,
          0,
          184,
          186,
          89.5,
          null,
          null,
          null,
          null,
          209,
          101,
          500,
          192,
          749,
          null,
          80.5,
          null,
          null,
          null,
          null,
          116.5,
          0,
          134,
          null,
          168,
          null,
          79,
          null,
          79,
          136,
          null,
          398,
          null,
          null,
          null,
          0,
          null,
          752,
          157.5,
          428,
          199,
          null,
          0,
          null,
          116.5,
          0,
          206.5,
          97,
          0,
          1512,
          1907.5,
          123.5,
          76,
          97.5,
          199,
          481.5,
          null,
          null,
          208,
          334,
          0,
          147.5,
          null,
          0,
          0,
          290.5,
          0,
          401.5,
          345.5,
          658.5,
          637,
          214.5,
          1242,
          0,
          0,
          null,
          0,
          137.5,
          null,
          0,
          null,
          151.5,
          356,
          0,
          120,
          144,
          97.5,
          227.5,
          112.5,
          null,
          928,
          0,
          0,
          211.5,
          null,
          194,
          0,
          92,
          167,
          113.5,
          0,
          91.5,
          null,
          96,
          136,
          0,
          76,
          null,
          91.5,
          null,
          null,
          110.5,
          356,
          305.5,
          0,
          null,
          209.5,
          null,
          146,
          122,
          213,
          197,
          null,
          373,
          null,
          98,
          0,
          0,
          110,
          null,
          266,
          143,
          0,
          null,
          117,
          133.5,
          350,
          141.5,
          519.5,
          491.5,
          103,
          1796,
          133.5,
          112.5,
          863.5,
          648,
          0,
          0,
          928,
          0,
          442,
          167.5,
          0,
          270.5,
          381.5,
          195,
          334.5,
          159.5,
          195,
          null,
          null,
          null,
          80,
          null,
          null,
          542.5,
          863.5,
          518.5,
          97.5,
          0,
          0,
          373,
          110,
          76.5,
          110.5,
          0,
          0,
          404,
          407.5,
          189.5,
          null,
          195.5,
          201,
          376.5,
          null,
          0,
          0,
          1351.5,
          396,
          null,
          538,
          223,
          0,
          96.5,
          null,
          82.5,
          0,
          75.5,
          0,
          195,
          144,
          0,
          null,
          75.5,
          null,
          974,
          668.5,
          116.5,
          0,
          null,
          1426.5,
          115,
          560.5,
          110.5,
          989,
          0,
          144,
          2196,
          null,
          null,
          442,
          1059.5,
          878.5,
          75,
          null,
          0,
          512.5,
          129,
          206.5,
          167.5,
          0,
          252.5,
          101,
          0,
          0,
          147,
          97
         ],
         "yaxis": "y"
        },
        {
         "name": "2015",
         "type": "box",
         "x": [
          "Alfa",
          "Alfa",
          "Alfa",
          "Audi",
          "Audi",
          "Audi",
          "Audi",
          "Audi",
          "Audi",
          "Audi",
          "Audi",
          "Audi",
          "Audi",
          "Audi",
          "Audi",
          "Audi",
          "Audi",
          "Audi",
          "BMW",
          "BMW",
          "BMW",
          "BMW",
          "BMW",
          "BMW",
          "BMW",
          "BMW",
          "BMW",
          "BMW",
          "BMW",
          "BMW",
          "BMW",
          "BMW",
          "BMW",
          "BMW",
          "BMW",
          "BMW",
          "BMW",
          "Citroen",
          "Citroen",
          "Citroen",
          "Citroen",
          "Citroen",
          "Citroen",
          "Citroen",
          "Citroen",
          "Cupra",
          "Dacia",
          "Dacia",
          "Dacia",
          "Fiat",
          "Fiat",
          "Fiat",
          "Fiat",
          "Fiat",
          "Fiat",
          "Ford",
          "Ford",
          "Ford",
          "Ford",
          "Ford",
          "Ford",
          "Ford",
          "Ford",
          "Ford",
          "Ford",
          "Ford",
          "Ford",
          "Honda",
          "Honda",
          "Honda",
          "Honda",
          "Hyundai",
          "Hyundai",
          "Hyundai",
          "Hyundai",
          "Hyundai",
          "Hyundai",
          "Hyundai",
          "Hyundai",
          "Hyundai",
          "Hyundai",
          "Hyundai",
          "Jaguar",
          "Jaguar",
          "Jaguar",
          "Jaguar",
          "Jaguar",
          "Jeep",
          "Jeep",
          "KIA",
          "Kia",
          "Kia",
          "Kia",
          "Kia",
          "Kia",
          "Kia",
          "Kia",
          "Kia",
          "Kia",
          "Kia",
          "Kia",
          "Kia",
          "Kia",
          "Kia",
          "Landrover",
          "Landrover",
          "Landrover",
          "Landrover",
          "Landrover",
          "Landrover",
          "Lexus",
          "Lexus",
          "Lexus",
          "Lexus",
          "Lexus",
          "Lexus",
          "Lexus",
          "Lexus",
          "Lexus",
          "MG",
          "Mazda",
          "Mazda",
          "Mazda",
          "Mazda",
          "Mazda",
          "Mazda",
          "Mazda",
          "Mercedes",
          "Mercedes",
          "Mercedes",
          "Mercedes",
          "Mercedes",
          "Mercedes",
          "Mercedes",
          "Mercedes",
          "Mercedes",
          "Mercedes",
          "Mercedes",
          "Mercedes-Benz",
          "Mini",
          "Mitsubishi",
          "Mitsubishi",
          "Mitsubishi",
          "Mitsubishi",
          "Mitsubishi",
          "Nissan",
          "Nissan",
          "Nissan",
          "Nissan",
          "Nissan",
          "Nissan",
          "Nissan",
          "Opel",
          "Opel",
          "Opel",
          "Opel",
          "Opel",
          "Opel",
          "Opel",
          "Opel",
          "Opel",
          "Peugeot",
          "Peugeot",
          "Peugeot",
          "Peugeot",
          "Peugeot",
          "Peugeot",
          "Peugeot",
          "Peugeot",
          "Porsche",
          "Porsche",
          "Porsche",
          "Porsche",
          "Renault",
          "Renault",
          "Renault",
          "Renault",
          "Renault",
          "Renault",
          "Renault",
          "Renault",
          "Renault",
          "Renault",
          "Seat",
          "Seat",
          "Seat",
          "Seat",
          "Seat",
          "Seat",
          "Seat",
          "Seat",
          "Skoda",
          "Skoda",
          "Skoda",
          "Skoda",
          "Skoda",
          "Skoda",
          "Skoda",
          "Skoda",
          "Skoda",
          "Skoda",
          "Ssangyong",
          "Subaru",
          "Subaru",
          "Subaru",
          "Suzuki",
          "Suzuki",
          "Suzuki",
          "Suzuki",
          "Suzuki",
          "Suzuki",
          "Tesla",
          "Tesla",
          "Tesla",
          "Toyota",
          "Toyota",
          "Toyota",
          "Toyota",
          "Toyota",
          "Toyota",
          "Toyota",
          "Toyota",
          "Toyota",
          "Toyota",
          "Volkswagen",
          "Volkswagen",
          "Volkswagen",
          "Volkswagen",
          "Volkswagen",
          "Volkswagen",
          "Volkswagen",
          "Volkswagen",
          "Volkswagen",
          "Volkswagen",
          "Volkswagen",
          "Volkswagen",
          "Volkswagen",
          "Volkswagen",
          "Volvo",
          "Volvo",
          "Volvo",
          "Volvo",
          "Volvo",
          "Volvo",
          "Volvo",
          "Volvo"
         ],
         "xaxis": "x2",
         "y": [
          0,
          96.5,
          0,
          210.5,
          643.5,
          509.5,
          211.5,
          594.5,
          115,
          96.5,
          0,
          210.5,
          193,
          113.5,
          0,
          91,
          108,
          0,
          247.5,
          260.5,
          447.5,
          244,
          767,
          96,
          95.5,
          0,
          89.5,
          90.5,
          90,
          115,
          0,
          169.5,
          109.5,
          244,
          null,
          96.5,
          null,
          112.5,
          117.5,
          0,
          662,
          0,
          null,
          99,
          0,
          null,
          865.5,
          171,
          862,
          203,
          96.5,
          107,
          104,
          116,
          0,
          278,
          163,
          0,
          1709.5,
          2175,
          98,
          90.5,
          97.5,
          279.5,
          1203.5,
          0,
          null,
          286.5,
          370.5,
          94.5,
          129.5,
          null,
          0,
          0,
          396,
          102.5,
          752,
          747,
          882,
          720.5,
          291,
          1651,
          0,
          0,
          0,
          102,
          148,
          0,
          100.5,
          null,
          187,
          354.5,
          0,
          148,
          183.5,
          105.5,
          275.5,
          173,
          114,
          1250,
          0,
          0,
          275.5,
          null,
          159,
          197,
          98.5,
          151,
          129.5,
          0,
          99.5,
          0,
          100,
          126.5,
          90,
          153,
          91,
          98.5,
          null,
          null,
          153.5,
          360.5,
          354,
          108,
          null,
          290.5,
          90.5,
          146,
          121.5,
          351.5,
          311.5,
          102,
          347.5,
          0,
          115,
          90,
          89.5,
          116,
          null,
          354,
          186,
          0,
          114,
          210,
          130.5,
          639,
          238.5,
          637,
          803.5,
          903.5,
          1977.5,
          304,
          114.5,
          1079.5,
          947.5,
          0,
          0,
          862,
          96,
          517,
          170,
          98.5,
          445,
          358.5,
          210,
          347.5,
          187,
          275.5,
          null,
          90.5,
          92.5,
          96.5,
          90.5,
          null,
          767,
          939.5,
          644.5,
          136,
          115,
          0,
          456.5,
          112.5,
          96,
          117.5,
          0,
          0,
          470,
          480,
          175,
          0,
          174,
          193,
          662.5,
          null,
          0,
          0,
          1853,
          376,
          null,
          520.5,
          224,
          92.5,
          109.5,
          95.5,
          96.5,
          0,
          120,
          0,
          133,
          137.5,
          237.5,
          0,
          90,
          0,
          1203.5,
          853,
          240.5,
          0,
          null,
          1652,
          111,
          781.5,
          141,
          1368,
          0,
          140.5,
          2838,
          null,
          null,
          541.5,
          1734.5,
          1081,
          89.5,
          null,
          0,
          639,
          183.5,
          210.5,
          207.5,
          0,
          291,
          110,
          0,
          0,
          237.5,
          114
         ],
         "yaxis": "y2"
        },
        {
         "name": "2016",
         "type": "box",
         "x": [
          "Alfa",
          "Alfa",
          "Alfa",
          "Audi",
          "Audi",
          "Audi",
          "Audi",
          "Audi",
          "Audi",
          "Audi",
          "Audi",
          "Audi",
          "Audi",
          "Audi",
          "Audi",
          "Audi",
          "Audi",
          "Audi",
          "BMW",
          "BMW",
          "BMW",
          "BMW",
          "BMW",
          "BMW",
          "BMW",
          "BMW",
          "BMW",
          "BMW",
          "BMW",
          "BMW",
          "BMW",
          "BMW",
          "BMW",
          "BMW",
          "BMW",
          "BMW",
          "BMW",
          "Citroen",
          "Citroen",
          "Citroen",
          "Citroen",
          "Citroen",
          "Citroen",
          "Citroen",
          "Citroen",
          "Cupra",
          "Dacia",
          "Dacia",
          "Dacia",
          "Fiat",
          "Fiat",
          "Fiat",
          "Fiat",
          "Fiat",
          "Fiat",
          "Ford",
          "Ford",
          "Ford",
          "Ford",
          "Ford",
          "Ford",
          "Ford",
          "Ford",
          "Ford",
          "Ford",
          "Ford",
          "Ford",
          "Honda",
          "Honda",
          "Honda",
          "Honda",
          "Hyundai",
          "Hyundai",
          "Hyundai",
          "Hyundai",
          "Hyundai",
          "Hyundai",
          "Hyundai",
          "Hyundai",
          "Hyundai",
          "Hyundai",
          "Hyundai",
          "Jaguar",
          "Jaguar",
          "Jaguar",
          "Jaguar",
          "Jaguar",
          "Jeep",
          "Jeep",
          "KIA",
          "Kia",
          "Kia",
          "Kia",
          "Kia",
          "Kia",
          "Kia",
          "Kia",
          "Kia",
          "Kia",
          "Kia",
          "Kia",
          "Kia",
          "Kia",
          "Kia",
          "Landrover",
          "Landrover",
          "Landrover",
          "Landrover",
          "Landrover",
          "Landrover",
          "Lexus",
          "Lexus",
          "Lexus",
          "Lexus",
          "Lexus",
          "Lexus",
          "Lexus",
          "Lexus",
          "Lexus",
          "MG",
          "Mazda",
          "Mazda",
          "Mazda",
          "Mazda",
          "Mazda",
          "Mazda",
          "Mazda",
          "Mercedes",
          "Mercedes",
          "Mercedes",
          "Mercedes",
          "Mercedes",
          "Mercedes",
          "Mercedes",
          "Mercedes",
          "Mercedes",
          "Mercedes",
          "Mercedes",
          "Mercedes-Benz",
          "Mini",
          "Mitsubishi",
          "Mitsubishi",
          "Mitsubishi",
          "Mitsubishi",
          "Mitsubishi",
          "Nissan",
          "Nissan",
          "Nissan",
          "Nissan",
          "Nissan",
          "Nissan",
          "Nissan",
          "Opel",
          "Opel",
          "Opel",
          "Opel",
          "Opel",
          "Opel",
          "Opel",
          "Opel",
          "Opel",
          "Peugeot",
          "Peugeot",
          "Peugeot",
          "Peugeot",
          "Peugeot",
          "Peugeot",
          "Peugeot",
          "Peugeot",
          "Porsche",
          "Porsche",
          "Porsche",
          "Porsche",
          "Renault",
          "Renault",
          "Renault",
          "Renault",
          "Renault",
          "Renault",
          "Renault",
          "Renault",
          "Renault",
          "Renault",
          "Seat",
          "Seat",
          "Seat",
          "Seat",
          "Seat",
          "Seat",
          "Seat",
          "Seat",
          "Skoda",
          "Skoda",
          "Skoda",
          "Skoda",
          "Skoda",
          "Skoda",
          "Skoda",
          "Skoda",
          "Skoda",
          "Skoda",
          "Ssangyong",
          "Subaru",
          "Subaru",
          "Subaru",
          "Suzuki",
          "Suzuki",
          "Suzuki",
          "Suzuki",
          "Suzuki",
          "Suzuki",
          "Tesla",
          "Tesla",
          "Tesla",
          "Toyota",
          "Toyota",
          "Toyota",
          "Toyota",
          "Toyota",
          "Toyota",
          "Toyota",
          "Toyota",
          "Toyota",
          "Toyota",
          "Volkswagen",
          "Volkswagen",
          "Volkswagen",
          "Volkswagen",
          "Volkswagen",
          "Volkswagen",
          "Volkswagen",
          "Volkswagen",
          "Volkswagen",
          "Volkswagen",
          "Volkswagen",
          "Volkswagen",
          "Volkswagen",
          "Volkswagen",
          "Volvo",
          "Volvo",
          "Volvo",
          "Volvo",
          "Volvo",
          "Volvo",
          "Volvo",
          "Volvo"
         ],
         "xaxis": "x3",
         "y": [
          97,
          101.5,
          0,
          217.5,
          694.5,
          757,
          195,
          612,
          112.5,
          100.5,
          97,
          233.5,
          226,
          177.5,
          0,
          0,
          103.5,
          0,
          239,
          281,
          544,
          254,
          757.5,
          101,
          122,
          0,
          97,
          97.5,
          97.5,
          240,
          0,
          202,
          106,
          249,
          null,
          102.5,
          null,
          99.5,
          111.5,
          0,
          551,
          97,
          null,
          100.5,
          0,
          null,
          1044.5,
          205,
          980.5,
          233.5,
          102,
          122.5,
          110,
          112.5,
          97.5,
          239.5,
          164.5,
          98,
          1879,
          2486,
          233.5,
          100.5,
          102.5,
          1052,
          893.5,
          106,
          null,
          257.5,
          258,
          195.5,
          208.5,
          null,
          97,
          0,
          277.5,
          3566.5,
          740.5,
          883,
          1028.5,
          569.5,
          318.5,
          119.5,
          0,
          116,
          0,
          151.5,
          163.5,
          0,
          111,
          null,
          204.5,
          482.5,
          97,
          243,
          212.5,
          135,
          296,
          330.5,
          102.5,
          1387,
          0,
          0,
          230.5,
          null,
          141,
          272.5,
          112,
          241,
          138,
          0,
          105,
          0,
          111.5,
          139,
          0,
          146,
          102,
          116.5,
          null,
          null,
          196,
          473.5,
          418.5,
          193,
          null,
          325.5,
          111.5,
          206.5,
          122,
          415.5,
          407.5,
          107.5,
          490,
          0,
          138,
          165.5,
          122,
          116.5,
          null,
          407.5,
          202.5,
          0,
          116,
          248.5,
          114,
          635.5,
          220.5,
          646.5,
          638.5,
          824,
          2194,
          677.5,
          116,
          1326,
          959.5,
          0,
          0,
          754.5,
          122,
          574.5,
          196,
          103.5,
          562,
          413.5,
          228.5,
          335.5,
          272.5,
          274.5,
          null,
          97,
          98,
          100.5,
          97,
          null,
          975,
          964.5,
          522.5,
          112.5,
          1221,
          0,
          402,
          103.5,
          97.5,
          152,
          0,
          109,
          588.5,
          474.5,
          149,
          0,
          136.5,
          179.5,
          784.5,
          null,
          0,
          0,
          2254.5,
          356.5,
          null,
          846.5,
          258,
          142.5,
          111.5,
          97.5,
          99.5,
          111,
          133,
          0,
          103.5,
          128,
          441.5,
          0,
          97,
          0,
          1402,
          766,
          248.5,
          112.5,
          null,
          1794.5,
          193,
          1093,
          159,
          1819,
          0,
          136.5,
          2650,
          null,
          null,
          626.5,
          1747.5,
          1135,
          112.5,
          null,
          0,
          757.5,
          206.5,
          151.5,
          208.5,
          102,
          312.5,
          111.5,
          0,
          0,
          270.5,
          239
         ],
         "yaxis": "y3"
        },
        {
         "name": "2017",
         "type": "box",
         "x": [
          "Alfa",
          "Alfa",
          "Alfa",
          "Audi",
          "Audi",
          "Audi",
          "Audi",
          "Audi",
          "Audi",
          "Audi",
          "Audi",
          "Audi",
          "Audi",
          "Audi",
          "Audi",
          "Audi",
          "Audi",
          "Audi",
          "BMW",
          "BMW",
          "BMW",
          "BMW",
          "BMW",
          "BMW",
          "BMW",
          "BMW",
          "BMW",
          "BMW",
          "BMW",
          "BMW",
          "BMW",
          "BMW",
          "BMW",
          "BMW",
          "BMW",
          "BMW",
          "BMW",
          "Citroen",
          "Citroen",
          "Citroen",
          "Citroen",
          "Citroen",
          "Citroen",
          "Citroen",
          "Citroen",
          "Cupra",
          "Dacia",
          "Dacia",
          "Dacia",
          "Fiat",
          "Fiat",
          "Fiat",
          "Fiat",
          "Fiat",
          "Fiat",
          "Ford",
          "Ford",
          "Ford",
          "Ford",
          "Ford",
          "Ford",
          "Ford",
          "Ford",
          "Ford",
          "Ford",
          "Ford",
          "Ford",
          "Honda",
          "Honda",
          "Honda",
          "Honda",
          "Hyundai",
          "Hyundai",
          "Hyundai",
          "Hyundai",
          "Hyundai",
          "Hyundai",
          "Hyundai",
          "Hyundai",
          "Hyundai",
          "Hyundai",
          "Hyundai",
          "Jaguar",
          "Jaguar",
          "Jaguar",
          "Jaguar",
          "Jaguar",
          "Jeep",
          "Jeep",
          "KIA",
          "Kia",
          "Kia",
          "Kia",
          "Kia",
          "Kia",
          "Kia",
          "Kia",
          "Kia",
          "Kia",
          "Kia",
          "Kia",
          "Kia",
          "Kia",
          "Kia",
          "Landrover",
          "Landrover",
          "Landrover",
          "Landrover",
          "Landrover",
          "Landrover",
          "Lexus",
          "Lexus",
          "Lexus",
          "Lexus",
          "Lexus",
          "Lexus",
          "Lexus",
          "Lexus",
          "Lexus",
          "MG",
          "Mazda",
          "Mazda",
          "Mazda",
          "Mazda",
          "Mazda",
          "Mazda",
          "Mazda",
          "Mercedes",
          "Mercedes",
          "Mercedes",
          "Mercedes",
          "Mercedes",
          "Mercedes",
          "Mercedes",
          "Mercedes",
          "Mercedes",
          "Mercedes",
          "Mercedes",
          "Mercedes-Benz",
          "Mini",
          "Mitsubishi",
          "Mitsubishi",
          "Mitsubishi",
          "Mitsubishi",
          "Mitsubishi",
          "Nissan",
          "Nissan",
          "Nissan",
          "Nissan",
          "Nissan",
          "Nissan",
          "Nissan",
          "Opel",
          "Opel",
          "Opel",
          "Opel",
          "Opel",
          "Opel",
          "Opel",
          "Opel",
          "Opel",
          "Peugeot",
          "Peugeot",
          "Peugeot",
          "Peugeot",
          "Peugeot",
          "Peugeot",
          "Peugeot",
          "Peugeot",
          "Porsche",
          "Porsche",
          "Porsche",
          "Porsche",
          "Renault",
          "Renault",
          "Renault",
          "Renault",
          "Renault",
          "Renault",
          "Renault",
          "Renault",
          "Renault",
          "Renault",
          "Seat",
          "Seat",
          "Seat",
          "Seat",
          "Seat",
          "Seat",
          "Seat",
          "Seat",
          "Skoda",
          "Skoda",
          "Skoda",
          "Skoda",
          "Skoda",
          "Skoda",
          "Skoda",
          "Skoda",
          "Skoda",
          "Skoda",
          "Ssangyong",
          "Subaru",
          "Subaru",
          "Subaru",
          "Suzuki",
          "Suzuki",
          "Suzuki",
          "Suzuki",
          "Suzuki",
          "Suzuki",
          "Tesla",
          "Tesla",
          "Tesla",
          "Toyota",
          "Toyota",
          "Toyota",
          "Toyota",
          "Toyota",
          "Toyota",
          "Toyota",
          "Toyota",
          "Toyota",
          "Toyota",
          "Volkswagen",
          "Volkswagen",
          "Volkswagen",
          "Volkswagen",
          "Volkswagen",
          "Volkswagen",
          "Volkswagen",
          "Volkswagen",
          "Volkswagen",
          "Volkswagen",
          "Volkswagen",
          "Volkswagen",
          "Volkswagen",
          "Volkswagen",
          "Volvo",
          "Volvo",
          "Volvo",
          "Volvo",
          "Volvo",
          "Volvo",
          "Volvo",
          "Volvo"
         ],
         "xaxis": "x4",
         "y": [
          111.5,
          105,
          103.5,
          187.5,
          618,
          662.5,
          209,
          511.5,
          112,
          105,
          198,
          193.5,
          200.5,
          166,
          0,
          103.5,
          107,
          0,
          193.5,
          172.5,
          424.5,
          209,
          839,
          104,
          112,
          0,
          105.5,
          104,
          0,
          273.5,
          0,
          185,
          106,
          180,
          null,
          105,
          null,
          109,
          239,
          0,
          378.5,
          104,
          null,
          105,
          105.5,
          null,
          849.5,
          193,
          762.5,
          189.5,
          106.5,
          112.5,
          107.5,
          112.5,
          177.5,
          196.5,
          204.5,
          106.5,
          1572,
          1970.5,
          204.5,
          105,
          216,
          793,
          666,
          105,
          null,
          206.5,
          241,
          157.5,
          202.5,
          null,
          196.5,
          103.5,
          286.5,
          2333.5,
          692.5,
          761.5,
          823,
          350.5,
          301.5,
          104,
          0,
          205.5,
          0,
          147,
          136.5,
          0,
          107.5,
          null,
          167.5,
          415.5,
          163,
          263,
          240,
          122.5,
          343,
          377,
          105,
          1470.5,
          103.5,
          111.5,
          200.5,
          null,
          171,
          228.5,
          113,
          187.5,
          154.5,
          105.5,
          110,
          0,
          106.5,
          132,
          0,
          134.5,
          105.5,
          112.5,
          null,
          null,
          187.5,
          405,
          311.5,
          181,
          null,
          375,
          109,
          214.5,
          131.5,
          465.5,
          421.5,
          106,
          766.5,
          0,
          150.5,
          265.5,
          126.5,
          113.5,
          null,
          329,
          167.5,
          0,
          106,
          202.5,
          112.5,
          496,
          180.5,
          827.5,
          424,
          511.5,
          1985.5,
          666,
          120,
          1049,
          823,
          133,
          0,
          472.5,
          150,
          558,
          167.5,
          112.5,
          544.5,
          349,
          535,
          220.5,
          150,
          171.5,
          null,
          104,
          104,
          106,
          105.5,
          null,
          889.5,
          883.5,
          150,
          187.5,
          801.5,
          119.5,
          1099.5,
          156,
          111.5,
          158.5,
          104,
          417.5,
          560.5,
          457.5,
          139,
          0,
          182,
          168.5,
          738,
          null,
          104,
          375,
          1906,
          306.5,
          null,
          828.5,
          180.5,
          113.5,
          118.5,
          105,
          105.5,
          124.5,
          162.5,
          165,
          126.5,
          135,
          308,
          0,
          106.5,
          104.5,
          922.5,
          399,
          228.5,
          1009,
          null,
          1330.5,
          193.5,
          666,
          121,
          1417,
          112.5,
          140.5,
          2292,
          null,
          null,
          497.5,
          1117,
          1021,
          126,
          null,
          104,
          1197.5,
          197.5,
          180,
          167.5,
          171,
          252.5,
          113,
          113.5,
          0,
          255.5,
          208.5
         ],
         "yaxis": "y4"
        },
        {
         "name": "2018",
         "type": "box",
         "x": [
          "Alfa",
          "Alfa",
          "Alfa",
          "Audi",
          "Audi",
          "Audi",
          "Audi",
          "Audi",
          "Audi",
          "Audi",
          "Audi",
          "Audi",
          "Audi",
          "Audi",
          "Audi",
          "Audi",
          "Audi",
          "Audi",
          "BMW",
          "BMW",
          "BMW",
          "BMW",
          "BMW",
          "BMW",
          "BMW",
          "BMW",
          "BMW",
          "BMW",
          "BMW",
          "BMW",
          "BMW",
          "BMW",
          "BMW",
          "BMW",
          "BMW",
          "BMW",
          "BMW",
          "Citroen",
          "Citroen",
          "Citroen",
          "Citroen",
          "Citroen",
          "Citroen",
          "Citroen",
          "Citroen",
          "Cupra",
          "Dacia",
          "Dacia",
          "Dacia",
          "Fiat",
          "Fiat",
          "Fiat",
          "Fiat",
          "Fiat",
          "Fiat",
          "Ford",
          "Ford",
          "Ford",
          "Ford",
          "Ford",
          "Ford",
          "Ford",
          "Ford",
          "Ford",
          "Ford",
          "Ford",
          "Ford",
          "Honda",
          "Honda",
          "Honda",
          "Honda",
          "Hyundai",
          "Hyundai",
          "Hyundai",
          "Hyundai",
          "Hyundai",
          "Hyundai",
          "Hyundai",
          "Hyundai",
          "Hyundai",
          "Hyundai",
          "Hyundai",
          "Jaguar",
          "Jaguar",
          "Jaguar",
          "Jaguar",
          "Jaguar",
          "Jeep",
          "Jeep",
          "KIA",
          "Kia",
          "Kia",
          "Kia",
          "Kia",
          "Kia",
          "Kia",
          "Kia",
          "Kia",
          "Kia",
          "Kia",
          "Kia",
          "Kia",
          "Kia",
          "Kia",
          "Landrover",
          "Landrover",
          "Landrover",
          "Landrover",
          "Landrover",
          "Landrover",
          "Lexus",
          "Lexus",
          "Lexus",
          "Lexus",
          "Lexus",
          "Lexus",
          "Lexus",
          "Lexus",
          "Lexus",
          "MG",
          "Mazda",
          "Mazda",
          "Mazda",
          "Mazda",
          "Mazda",
          "Mazda",
          "Mazda",
          "Mercedes",
          "Mercedes",
          "Mercedes",
          "Mercedes",
          "Mercedes",
          "Mercedes",
          "Mercedes",
          "Mercedes",
          "Mercedes",
          "Mercedes",
          "Mercedes",
          "Mercedes-Benz",
          "Mini",
          "Mitsubishi",
          "Mitsubishi",
          "Mitsubishi",
          "Mitsubishi",
          "Mitsubishi",
          "Nissan",
          "Nissan",
          "Nissan",
          "Nissan",
          "Nissan",
          "Nissan",
          "Nissan",
          "Opel",
          "Opel",
          "Opel",
          "Opel",
          "Opel",
          "Opel",
          "Opel",
          "Opel",
          "Opel",
          "Peugeot",
          "Peugeot",
          "Peugeot",
          "Peugeot",
          "Peugeot",
          "Peugeot",
          "Peugeot",
          "Peugeot",
          "Porsche",
          "Porsche",
          "Porsche",
          "Porsche",
          "Renault",
          "Renault",
          "Renault",
          "Renault",
          "Renault",
          "Renault",
          "Renault",
          "Renault",
          "Renault",
          "Renault",
          "Seat",
          "Seat",
          "Seat",
          "Seat",
          "Seat",
          "Seat",
          "Seat",
          "Seat",
          "Skoda",
          "Skoda",
          "Skoda",
          "Skoda",
          "Skoda",
          "Skoda",
          "Skoda",
          "Skoda",
          "Skoda",
          "Skoda",
          "Ssangyong",
          "Subaru",
          "Subaru",
          "Subaru",
          "Suzuki",
          "Suzuki",
          "Suzuki",
          "Suzuki",
          "Suzuki",
          "Suzuki",
          "Tesla",
          "Tesla",
          "Tesla",
          "Toyota",
          "Toyota",
          "Toyota",
          "Toyota",
          "Toyota",
          "Toyota",
          "Toyota",
          "Toyota",
          "Toyota",
          "Toyota",
          "Volkswagen",
          "Volkswagen",
          "Volkswagen",
          "Volkswagen",
          "Volkswagen",
          "Volkswagen",
          "Volkswagen",
          "Volkswagen",
          "Volkswagen",
          "Volkswagen",
          "Volkswagen",
          "Volkswagen",
          "Volkswagen",
          "Volkswagen",
          "Volvo",
          "Volvo",
          "Volvo",
          "Volvo",
          "Volvo",
          "Volvo",
          "Volvo",
          "Volvo"
         ],
         "xaxis": "x5",
         "y": [
          109.5,
          109.5,
          109.5,
          167.5,
          511,
          575,
          227.5,
          388,
          118,
          110,
          203,
          178,
          236.5,
          167,
          109.5,
          112.5,
          109.5,
          0,
          204,
          152.5,
          243,
          173.5,
          777.5,
          109.5,
          111.5,
          0,
          110.5,
          110.5,
          110,
          236.5,
          113.5,
          280.5,
          108.5,
          184.5,
          null,
          118,
          null,
          108,
          260,
          0,
          224.5,
          109.5,
          null,
          112.5,
          117.5,
          null,
          891,
          173,
          716.5,
          189,
          109.5,
          121.5,
          111.5,
          114,
          136,
          152.5,
          181,
          109.5,
          1323.5,
          1908.5,
          120.5,
          111,
          265,
          908,
          567.5,
          108.5,
          null,
          156,
          359,
          147.5,
          173,
          null,
          131.5,
          954,
          250.5,
          1894.5,
          601,
          562,
          823,
          278,
          215.5,
          0,
          153.5,
          173,
          110,
          114,
          117.5,
          111.5,
          109.5,
          null,
          144,
          341,
          208,
          227.5,
          240.5,
          117.5,
          238,
          324,
          110.5,
          1376,
          108.5,
          528,
          180,
          null,
          184.5,
          151.5,
          113.5,
          144.5,
          153.5,
          146.5,
          113.5,
          0,
          110.5,
          125.5,
          109.5,
          151,
          108.5,
          117.5,
          null,
          null,
          167,
          325.5,
          266.5,
          160.5,
          null,
          352,
          111,
          200.5,
          118,
          366.5,
          328,
          110,
          690.5,
          0,
          138,
          282.5,
          119.5,
          125,
          null,
          319.5,
          166.5,
          153.5,
          111,
          169,
          114,
          425.5,
          408.5,
          1082,
          109.5,
          493.5,
          1875,
          402,
          111.5,
          570,
          549,
          213,
          281,
          472,
          114,
          368.5,
          138,
          110.5,
          511,
          278,
          1024.5,
          173,
          655,
          129.5,
          null,
          112.5,
          109.5,
          108,
          110.5,
          null,
          767.5,
          800.5,
          109.5,
          188,
          677,
          217.5,
          822,
          129.5,
          121,
          144.5,
          445,
          399,
          493.5,
          386,
          153.5,
          0,
          110.5,
          204,
          672.5,
          null,
          518,
          542.5,
          1605,
          221,
          null,
          707,
          109.5,
          113.5,
          114,
          111,
          114,
          115.5,
          144,
          153.5,
          121,
          153,
          304.5,
          0,
          119,
          110,
          1030.5,
          153.5,
          211.5,
          1232,
          null,
          926,
          192.5,
          722,
          109.5,
          1383,
          165.5,
          144,
          1972.5,
          null,
          null,
          192,
          950.5,
          1116,
          121,
          null,
          581.5,
          1351.5,
          162.5,
          173,
          162,
          160.5,
          203,
          111.5,
          115.5,
          153,
          209,
          209
         ],
         "yaxis": "y5"
        },
        {
         "name": "2019",
         "type": "box",
         "x": [
          "Alfa",
          "Alfa",
          "Alfa",
          "Audi",
          "Audi",
          "Audi",
          "Audi",
          "Audi",
          "Audi",
          "Audi",
          "Audi",
          "Audi",
          "Audi",
          "Audi",
          "Audi",
          "Audi",
          "Audi",
          "Audi",
          "BMW",
          "BMW",
          "BMW",
          "BMW",
          "BMW",
          "BMW",
          "BMW",
          "BMW",
          "BMW",
          "BMW",
          "BMW",
          "BMW",
          "BMW",
          "BMW",
          "BMW",
          "BMW",
          "BMW",
          "BMW",
          "BMW",
          "Citroen",
          "Citroen",
          "Citroen",
          "Citroen",
          "Citroen",
          "Citroen",
          "Citroen",
          "Citroen",
          "Cupra",
          "Dacia",
          "Dacia",
          "Dacia",
          "Fiat",
          "Fiat",
          "Fiat",
          "Fiat",
          "Fiat",
          "Fiat",
          "Ford",
          "Ford",
          "Ford",
          "Ford",
          "Ford",
          "Ford",
          "Ford",
          "Ford",
          "Ford",
          "Ford",
          "Ford",
          "Ford",
          "Honda",
          "Honda",
          "Honda",
          "Honda",
          "Hyundai",
          "Hyundai",
          "Hyundai",
          "Hyundai",
          "Hyundai",
          "Hyundai",
          "Hyundai",
          "Hyundai",
          "Hyundai",
          "Hyundai",
          "Hyundai",
          "Jaguar",
          "Jaguar",
          "Jaguar",
          "Jaguar",
          "Jaguar",
          "Jeep",
          "Jeep",
          "KIA",
          "Kia",
          "Kia",
          "Kia",
          "Kia",
          "Kia",
          "Kia",
          "Kia",
          "Kia",
          "Kia",
          "Kia",
          "Kia",
          "Kia",
          "Kia",
          "Kia",
          "Landrover",
          "Landrover",
          "Landrover",
          "Landrover",
          "Landrover",
          "Landrover",
          "Lexus",
          "Lexus",
          "Lexus",
          "Lexus",
          "Lexus",
          "Lexus",
          "Lexus",
          "Lexus",
          "Lexus",
          "MG",
          "Mazda",
          "Mazda",
          "Mazda",
          "Mazda",
          "Mazda",
          "Mazda",
          "Mazda",
          "Mercedes",
          "Mercedes",
          "Mercedes",
          "Mercedes",
          "Mercedes",
          "Mercedes",
          "Mercedes",
          "Mercedes",
          "Mercedes",
          "Mercedes",
          "Mercedes",
          "Mercedes-Benz",
          "Mini",
          "Mitsubishi",
          "Mitsubishi",
          "Mitsubishi",
          "Mitsubishi",
          "Mitsubishi",
          "Nissan",
          "Nissan",
          "Nissan",
          "Nissan",
          "Nissan",
          "Nissan",
          "Nissan",
          "Opel",
          "Opel",
          "Opel",
          "Opel",
          "Opel",
          "Opel",
          "Opel",
          "Opel",
          "Opel",
          "Peugeot",
          "Peugeot",
          "Peugeot",
          "Peugeot",
          "Peugeot",
          "Peugeot",
          "Peugeot",
          "Peugeot",
          "Porsche",
          "Porsche",
          "Porsche",
          "Porsche",
          "Renault",
          "Renault",
          "Renault",
          "Renault",
          "Renault",
          "Renault",
          "Renault",
          "Renault",
          "Renault",
          "Renault",
          "Seat",
          "Seat",
          "Seat",
          "Seat",
          "Seat",
          "Seat",
          "Seat",
          "Seat",
          "Skoda",
          "Skoda",
          "Skoda",
          "Skoda",
          "Skoda",
          "Skoda",
          "Skoda",
          "Skoda",
          "Skoda",
          "Skoda",
          "Ssangyong",
          "Subaru",
          "Subaru",
          "Subaru",
          "Suzuki",
          "Suzuki",
          "Suzuki",
          "Suzuki",
          "Suzuki",
          "Suzuki",
          "Tesla",
          "Tesla",
          "Tesla",
          "Toyota",
          "Toyota",
          "Toyota",
          "Toyota",
          "Toyota",
          "Toyota",
          "Toyota",
          "Toyota",
          "Toyota",
          "Toyota",
          "Volkswagen",
          "Volkswagen",
          "Volkswagen",
          "Volkswagen",
          "Volkswagen",
          "Volkswagen",
          "Volkswagen",
          "Volkswagen",
          "Volkswagen",
          "Volkswagen",
          "Volkswagen",
          "Volkswagen",
          "Volkswagen",
          "Volkswagen",
          "Volvo",
          "Volvo",
          "Volvo",
          "Volvo",
          "Volvo",
          "Volvo",
          "Volvo",
          "Volvo"
         ],
         "xaxis": "x6",
         "y": [
          106,
          107,
          107,
          159.5,
          405.5,
          386,
          181,
          490.5,
          107.5,
          106,
          215.5,
          270,
          212,
          125,
          110.5,
          0,
          106.5,
          107,
          184,
          136,
          400.5,
          140,
          539,
          106,
          106,
          105.5,
          108,
          107,
          108,
          203,
          109.5,
          211,
          106,
          229.5,
          null,
          133.5,
          null,
          107,
          147,
          129,
          106,
          125,
          null,
          106,
          143.5,
          null,
          894,
          151.5,
          565,
          135,
          108,
          107.5,
          106,
          0,
          129,
          119.5,
          317,
          109,
          1201.5,
          1369,
          116.5,
          107,
          179,
          981.5,
          337,
          107,
          null,
          153.5,
          330.5,
          150.5,
          163,
          null,
          134.5,
          1455,
          235.5,
          1753.5,
          439.5,
          525.5,
          525.5,
          178,
          151,
          0,
          146,
          134.5,
          105.5,
          105.5,
          105.5,
          116.5,
          106,
          null,
          106,
          363,
          276,
          152,
          287.5,
          109.5,
          179,
          215.5,
          108,
          1139.5,
          105,
          539,
          105.5,
          null,
          133,
          165,
          107,
          165,
          187.5,
          138.5,
          105.5,
          129.5,
          0,
          107,
          106.5,
          135.5,
          107.5,
          107,
          null,
          null,
          165.5,
          235.5,
          194,
          146,
          null,
          337.5,
          105.5,
          330,
          125.5,
          325,
          261,
          122,
          387.5,
          108.5,
          107.5,
          194,
          107,
          105.5,
          null,
          287.5,
          135,
          187.5,
          108,
          226,
          107,
          133,
          550,
          1201,
          109,
          129,
          1761,
          317,
          107.5,
          441.5,
          574,
          247.5,
          351.5,
          306.5,
          107.5,
          262,
          108.5,
          105.5,
          429.5,
          241.5,
          1025.5,
          162,
          652.5,
          169.5,
          null,
          106.5,
          106.5,
          106,
          105.5,
          null,
          841.5,
          901,
          0,
          152,
          661.5,
          115.5,
          622.5,
          117,
          178.5,
          150.5,
          556,
          496,
          437.5,
          282,
          113.5,
          189.5,
          108.5,
          171.5,
          567.5,
          null,
          539.5,
          897,
          1531.5,
          118.5,
          null,
          656,
          0,
          105,
          106,
          106,
          105.5,
          110.5,
          108,
          149,
          113.5,
          146,
          310.5,
          147,
          107,
          106,
          107.5,
          108.5,
          185,
          1212,
          null,
          2049.5,
          121,
          792.5,
          0,
          1234,
          163,
          106.5,
          1534,
          null,
          null,
          109,
          908,
          1138.5,
          109.5,
          null,
          787.5,
          1515,
          139.5,
          165.5,
          109.5,
          124,
          130,
          130,
          107,
          188,
          214.5,
          187.5
         ],
         "yaxis": "y6"
        },
        {
         "name": "2020",
         "type": "box",
         "x": [
          "Alfa",
          "Alfa",
          "Alfa",
          "Audi",
          "Audi",
          "Audi",
          "Audi",
          "Audi",
          "Audi",
          "Audi",
          "Audi",
          "Audi",
          "Audi",
          "Audi",
          "Audi",
          "Audi",
          "Audi",
          "Audi",
          "BMW",
          "BMW",
          "BMW",
          "BMW",
          "BMW",
          "BMW",
          "BMW",
          "BMW",
          "BMW",
          "BMW",
          "BMW",
          "BMW",
          "BMW",
          "BMW",
          "BMW",
          "BMW",
          "BMW",
          "BMW",
          "BMW",
          "Citroen",
          "Citroen",
          "Citroen",
          "Citroen",
          "Citroen",
          "Citroen",
          "Citroen",
          "Citroen",
          "Cupra",
          "Dacia",
          "Dacia",
          "Dacia",
          "Fiat",
          "Fiat",
          "Fiat",
          "Fiat",
          "Fiat",
          "Fiat",
          "Ford",
          "Ford",
          "Ford",
          "Ford",
          "Ford",
          "Ford",
          "Ford",
          "Ford",
          "Ford",
          "Ford",
          "Ford",
          "Ford",
          "Honda",
          "Honda",
          "Honda",
          "Honda",
          "Hyundai",
          "Hyundai",
          "Hyundai",
          "Hyundai",
          "Hyundai",
          "Hyundai",
          "Hyundai",
          "Hyundai",
          "Hyundai",
          "Hyundai",
          "Hyundai",
          "Jaguar",
          "Jaguar",
          "Jaguar",
          "Jaguar",
          "Jaguar",
          "Jeep",
          "Jeep",
          "KIA",
          "Kia",
          "Kia",
          "Kia",
          "Kia",
          "Kia",
          "Kia",
          "Kia",
          "Kia",
          "Kia",
          "Kia",
          "Kia",
          "Kia",
          "Kia",
          "Kia",
          "Landrover",
          "Landrover",
          "Landrover",
          "Landrover",
          "Landrover",
          "Landrover",
          "Lexus",
          "Lexus",
          "Lexus",
          "Lexus",
          "Lexus",
          "Lexus",
          "Lexus",
          "Lexus",
          "Lexus",
          "MG",
          "Mazda",
          "Mazda",
          "Mazda",
          "Mazda",
          "Mazda",
          "Mazda",
          "Mazda",
          "Mercedes",
          "Mercedes",
          "Mercedes",
          "Mercedes",
          "Mercedes",
          "Mercedes",
          "Mercedes",
          "Mercedes",
          "Mercedes",
          "Mercedes",
          "Mercedes",
          "Mercedes-Benz",
          "Mini",
          "Mitsubishi",
          "Mitsubishi",
          "Mitsubishi",
          "Mitsubishi",
          "Mitsubishi",
          "Nissan",
          "Nissan",
          "Nissan",
          "Nissan",
          "Nissan",
          "Nissan",
          "Nissan",
          "Opel",
          "Opel",
          "Opel",
          "Opel",
          "Opel",
          "Opel",
          "Opel",
          "Opel",
          "Opel",
          "Peugeot",
          "Peugeot",
          "Peugeot",
          "Peugeot",
          "Peugeot",
          "Peugeot",
          "Peugeot",
          "Peugeot",
          "Porsche",
          "Porsche",
          "Porsche",
          "Porsche",
          "Renault",
          "Renault",
          "Renault",
          "Renault",
          "Renault",
          "Renault",
          "Renault",
          "Renault",
          "Renault",
          "Renault",
          "Seat",
          "Seat",
          "Seat",
          "Seat",
          "Seat",
          "Seat",
          "Seat",
          "Seat",
          "Skoda",
          "Skoda",
          "Skoda",
          "Skoda",
          "Skoda",
          "Skoda",
          "Skoda",
          "Skoda",
          "Skoda",
          "Skoda",
          "Ssangyong",
          "Subaru",
          "Subaru",
          "Subaru",
          "Suzuki",
          "Suzuki",
          "Suzuki",
          "Suzuki",
          "Suzuki",
          "Suzuki",
          "Tesla",
          "Tesla",
          "Tesla",
          "Toyota",
          "Toyota",
          "Toyota",
          "Toyota",
          "Toyota",
          "Toyota",
          "Toyota",
          "Toyota",
          "Toyota",
          "Toyota",
          "Volkswagen",
          "Volkswagen",
          "Volkswagen",
          "Volkswagen",
          "Volkswagen",
          "Volkswagen",
          "Volkswagen",
          "Volkswagen",
          "Volkswagen",
          "Volkswagen",
          "Volkswagen",
          "Volkswagen",
          "Volkswagen",
          "Volkswagen",
          "Volvo",
          "Volvo",
          "Volvo",
          "Volvo",
          "Volvo",
          "Volvo",
          "Volvo",
          "Volvo"
         ],
         "xaxis": "x7",
         "y": [
          100,
          102,
          102,
          144,
          281,
          303,
          141.5,
          313.5,
          96,
          96.5,
          166,
          295,
          220.5,
          113.5,
          95.5,
          0,
          98,
          112.5,
          170.5,
          121,
          392,
          94.5,
          323,
          104,
          97.5,
          96.5,
          100,
          107.5,
          102,
          170,
          97,
          197.5,
          96.5,
          228.5,
          94.5,
          103.5,
          null,
          104,
          127,
          106,
          0,
          96,
          220.5,
          0,
          107.5,
          null,
          620,
          109,
          326.5,
          118,
          105.5,
          96,
          96,
          0,
          95,
          98,
          194.5,
          0,
          757.5,
          1219.5,
          96,
          108,
          99,
          416.5,
          239,
          100,
          354,
          135.5,
          228,
          116.5,
          110,
          null,
          158.5,
          1110,
          182.5,
          1322,
          318.5,
          392,
          239,
          102,
          110.5,
          0,
          105.5,
          113.5,
          97,
          95,
          96.5,
          105.5,
          97,
          null,
          0,
          201,
          449.5,
          96.5,
          166.5,
          108,
          151,
          103.5,
          158.5,
          890.5,
          0,
          452,
          0,
          218,
          107.5,
          232,
          96,
          142.5,
          141,
          116,
          96.5,
          110.5,
          0,
          96.5,
          108,
          121.5,
          105.5,
          98,
          100.5,
          null,
          110.5,
          192,
          109,
          98,
          199,
          223.5,
          96.5,
          295.5,
          98.5,
          199.5,
          262.5,
          101,
          280.5,
          97,
          108,
          238.5,
          140,
          96.5,
          null,
          240,
          97,
          97,
          0,
          165.5,
          103.5,
          591,
          322.5,
          529.5,
          0,
          0,
          945.5,
          226.5,
          107,
          157.5,
          359.5,
          182.5,
          198.5,
          191.5,
          102,
          96.5,
          107,
          96.5,
          309.5,
          324,
          739.5,
          123.5,
          585.5,
          151,
          99.5,
          100,
          96.5,
          99,
          97,
          null,
          648.5,
          540,
          0,
          114,
          391,
          107.5,
          295,
          96,
          160.5,
          101,
          476,
          404,
          287.5,
          202.5,
          104,
          263.5,
          0,
          108,
          318.5,
          282,
          515,
          765.5,
          979,
          108,
          248,
          448,
          0,
          97,
          95,
          100,
          102,
          105.5,
          104,
          150.5,
          96.5,
          136.5,
          263,
          376,
          95,
          96.5,
          107.5,
          0,
          173.5,
          991.5,
          216,
          1813,
          106,
          656,
          0,
          917,
          138.5,
          0,
          1066,
          210.5,
          null,
          0,
          586,
          714.5,
          96.5,
          447.5,
          579,
          1366.5,
          98.5,
          99,
          94.5,
          96.5,
          102,
          99.5,
          95,
          244.5,
          195,
          151
         ],
         "yaxis": "y7"
        },
        {
         "name": "2021",
         "type": "box",
         "x": [
          "Alfa",
          "Alfa",
          "Alfa",
          "Audi",
          "Audi",
          "Audi",
          "Audi",
          "Audi",
          "Audi",
          "Audi",
          "Audi",
          "Audi",
          "Audi",
          "Audi",
          "Audi",
          "Audi",
          "Audi",
          "Audi",
          "BMW",
          "BMW",
          "BMW",
          "BMW",
          "BMW",
          "BMW",
          "BMW",
          "BMW",
          "BMW",
          "BMW",
          "BMW",
          "BMW",
          "BMW",
          "BMW",
          "BMW",
          "BMW",
          "BMW",
          "BMW",
          "BMW",
          "Citroen",
          "Citroen",
          "Citroen",
          "Citroen",
          "Citroen",
          "Citroen",
          "Citroen",
          "Citroen",
          "Cupra",
          "Dacia",
          "Dacia",
          "Dacia",
          "Fiat",
          "Fiat",
          "Fiat",
          "Fiat",
          "Fiat",
          "Fiat",
          "Ford",
          "Ford",
          "Ford",
          "Ford",
          "Ford",
          "Ford",
          "Ford",
          "Ford",
          "Ford",
          "Ford",
          "Ford",
          "Ford",
          "Honda",
          "Honda",
          "Honda",
          "Honda",
          "Hyundai",
          "Hyundai",
          "Hyundai",
          "Hyundai",
          "Hyundai",
          "Hyundai",
          "Hyundai",
          "Hyundai",
          "Hyundai",
          "Hyundai",
          "Hyundai",
          "Jaguar",
          "Jaguar",
          "Jaguar",
          "Jaguar",
          "Jaguar",
          "Jeep",
          "Jeep",
          "KIA",
          "Kia",
          "Kia",
          "Kia",
          "Kia",
          "Kia",
          "Kia",
          "Kia",
          "Kia",
          "Kia",
          "Kia",
          "Kia",
          "Kia",
          "Kia",
          "Kia",
          "Landrover",
          "Landrover",
          "Landrover",
          "Landrover",
          "Landrover",
          "Landrover",
          "Lexus",
          "Lexus",
          "Lexus",
          "Lexus",
          "Lexus",
          "Lexus",
          "Lexus",
          "Lexus",
          "Lexus",
          "MG",
          "Mazda",
          "Mazda",
          "Mazda",
          "Mazda",
          "Mazda",
          "Mazda",
          "Mazda",
          "Mercedes",
          "Mercedes",
          "Mercedes",
          "Mercedes",
          "Mercedes",
          "Mercedes",
          "Mercedes",
          "Mercedes",
          "Mercedes",
          "Mercedes",
          "Mercedes",
          "Mercedes-Benz",
          "Mini",
          "Mitsubishi",
          "Mitsubishi",
          "Mitsubishi",
          "Mitsubishi",
          "Mitsubishi",
          "Nissan",
          "Nissan",
          "Nissan",
          "Nissan",
          "Nissan",
          "Nissan",
          "Nissan",
          "Opel",
          "Opel",
          "Opel",
          "Opel",
          "Opel",
          "Opel",
          "Opel",
          "Opel",
          "Opel",
          "Peugeot",
          "Peugeot",
          "Peugeot",
          "Peugeot",
          "Peugeot",
          "Peugeot",
          "Peugeot",
          "Peugeot",
          "Porsche",
          "Porsche",
          "Porsche",
          "Porsche",
          "Renault",
          "Renault",
          "Renault",
          "Renault",
          "Renault",
          "Renault",
          "Renault",
          "Renault",
          "Renault",
          "Renault",
          "Seat",
          "Seat",
          "Seat",
          "Seat",
          "Seat",
          "Seat",
          "Seat",
          "Seat",
          "Skoda",
          "Skoda",
          "Skoda",
          "Skoda",
          "Skoda",
          "Skoda",
          "Skoda",
          "Skoda",
          "Skoda",
          "Skoda",
          "Ssangyong",
          "Subaru",
          "Subaru",
          "Subaru",
          "Suzuki",
          "Suzuki",
          "Suzuki",
          "Suzuki",
          "Suzuki",
          "Suzuki",
          "Tesla",
          "Tesla",
          "Tesla",
          "Toyota",
          "Toyota",
          "Toyota",
          "Toyota",
          "Toyota",
          "Toyota",
          "Toyota",
          "Toyota",
          "Toyota",
          "Toyota",
          "Volkswagen",
          "Volkswagen",
          "Volkswagen",
          "Volkswagen",
          "Volkswagen",
          "Volkswagen",
          "Volkswagen",
          "Volkswagen",
          "Volkswagen",
          "Volkswagen",
          "Volkswagen",
          "Volkswagen",
          "Volkswagen",
          "Volkswagen",
          "Volvo",
          "Volvo",
          "Volvo",
          "Volvo",
          "Volvo",
          "Volvo",
          "Volvo",
          "Volvo"
         ],
         "xaxis": "x8",
         "y": [
          95.5,
          100.5,
          102.5,
          155,
          417,
          321.5,
          179.5,
          312.5,
          99,
          96.5,
          186,
          308.5,
          210.5,
          100,
          94,
          0,
          102.5,
          215,
          196.5,
          249,
          361,
          153,
          531.5,
          0,
          94,
          94,
          101,
          101,
          0,
          187.5,
          94.5,
          245.5,
          96.5,
          380,
          95.5,
          93,
          99,
          103,
          125,
          112,
          120,
          95.5,
          208,
          101,
          100.5,
          128.5,
          562.5,
          98.5,
          507,
          120.5,
          101,
          94,
          93,
          104.5,
          94,
          104.5,
          94.5,
          0,
          558,
          1057.5,
          95.5,
          104.5,
          0,
          783,
          247.5,
          93,
          847,
          112.5,
          208.5,
          129,
          111.5,
          148.5,
          196.5,
          937,
          196.5,
          2474.5,
          341,
          635,
          303,
          0,
          103,
          0,
          102.5,
          108.5,
          93,
          102.5,
          94,
          99,
          98,
          94.5,
          0,
          297.5,
          634.5,
          103,
          170.5,
          99.5,
          211.5,
          366.5,
          106,
          969.5,
          0,
          371,
          0,
          257.5,
          94,
          122.5,
          94.5,
          165.5,
          208.5,
          108.5,
          104.5,
          123.5,
          0,
          0,
          103,
          119,
          104.5,
          93,
          100.5,
          173,
          111.5,
          170.5,
          95.5,
          100.5,
          205,
          196.5,
          100.5,
          211,
          94,
          112.5,
          233,
          94.5,
          438.5,
          96,
          196.5,
          236,
          110,
          112,
          210,
          321.5,
          94,
          97.5,
          0,
          110,
          128.5,
          553.5,
          382.5,
          572,
          0,
          104.5,
          764.5,
          93,
          0,
          167,
          441,
          280,
          277.5,
          208,
          0,
          194,
          102.5,
          99,
          679,
          309,
          931.5,
          93,
          561,
          120.5,
          93.5,
          97.5,
          95,
          96.5,
          97.5,
          124.5,
          561,
          621.5,
          0,
          129,
          198,
          108.5,
          364,
          100.5,
          257,
          117.5,
          609,
          433.5,
          348,
          384.5,
          0,
          338.5,
          0,
          0,
          382.5,
          483.5,
          675.5,
          871,
          1242,
          103,
          222.5,
          446,
          0,
          94,
          97.5,
          0,
          98,
          0,
          0,
          164.5,
          100.5,
          189.5,
          334,
          445,
          103,
          104.5,
          104.5,
          0,
          176,
          1235.5,
          176,
          2081.5,
          94,
          1170.5,
          0,
          1360.5,
          140.5,
          0,
          1152.5,
          634.5,
          718,
          0,
          433.5,
          837,
          0,
          348,
          701,
          1253,
          93,
          104.5,
          95.5,
          93,
          0,
          99.5,
          98,
          289.5,
          222.5,
          208
         ],
         "yaxis": "y8"
        }
       ],
       "layout": {
        "annotations": [
         {
          "font": {
           "size": 16
          },
          "showarrow": false,
          "text": "2014",
          "x": 0.225,
          "xanchor": "center",
          "xref": "paper",
          "y": 1,
          "yanchor": "bottom",
          "yref": "paper"
         },
         {
          "font": {
           "size": 16
          },
          "showarrow": false,
          "text": "2015",
          "x": 0.775,
          "xanchor": "center",
          "xref": "paper",
          "y": 1,
          "yanchor": "bottom",
          "yref": "paper"
         },
         {
          "font": {
           "size": 16
          },
          "showarrow": false,
          "text": "2016",
          "x": 0.225,
          "xanchor": "center",
          "xref": "paper",
          "y": 0.71875,
          "yanchor": "bottom",
          "yref": "paper"
         },
         {
          "font": {
           "size": 16
          },
          "showarrow": false,
          "text": "2017",
          "x": 0.775,
          "xanchor": "center",
          "xref": "paper",
          "y": 0.71875,
          "yanchor": "bottom",
          "yref": "paper"
         },
         {
          "font": {
           "size": 16
          },
          "showarrow": false,
          "text": "2018",
          "x": 0.225,
          "xanchor": "center",
          "xref": "paper",
          "y": 0.4375,
          "yanchor": "bottom",
          "yref": "paper"
         },
         {
          "font": {
           "size": 16
          },
          "showarrow": false,
          "text": "2019",
          "x": 0.775,
          "xanchor": "center",
          "xref": "paper",
          "y": 0.4375,
          "yanchor": "bottom",
          "yref": "paper"
         },
         {
          "font": {
           "size": 16
          },
          "showarrow": false,
          "text": "2020",
          "x": 0.225,
          "xanchor": "center",
          "xref": "paper",
          "y": 0.15625,
          "yanchor": "bottom",
          "yref": "paper"
         },
         {
          "font": {
           "size": 16
          },
          "showarrow": false,
          "text": "2021",
          "x": 0.775,
          "xanchor": "center",
          "xref": "paper",
          "y": 0.15625,
          "yanchor": "bottom",
          "yref": "paper"
         }
        ],
        "height": 2000,
        "template": {
         "data": {
          "bar": [
           {
            "error_x": {
             "color": "#2a3f5f"
            },
            "error_y": {
             "color": "#2a3f5f"
            },
            "marker": {
             "line": {
              "color": "#E5ECF6",
              "width": 0.5
             },
             "pattern": {
              "fillmode": "overlay",
              "size": 10,
              "solidity": 0.2
             }
            },
            "type": "bar"
           }
          ],
          "barpolar": [
           {
            "marker": {
             "line": {
              "color": "#E5ECF6",
              "width": 0.5
             },
             "pattern": {
              "fillmode": "overlay",
              "size": 10,
              "solidity": 0.2
             }
            },
            "type": "barpolar"
           }
          ],
          "carpet": [
           {
            "aaxis": {
             "endlinecolor": "#2a3f5f",
             "gridcolor": "white",
             "linecolor": "white",
             "minorgridcolor": "white",
             "startlinecolor": "#2a3f5f"
            },
            "baxis": {
             "endlinecolor": "#2a3f5f",
             "gridcolor": "white",
             "linecolor": "white",
             "minorgridcolor": "white",
             "startlinecolor": "#2a3f5f"
            },
            "type": "carpet"
           }
          ],
          "choropleth": [
           {
            "colorbar": {
             "outlinewidth": 0,
             "ticks": ""
            },
            "type": "choropleth"
           }
          ],
          "contour": [
           {
            "colorbar": {
             "outlinewidth": 0,
             "ticks": ""
            },
            "colorscale": [
             [
              0,
              "#0d0887"
             ],
             [
              0.1111111111111111,
              "#46039f"
             ],
             [
              0.2222222222222222,
              "#7201a8"
             ],
             [
              0.3333333333333333,
              "#9c179e"
             ],
             [
              0.4444444444444444,
              "#bd3786"
             ],
             [
              0.5555555555555556,
              "#d8576b"
             ],
             [
              0.6666666666666666,
              "#ed7953"
             ],
             [
              0.7777777777777778,
              "#fb9f3a"
             ],
             [
              0.8888888888888888,
              "#fdca26"
             ],
             [
              1,
              "#f0f921"
             ]
            ],
            "type": "contour"
           }
          ],
          "contourcarpet": [
           {
            "colorbar": {
             "outlinewidth": 0,
             "ticks": ""
            },
            "type": "contourcarpet"
           }
          ],
          "heatmap": [
           {
            "colorbar": {
             "outlinewidth": 0,
             "ticks": ""
            },
            "colorscale": [
             [
              0,
              "#0d0887"
             ],
             [
              0.1111111111111111,
              "#46039f"
             ],
             [
              0.2222222222222222,
              "#7201a8"
             ],
             [
              0.3333333333333333,
              "#9c179e"
             ],
             [
              0.4444444444444444,
              "#bd3786"
             ],
             [
              0.5555555555555556,
              "#d8576b"
             ],
             [
              0.6666666666666666,
              "#ed7953"
             ],
             [
              0.7777777777777778,
              "#fb9f3a"
             ],
             [
              0.8888888888888888,
              "#fdca26"
             ],
             [
              1,
              "#f0f921"
             ]
            ],
            "type": "heatmap"
           }
          ],
          "heatmapgl": [
           {
            "colorbar": {
             "outlinewidth": 0,
             "ticks": ""
            },
            "colorscale": [
             [
              0,
              "#0d0887"
             ],
             [
              0.1111111111111111,
              "#46039f"
             ],
             [
              0.2222222222222222,
              "#7201a8"
             ],
             [
              0.3333333333333333,
              "#9c179e"
             ],
             [
              0.4444444444444444,
              "#bd3786"
             ],
             [
              0.5555555555555556,
              "#d8576b"
             ],
             [
              0.6666666666666666,
              "#ed7953"
             ],
             [
              0.7777777777777778,
              "#fb9f3a"
             ],
             [
              0.8888888888888888,
              "#fdca26"
             ],
             [
              1,
              "#f0f921"
             ]
            ],
            "type": "heatmapgl"
           }
          ],
          "histogram": [
           {
            "marker": {
             "pattern": {
              "fillmode": "overlay",
              "size": 10,
              "solidity": 0.2
             }
            },
            "type": "histogram"
           }
          ],
          "histogram2d": [
           {
            "colorbar": {
             "outlinewidth": 0,
             "ticks": ""
            },
            "colorscale": [
             [
              0,
              "#0d0887"
             ],
             [
              0.1111111111111111,
              "#46039f"
             ],
             [
              0.2222222222222222,
              "#7201a8"
             ],
             [
              0.3333333333333333,
              "#9c179e"
             ],
             [
              0.4444444444444444,
              "#bd3786"
             ],
             [
              0.5555555555555556,
              "#d8576b"
             ],
             [
              0.6666666666666666,
              "#ed7953"
             ],
             [
              0.7777777777777778,
              "#fb9f3a"
             ],
             [
              0.8888888888888888,
              "#fdca26"
             ],
             [
              1,
              "#f0f921"
             ]
            ],
            "type": "histogram2d"
           }
          ],
          "histogram2dcontour": [
           {
            "colorbar": {
             "outlinewidth": 0,
             "ticks": ""
            },
            "colorscale": [
             [
              0,
              "#0d0887"
             ],
             [
              0.1111111111111111,
              "#46039f"
             ],
             [
              0.2222222222222222,
              "#7201a8"
             ],
             [
              0.3333333333333333,
              "#9c179e"
             ],
             [
              0.4444444444444444,
              "#bd3786"
             ],
             [
              0.5555555555555556,
              "#d8576b"
             ],
             [
              0.6666666666666666,
              "#ed7953"
             ],
             [
              0.7777777777777778,
              "#fb9f3a"
             ],
             [
              0.8888888888888888,
              "#fdca26"
             ],
             [
              1,
              "#f0f921"
             ]
            ],
            "type": "histogram2dcontour"
           }
          ],
          "mesh3d": [
           {
            "colorbar": {
             "outlinewidth": 0,
             "ticks": ""
            },
            "type": "mesh3d"
           }
          ],
          "parcoords": [
           {
            "line": {
             "colorbar": {
              "outlinewidth": 0,
              "ticks": ""
             }
            },
            "type": "parcoords"
           }
          ],
          "pie": [
           {
            "automargin": true,
            "type": "pie"
           }
          ],
          "scatter": [
           {
            "marker": {
             "colorbar": {
              "outlinewidth": 0,
              "ticks": ""
             }
            },
            "type": "scatter"
           }
          ],
          "scatter3d": [
           {
            "line": {
             "colorbar": {
              "outlinewidth": 0,
              "ticks": ""
             }
            },
            "marker": {
             "colorbar": {
              "outlinewidth": 0,
              "ticks": ""
             }
            },
            "type": "scatter3d"
           }
          ],
          "scattercarpet": [
           {
            "marker": {
             "colorbar": {
              "outlinewidth": 0,
              "ticks": ""
             }
            },
            "type": "scattercarpet"
           }
          ],
          "scattergeo": [
           {
            "marker": {
             "colorbar": {
              "outlinewidth": 0,
              "ticks": ""
             }
            },
            "type": "scattergeo"
           }
          ],
          "scattergl": [
           {
            "marker": {
             "colorbar": {
              "outlinewidth": 0,
              "ticks": ""
             }
            },
            "type": "scattergl"
           }
          ],
          "scattermapbox": [
           {
            "marker": {
             "colorbar": {
              "outlinewidth": 0,
              "ticks": ""
             }
            },
            "type": "scattermapbox"
           }
          ],
          "scatterpolar": [
           {
            "marker": {
             "colorbar": {
              "outlinewidth": 0,
              "ticks": ""
             }
            },
            "type": "scatterpolar"
           }
          ],
          "scatterpolargl": [
           {
            "marker": {
             "colorbar": {
              "outlinewidth": 0,
              "ticks": ""
             }
            },
            "type": "scatterpolargl"
           }
          ],
          "scatterternary": [
           {
            "marker": {
             "colorbar": {
              "outlinewidth": 0,
              "ticks": ""
             }
            },
            "type": "scatterternary"
           }
          ],
          "surface": [
           {
            "colorbar": {
             "outlinewidth": 0,
             "ticks": ""
            },
            "colorscale": [
             [
              0,
              "#0d0887"
             ],
             [
              0.1111111111111111,
              "#46039f"
             ],
             [
              0.2222222222222222,
              "#7201a8"
             ],
             [
              0.3333333333333333,
              "#9c179e"
             ],
             [
              0.4444444444444444,
              "#bd3786"
             ],
             [
              0.5555555555555556,
              "#d8576b"
             ],
             [
              0.6666666666666666,
              "#ed7953"
             ],
             [
              0.7777777777777778,
              "#fb9f3a"
             ],
             [
              0.8888888888888888,
              "#fdca26"
             ],
             [
              1,
              "#f0f921"
             ]
            ],
            "type": "surface"
           }
          ],
          "table": [
           {
            "cells": {
             "fill": {
              "color": "#EBF0F8"
             },
             "line": {
              "color": "white"
             }
            },
            "header": {
             "fill": {
              "color": "#C8D4E3"
             },
             "line": {
              "color": "white"
             }
            },
            "type": "table"
           }
          ]
         },
         "layout": {
          "annotationdefaults": {
           "arrowcolor": "#2a3f5f",
           "arrowhead": 0,
           "arrowwidth": 1
          },
          "autotypenumbers": "strict",
          "coloraxis": {
           "colorbar": {
            "outlinewidth": 0,
            "ticks": ""
           }
          },
          "colorscale": {
           "diverging": [
            [
             0,
             "#8e0152"
            ],
            [
             0.1,
             "#c51b7d"
            ],
            [
             0.2,
             "#de77ae"
            ],
            [
             0.3,
             "#f1b6da"
            ],
            [
             0.4,
             "#fde0ef"
            ],
            [
             0.5,
             "#f7f7f7"
            ],
            [
             0.6,
             "#e6f5d0"
            ],
            [
             0.7,
             "#b8e186"
            ],
            [
             0.8,
             "#7fbc41"
            ],
            [
             0.9,
             "#4d9221"
            ],
            [
             1,
             "#276419"
            ]
           ],
           "sequential": [
            [
             0,
             "#0d0887"
            ],
            [
             0.1111111111111111,
             "#46039f"
            ],
            [
             0.2222222222222222,
             "#7201a8"
            ],
            [
             0.3333333333333333,
             "#9c179e"
            ],
            [
             0.4444444444444444,
             "#bd3786"
            ],
            [
             0.5555555555555556,
             "#d8576b"
            ],
            [
             0.6666666666666666,
             "#ed7953"
            ],
            [
             0.7777777777777778,
             "#fb9f3a"
            ],
            [
             0.8888888888888888,
             "#fdca26"
            ],
            [
             1,
             "#f0f921"
            ]
           ],
           "sequentialminus": [
            [
             0,
             "#0d0887"
            ],
            [
             0.1111111111111111,
             "#46039f"
            ],
            [
             0.2222222222222222,
             "#7201a8"
            ],
            [
             0.3333333333333333,
             "#9c179e"
            ],
            [
             0.4444444444444444,
             "#bd3786"
            ],
            [
             0.5555555555555556,
             "#d8576b"
            ],
            [
             0.6666666666666666,
             "#ed7953"
            ],
            [
             0.7777777777777778,
             "#fb9f3a"
            ],
            [
             0.8888888888888888,
             "#fdca26"
            ],
            [
             1,
             "#f0f921"
            ]
           ]
          },
          "colorway": [
           "#636efa",
           "#EF553B",
           "#00cc96",
           "#ab63fa",
           "#FFA15A",
           "#19d3f3",
           "#FF6692",
           "#B6E880",
           "#FF97FF",
           "#FECB52"
          ],
          "font": {
           "color": "#2a3f5f"
          },
          "geo": {
           "bgcolor": "white",
           "lakecolor": "white",
           "landcolor": "#E5ECF6",
           "showlakes": true,
           "showland": true,
           "subunitcolor": "white"
          },
          "hoverlabel": {
           "align": "left"
          },
          "hovermode": "closest",
          "mapbox": {
           "style": "light"
          },
          "paper_bgcolor": "white",
          "plot_bgcolor": "#E5ECF6",
          "polar": {
           "angularaxis": {
            "gridcolor": "white",
            "linecolor": "white",
            "ticks": ""
           },
           "bgcolor": "#E5ECF6",
           "radialaxis": {
            "gridcolor": "white",
            "linecolor": "white",
            "ticks": ""
           }
          },
          "scene": {
           "xaxis": {
            "backgroundcolor": "#E5ECF6",
            "gridcolor": "white",
            "gridwidth": 2,
            "linecolor": "white",
            "showbackground": true,
            "ticks": "",
            "zerolinecolor": "white"
           },
           "yaxis": {
            "backgroundcolor": "#E5ECF6",
            "gridcolor": "white",
            "gridwidth": 2,
            "linecolor": "white",
            "showbackground": true,
            "ticks": "",
            "zerolinecolor": "white"
           },
           "zaxis": {
            "backgroundcolor": "#E5ECF6",
            "gridcolor": "white",
            "gridwidth": 2,
            "linecolor": "white",
            "showbackground": true,
            "ticks": "",
            "zerolinecolor": "white"
           }
          },
          "shapedefaults": {
           "line": {
            "color": "#2a3f5f"
           }
          },
          "ternary": {
           "aaxis": {
            "gridcolor": "white",
            "linecolor": "white",
            "ticks": ""
           },
           "baxis": {
            "gridcolor": "white",
            "linecolor": "white",
            "ticks": ""
           },
           "bgcolor": "#E5ECF6",
           "caxis": {
            "gridcolor": "white",
            "linecolor": "white",
            "ticks": ""
           }
          },
          "title": {
           "x": 0.05
          },
          "xaxis": {
           "automargin": true,
           "gridcolor": "white",
           "linecolor": "white",
           "ticks": "",
           "title": {
            "standoff": 15
           },
           "zerolinecolor": "white",
           "zerolinewidth": 2
          },
          "yaxis": {
           "automargin": true,
           "gridcolor": "white",
           "linecolor": "white",
           "ticks": "",
           "title": {
            "standoff": 15
           },
           "zerolinecolor": "white",
           "zerolinewidth": 2
          }
         }
        },
        "width": 1200,
        "xaxis": {
         "anchor": "y",
         "domain": [
          0,
          0.45
         ]
        },
        "xaxis2": {
         "anchor": "y2",
         "domain": [
          0.55,
          1
         ]
        },
        "xaxis3": {
         "anchor": "y3",
         "domain": [
          0,
          0.45
         ]
        },
        "xaxis4": {
         "anchor": "y4",
         "domain": [
          0.55,
          1
         ]
        },
        "xaxis5": {
         "anchor": "y5",
         "domain": [
          0,
          0.45
         ]
        },
        "xaxis6": {
         "anchor": "y6",
         "domain": [
          0.55,
          1
         ]
        },
        "xaxis7": {
         "anchor": "y7",
         "domain": [
          0,
          0.45
         ]
        },
        "xaxis8": {
         "anchor": "y8",
         "domain": [
          0.55,
          1
         ]
        },
        "yaxis": {
         "anchor": "x",
         "domain": [
          0.84375,
          1
         ]
        },
        "yaxis2": {
         "anchor": "x2",
         "domain": [
          0.84375,
          1
         ]
        },
        "yaxis3": {
         "anchor": "x3",
         "domain": [
          0.5625,
          0.71875
         ]
        },
        "yaxis4": {
         "anchor": "x4",
         "domain": [
          0.5625,
          0.71875
         ]
        },
        "yaxis5": {
         "anchor": "x5",
         "domain": [
          0.28125,
          0.4375
         ]
        },
        "yaxis6": {
         "anchor": "x6",
         "domain": [
          0.28125,
          0.4375
         ]
        },
        "yaxis7": {
         "anchor": "x7",
         "domain": [
          0,
          0.15625
         ]
        },
        "yaxis8": {
         "anchor": "x8",
         "domain": [
          0,
          0.15625
         ]
        }
       }
      }
     },
     "metadata": {},
     "output_type": "display_data"
    }
   ],
   "source": [
    "rows=4\n",
    "cols=2\n",
    "fig = make_subplots(rows=rows, cols=cols, subplot_titles=(pivot_table.columns[2:]))\n",
    "x = 2\n",
    "for i in range(1, rows + 1):\n",
    "    for j in range(1, cols + 1):\n",
    "        fig.add_trace(go.Box(x =pivot_table['Brand'], y = pivot_table[pivot_table.columns[x]], name=pivot_table.columns[x]) ,\n",
    "                     row=i,\n",
    "                     col=j)\n",
    "\n",
    "        x=x+1\n",
    "\n",
    "fig.update_layout(height=2000, width=1200)\n",
    "fig.show()\n",
    "\n",
    "\n",
    "\n",
    "# fig = px.box(car_data, x=\"Year\", y=\"VALUE\", color=\"Brand\")\n",
    "# fig"
   ]
  },
  {
   "cell_type": "code",
   "execution_count": 70,
   "metadata": {},
   "outputs": [
    {
     "data": {
      "text/html": [
       "<div>\n",
       "<style scoped>\n",
       "    .dataframe tbody tr th:only-of-type {\n",
       "        vertical-align: middle;\n",
       "    }\n",
       "\n",
       "    .dataframe tbody tr th {\n",
       "        vertical-align: top;\n",
       "    }\n",
       "\n",
       "    .dataframe thead th {\n",
       "        text-align: right;\n",
       "    }\n",
       "</style>\n",
       "<table border=\"1\" class=\"dataframe\">\n",
       "  <thead>\n",
       "    <tr style=\"text-align: right;\">\n",
       "      <th></th>\n",
       "      <th>Year</th>\n",
       "      <th>VALUE</th>\n",
       "    </tr>\n",
       "  </thead>\n",
       "  <tbody>\n",
       "    <tr>\n",
       "      <td>0</td>\n",
       "      <td>2014</td>\n",
       "      <td>100195.0</td>\n",
       "    </tr>\n",
       "    <tr>\n",
       "      <td>1</td>\n",
       "      <td>2015</td>\n",
       "      <td>134833.0</td>\n",
       "    </tr>\n",
       "    <tr>\n",
       "      <td>2</td>\n",
       "      <td>2016</td>\n",
       "      <td>158035.0</td>\n",
       "    </tr>\n",
       "    <tr>\n",
       "      <td>3</td>\n",
       "      <td>2017</td>\n",
       "      <td>146535.0</td>\n",
       "    </tr>\n",
       "    <tr>\n",
       "      <td>4</td>\n",
       "      <td>2018</td>\n",
       "      <td>143007.0</td>\n",
       "    </tr>\n",
       "    <tr>\n",
       "      <td>5</td>\n",
       "      <td>2019</td>\n",
       "      <td>133720.0</td>\n",
       "    </tr>\n",
       "    <tr>\n",
       "      <td>6</td>\n",
       "      <td>2020</td>\n",
       "      <td>106433.0</td>\n",
       "    </tr>\n",
       "    <tr>\n",
       "      <td>7</td>\n",
       "      <td>2021</td>\n",
       "      <td>122344.0</td>\n",
       "    </tr>\n",
       "  </tbody>\n",
       "</table>\n",
       "</div>"
      ],
      "text/plain": [
       "   Year     VALUE\n",
       "0  2014  100195.0\n",
       "1  2015  134833.0\n",
       "2  2016  158035.0\n",
       "3  2017  146535.0\n",
       "4  2018  143007.0\n",
       "5  2019  133720.0\n",
       "6  2020  106433.0\n",
       "7  2021  122344.0"
      ]
     },
     "execution_count": 70,
     "metadata": {},
     "output_type": "execute_result"
    }
   ],
   "source": [
    "yearly_grouped = car_data.groupby(['Year']).sum().reset_index()\n",
    "yearly_grouped"
   ]
  },
  {
   "cell_type": "code",
   "execution_count": 72,
   "metadata": {},
   "outputs": [
    {
     "data": {
      "application/vnd.plotly.v1+json": {
       "config": {
        "plotlyServerURL": "https://plot.ly"
       },
       "data": [
        {
         "hovertemplate": "Year=%{x}<br>VALUE=%{y}<extra></extra>",
         "legendgroup": "",
         "line": {
          "color": "#636efa",
          "dash": "solid"
         },
         "marker": {
          "symbol": "circle"
         },
         "mode": "lines",
         "name": "",
         "orientation": "v",
         "showlegend": false,
         "type": "scatter",
         "x": [
          2014,
          2015,
          2016,
          2017,
          2018,
          2019,
          2020,
          2021
         ],
         "xaxis": "x",
         "y": [
          100195,
          134833,
          158035,
          146535,
          143007,
          133720,
          106433,
          122344
         ],
         "yaxis": "y"
        }
       ],
       "layout": {
        "legend": {
         "tracegroupgap": 0
        },
        "margin": {
         "t": 60
        },
        "template": {
         "data": {
          "bar": [
           {
            "error_x": {
             "color": "#2a3f5f"
            },
            "error_y": {
             "color": "#2a3f5f"
            },
            "marker": {
             "line": {
              "color": "#E5ECF6",
              "width": 0.5
             },
             "pattern": {
              "fillmode": "overlay",
              "size": 10,
              "solidity": 0.2
             }
            },
            "type": "bar"
           }
          ],
          "barpolar": [
           {
            "marker": {
             "line": {
              "color": "#E5ECF6",
              "width": 0.5
             },
             "pattern": {
              "fillmode": "overlay",
              "size": 10,
              "solidity": 0.2
             }
            },
            "type": "barpolar"
           }
          ],
          "carpet": [
           {
            "aaxis": {
             "endlinecolor": "#2a3f5f",
             "gridcolor": "white",
             "linecolor": "white",
             "minorgridcolor": "white",
             "startlinecolor": "#2a3f5f"
            },
            "baxis": {
             "endlinecolor": "#2a3f5f",
             "gridcolor": "white",
             "linecolor": "white",
             "minorgridcolor": "white",
             "startlinecolor": "#2a3f5f"
            },
            "type": "carpet"
           }
          ],
          "choropleth": [
           {
            "colorbar": {
             "outlinewidth": 0,
             "ticks": ""
            },
            "type": "choropleth"
           }
          ],
          "contour": [
           {
            "colorbar": {
             "outlinewidth": 0,
             "ticks": ""
            },
            "colorscale": [
             [
              0,
              "#0d0887"
             ],
             [
              0.1111111111111111,
              "#46039f"
             ],
             [
              0.2222222222222222,
              "#7201a8"
             ],
             [
              0.3333333333333333,
              "#9c179e"
             ],
             [
              0.4444444444444444,
              "#bd3786"
             ],
             [
              0.5555555555555556,
              "#d8576b"
             ],
             [
              0.6666666666666666,
              "#ed7953"
             ],
             [
              0.7777777777777778,
              "#fb9f3a"
             ],
             [
              0.8888888888888888,
              "#fdca26"
             ],
             [
              1,
              "#f0f921"
             ]
            ],
            "type": "contour"
           }
          ],
          "contourcarpet": [
           {
            "colorbar": {
             "outlinewidth": 0,
             "ticks": ""
            },
            "type": "contourcarpet"
           }
          ],
          "heatmap": [
           {
            "colorbar": {
             "outlinewidth": 0,
             "ticks": ""
            },
            "colorscale": [
             [
              0,
              "#0d0887"
             ],
             [
              0.1111111111111111,
              "#46039f"
             ],
             [
              0.2222222222222222,
              "#7201a8"
             ],
             [
              0.3333333333333333,
              "#9c179e"
             ],
             [
              0.4444444444444444,
              "#bd3786"
             ],
             [
              0.5555555555555556,
              "#d8576b"
             ],
             [
              0.6666666666666666,
              "#ed7953"
             ],
             [
              0.7777777777777778,
              "#fb9f3a"
             ],
             [
              0.8888888888888888,
              "#fdca26"
             ],
             [
              1,
              "#f0f921"
             ]
            ],
            "type": "heatmap"
           }
          ],
          "heatmapgl": [
           {
            "colorbar": {
             "outlinewidth": 0,
             "ticks": ""
            },
            "colorscale": [
             [
              0,
              "#0d0887"
             ],
             [
              0.1111111111111111,
              "#46039f"
             ],
             [
              0.2222222222222222,
              "#7201a8"
             ],
             [
              0.3333333333333333,
              "#9c179e"
             ],
             [
              0.4444444444444444,
              "#bd3786"
             ],
             [
              0.5555555555555556,
              "#d8576b"
             ],
             [
              0.6666666666666666,
              "#ed7953"
             ],
             [
              0.7777777777777778,
              "#fb9f3a"
             ],
             [
              0.8888888888888888,
              "#fdca26"
             ],
             [
              1,
              "#f0f921"
             ]
            ],
            "type": "heatmapgl"
           }
          ],
          "histogram": [
           {
            "marker": {
             "pattern": {
              "fillmode": "overlay",
              "size": 10,
              "solidity": 0.2
             }
            },
            "type": "histogram"
           }
          ],
          "histogram2d": [
           {
            "colorbar": {
             "outlinewidth": 0,
             "ticks": ""
            },
            "colorscale": [
             [
              0,
              "#0d0887"
             ],
             [
              0.1111111111111111,
              "#46039f"
             ],
             [
              0.2222222222222222,
              "#7201a8"
             ],
             [
              0.3333333333333333,
              "#9c179e"
             ],
             [
              0.4444444444444444,
              "#bd3786"
             ],
             [
              0.5555555555555556,
              "#d8576b"
             ],
             [
              0.6666666666666666,
              "#ed7953"
             ],
             [
              0.7777777777777778,
              "#fb9f3a"
             ],
             [
              0.8888888888888888,
              "#fdca26"
             ],
             [
              1,
              "#f0f921"
             ]
            ],
            "type": "histogram2d"
           }
          ],
          "histogram2dcontour": [
           {
            "colorbar": {
             "outlinewidth": 0,
             "ticks": ""
            },
            "colorscale": [
             [
              0,
              "#0d0887"
             ],
             [
              0.1111111111111111,
              "#46039f"
             ],
             [
              0.2222222222222222,
              "#7201a8"
             ],
             [
              0.3333333333333333,
              "#9c179e"
             ],
             [
              0.4444444444444444,
              "#bd3786"
             ],
             [
              0.5555555555555556,
              "#d8576b"
             ],
             [
              0.6666666666666666,
              "#ed7953"
             ],
             [
              0.7777777777777778,
              "#fb9f3a"
             ],
             [
              0.8888888888888888,
              "#fdca26"
             ],
             [
              1,
              "#f0f921"
             ]
            ],
            "type": "histogram2dcontour"
           }
          ],
          "mesh3d": [
           {
            "colorbar": {
             "outlinewidth": 0,
             "ticks": ""
            },
            "type": "mesh3d"
           }
          ],
          "parcoords": [
           {
            "line": {
             "colorbar": {
              "outlinewidth": 0,
              "ticks": ""
             }
            },
            "type": "parcoords"
           }
          ],
          "pie": [
           {
            "automargin": true,
            "type": "pie"
           }
          ],
          "scatter": [
           {
            "marker": {
             "colorbar": {
              "outlinewidth": 0,
              "ticks": ""
             }
            },
            "type": "scatter"
           }
          ],
          "scatter3d": [
           {
            "line": {
             "colorbar": {
              "outlinewidth": 0,
              "ticks": ""
             }
            },
            "marker": {
             "colorbar": {
              "outlinewidth": 0,
              "ticks": ""
             }
            },
            "type": "scatter3d"
           }
          ],
          "scattercarpet": [
           {
            "marker": {
             "colorbar": {
              "outlinewidth": 0,
              "ticks": ""
             }
            },
            "type": "scattercarpet"
           }
          ],
          "scattergeo": [
           {
            "marker": {
             "colorbar": {
              "outlinewidth": 0,
              "ticks": ""
             }
            },
            "type": "scattergeo"
           }
          ],
          "scattergl": [
           {
            "marker": {
             "colorbar": {
              "outlinewidth": 0,
              "ticks": ""
             }
            },
            "type": "scattergl"
           }
          ],
          "scattermapbox": [
           {
            "marker": {
             "colorbar": {
              "outlinewidth": 0,
              "ticks": ""
             }
            },
            "type": "scattermapbox"
           }
          ],
          "scatterpolar": [
           {
            "marker": {
             "colorbar": {
              "outlinewidth": 0,
              "ticks": ""
             }
            },
            "type": "scatterpolar"
           }
          ],
          "scatterpolargl": [
           {
            "marker": {
             "colorbar": {
              "outlinewidth": 0,
              "ticks": ""
             }
            },
            "type": "scatterpolargl"
           }
          ],
          "scatterternary": [
           {
            "marker": {
             "colorbar": {
              "outlinewidth": 0,
              "ticks": ""
             }
            },
            "type": "scatterternary"
           }
          ],
          "surface": [
           {
            "colorbar": {
             "outlinewidth": 0,
             "ticks": ""
            },
            "colorscale": [
             [
              0,
              "#0d0887"
             ],
             [
              0.1111111111111111,
              "#46039f"
             ],
             [
              0.2222222222222222,
              "#7201a8"
             ],
             [
              0.3333333333333333,
              "#9c179e"
             ],
             [
              0.4444444444444444,
              "#bd3786"
             ],
             [
              0.5555555555555556,
              "#d8576b"
             ],
             [
              0.6666666666666666,
              "#ed7953"
             ],
             [
              0.7777777777777778,
              "#fb9f3a"
             ],
             [
              0.8888888888888888,
              "#fdca26"
             ],
             [
              1,
              "#f0f921"
             ]
            ],
            "type": "surface"
           }
          ],
          "table": [
           {
            "cells": {
             "fill": {
              "color": "#EBF0F8"
             },
             "line": {
              "color": "white"
             }
            },
            "header": {
             "fill": {
              "color": "#C8D4E3"
             },
             "line": {
              "color": "white"
             }
            },
            "type": "table"
           }
          ]
         },
         "layout": {
          "annotationdefaults": {
           "arrowcolor": "#2a3f5f",
           "arrowhead": 0,
           "arrowwidth": 1
          },
          "autotypenumbers": "strict",
          "coloraxis": {
           "colorbar": {
            "outlinewidth": 0,
            "ticks": ""
           }
          },
          "colorscale": {
           "diverging": [
            [
             0,
             "#8e0152"
            ],
            [
             0.1,
             "#c51b7d"
            ],
            [
             0.2,
             "#de77ae"
            ],
            [
             0.3,
             "#f1b6da"
            ],
            [
             0.4,
             "#fde0ef"
            ],
            [
             0.5,
             "#f7f7f7"
            ],
            [
             0.6,
             "#e6f5d0"
            ],
            [
             0.7,
             "#b8e186"
            ],
            [
             0.8,
             "#7fbc41"
            ],
            [
             0.9,
             "#4d9221"
            ],
            [
             1,
             "#276419"
            ]
           ],
           "sequential": [
            [
             0,
             "#0d0887"
            ],
            [
             0.1111111111111111,
             "#46039f"
            ],
            [
             0.2222222222222222,
             "#7201a8"
            ],
            [
             0.3333333333333333,
             "#9c179e"
            ],
            [
             0.4444444444444444,
             "#bd3786"
            ],
            [
             0.5555555555555556,
             "#d8576b"
            ],
            [
             0.6666666666666666,
             "#ed7953"
            ],
            [
             0.7777777777777778,
             "#fb9f3a"
            ],
            [
             0.8888888888888888,
             "#fdca26"
            ],
            [
             1,
             "#f0f921"
            ]
           ],
           "sequentialminus": [
            [
             0,
             "#0d0887"
            ],
            [
             0.1111111111111111,
             "#46039f"
            ],
            [
             0.2222222222222222,
             "#7201a8"
            ],
            [
             0.3333333333333333,
             "#9c179e"
            ],
            [
             0.4444444444444444,
             "#bd3786"
            ],
            [
             0.5555555555555556,
             "#d8576b"
            ],
            [
             0.6666666666666666,
             "#ed7953"
            ],
            [
             0.7777777777777778,
             "#fb9f3a"
            ],
            [
             0.8888888888888888,
             "#fdca26"
            ],
            [
             1,
             "#f0f921"
            ]
           ]
          },
          "colorway": [
           "#636efa",
           "#EF553B",
           "#00cc96",
           "#ab63fa",
           "#FFA15A",
           "#19d3f3",
           "#FF6692",
           "#B6E880",
           "#FF97FF",
           "#FECB52"
          ],
          "font": {
           "color": "#2a3f5f"
          },
          "geo": {
           "bgcolor": "white",
           "lakecolor": "white",
           "landcolor": "#E5ECF6",
           "showlakes": true,
           "showland": true,
           "subunitcolor": "white"
          },
          "hoverlabel": {
           "align": "left"
          },
          "hovermode": "closest",
          "mapbox": {
           "style": "light"
          },
          "paper_bgcolor": "white",
          "plot_bgcolor": "#E5ECF6",
          "polar": {
           "angularaxis": {
            "gridcolor": "white",
            "linecolor": "white",
            "ticks": ""
           },
           "bgcolor": "#E5ECF6",
           "radialaxis": {
            "gridcolor": "white",
            "linecolor": "white",
            "ticks": ""
           }
          },
          "scene": {
           "xaxis": {
            "backgroundcolor": "#E5ECF6",
            "gridcolor": "white",
            "gridwidth": 2,
            "linecolor": "white",
            "showbackground": true,
            "ticks": "",
            "zerolinecolor": "white"
           },
           "yaxis": {
            "backgroundcolor": "#E5ECF6",
            "gridcolor": "white",
            "gridwidth": 2,
            "linecolor": "white",
            "showbackground": true,
            "ticks": "",
            "zerolinecolor": "white"
           },
           "zaxis": {
            "backgroundcolor": "#E5ECF6",
            "gridcolor": "white",
            "gridwidth": 2,
            "linecolor": "white",
            "showbackground": true,
            "ticks": "",
            "zerolinecolor": "white"
           }
          },
          "shapedefaults": {
           "line": {
            "color": "#2a3f5f"
           }
          },
          "ternary": {
           "aaxis": {
            "gridcolor": "white",
            "linecolor": "white",
            "ticks": ""
           },
           "baxis": {
            "gridcolor": "white",
            "linecolor": "white",
            "ticks": ""
           },
           "bgcolor": "#E5ECF6",
           "caxis": {
            "gridcolor": "white",
            "linecolor": "white",
            "ticks": ""
           }
          },
          "title": {
           "x": 0.05
          },
          "xaxis": {
           "automargin": true,
           "gridcolor": "white",
           "linecolor": "white",
           "ticks": "",
           "title": {
            "standoff": 15
           },
           "zerolinecolor": "white",
           "zerolinewidth": 2
          },
          "yaxis": {
           "automargin": true,
           "gridcolor": "white",
           "linecolor": "white",
           "ticks": "",
           "title": {
            "standoff": 15
           },
           "zerolinecolor": "white",
           "zerolinewidth": 2
          }
         }
        },
        "xaxis": {
         "anchor": "y",
         "domain": [
          0,
          1
         ],
         "title": {
          "text": "Year"
         }
        },
        "yaxis": {
         "anchor": "x",
         "domain": [
          0,
          1
         ],
         "title": {
          "text": "VALUE"
         }
        }
       }
      }
     },
     "metadata": {},
     "output_type": "display_data"
    }
   ],
   "source": [
    "fig = px.line(yearly_grouped, x='Year', y='VALUE')\n",
    "fig.show()"
   ]
  },
  {
   "cell_type": "code",
   "execution_count": 78,
   "metadata": {},
   "outputs": [
    {
     "data": {
      "text/html": [
       "<div>\n",
       "<style scoped>\n",
       "    .dataframe tbody tr th:only-of-type {\n",
       "        vertical-align: middle;\n",
       "    }\n",
       "\n",
       "    .dataframe tbody tr th {\n",
       "        vertical-align: top;\n",
       "    }\n",
       "\n",
       "    .dataframe thead th {\n",
       "        text-align: right;\n",
       "    }\n",
       "</style>\n",
       "<table border=\"1\" class=\"dataframe\">\n",
       "  <thead>\n",
       "    <tr style=\"text-align: right;\">\n",
       "      <th></th>\n",
       "      <th>Year</th>\n",
       "      <th>Private\\ncars</th>\n",
       "      <th>Motor\\ncycles</th>\n",
       "      <th>Goods\\nvehicles</th>\n",
       "      <th>Tractors1,\\nexcavators,\\ndumpers, etc</th>\n",
       "      <th>Small</th>\n",
       "      <th>Large</th>\n",
       "      <th>Exempt\\nvehicles</th>\n",
       "      <th>Others1</th>\n",
       "      <th>Total</th>\n",
       "    </tr>\n",
       "  </thead>\n",
       "  <tbody>\n",
       "    <tr>\n",
       "      <td>0</td>\n",
       "      <td>1997</td>\n",
       "      <td>1134429</td>\n",
       "      <td>24424</td>\n",
       "      <td>158158</td>\n",
       "      <td>78405</td>\n",
       "      <td>10340</td>\n",
       "      <td>5845</td>\n",
       "      <td>10336</td>\n",
       "      <td>10393</td>\n",
       "      <td>1432330</td>\n",
       "    </tr>\n",
       "    <tr>\n",
       "      <td>1</td>\n",
       "      <td>1998</td>\n",
       "      <td>1196901</td>\n",
       "      <td>24398</td>\n",
       "      <td>170866</td>\n",
       "      <td>78047</td>\n",
       "      <td>11249</td>\n",
       "      <td>6096</td>\n",
       "      <td>11748</td>\n",
       "      <td>11548</td>\n",
       "      <td>1510853</td>\n",
       "    </tr>\n",
       "    <tr>\n",
       "      <td>2</td>\n",
       "      <td>1999</td>\n",
       "      <td>1269245</td>\n",
       "      <td>26677</td>\n",
       "      <td>188814</td>\n",
       "      <td>75591</td>\n",
       "      <td>13076</td>\n",
       "      <td>6564</td>\n",
       "      <td>12248</td>\n",
       "      <td>15941</td>\n",
       "      <td>1608156</td>\n",
       "    </tr>\n",
       "    <tr>\n",
       "      <td>3</td>\n",
       "      <td>2000</td>\n",
       "      <td>1319250</td>\n",
       "      <td>30638</td>\n",
       "      <td>205575</td>\n",
       "      <td>73806</td>\n",
       "      <td>13637</td>\n",
       "      <td>6957</td>\n",
       "      <td>13864</td>\n",
       "      <td>18494</td>\n",
       "      <td>1682221</td>\n",
       "    </tr>\n",
       "    <tr>\n",
       "      <td>4</td>\n",
       "      <td>2001</td>\n",
       "      <td>1384704</td>\n",
       "      <td>32913</td>\n",
       "      <td>219510</td>\n",
       "      <td>73719</td>\n",
       "      <td>16547</td>\n",
       "      <td>7084</td>\n",
       "      <td>14965</td>\n",
       "      <td>20242</td>\n",
       "      <td>1769684</td>\n",
       "    </tr>\n",
       "    <tr>\n",
       "      <td>5</td>\n",
       "      <td>2002</td>\n",
       "      <td>1447908</td>\n",
       "      <td>33147</td>\n",
       "      <td>233069</td>\n",
       "      <td>73956</td>\n",
       "      <td>18252</td>\n",
       "      <td>7090</td>\n",
       "      <td>16186</td>\n",
       "      <td>20438</td>\n",
       "      <td>1850046</td>\n",
       "    </tr>\n",
       "    <tr>\n",
       "      <td>6</td>\n",
       "      <td>2003</td>\n",
       "      <td>1507106</td>\n",
       "      <td>35094</td>\n",
       "      <td>251130</td>\n",
       "      <td>76425</td>\n",
       "      <td>19856</td>\n",
       "      <td>7392</td>\n",
       "      <td>17185</td>\n",
       "      <td>23241</td>\n",
       "      <td>1937429</td>\n",
       "    </tr>\n",
       "    <tr>\n",
       "      <td>7</td>\n",
       "      <td>2004</td>\n",
       "      <td>1582833</td>\n",
       "      <td>34854</td>\n",
       "      <td>268082</td>\n",
       "      <td>76697</td>\n",
       "      <td>20744</td>\n",
       "      <td>7430</td>\n",
       "      <td>18847</td>\n",
       "      <td>26820</td>\n",
       "      <td>2036307</td>\n",
       "    </tr>\n",
       "    <tr>\n",
       "      <td>8</td>\n",
       "      <td>2005</td>\n",
       "      <td>1662157</td>\n",
       "      <td>34300</td>\n",
       "      <td>286548</td>\n",
       "      <td>76307</td>\n",
       "      <td>21888</td>\n",
       "      <td>7625</td>\n",
       "      <td>20321</td>\n",
       "      <td>29534</td>\n",
       "      <td>2138680</td>\n",
       "    </tr>\n",
       "    <tr>\n",
       "      <td>9</td>\n",
       "      <td>2006</td>\n",
       "      <td>1778861</td>\n",
       "      <td>34927</td>\n",
       "      <td>318604</td>\n",
       "      <td>78520</td>\n",
       "      <td>23284</td>\n",
       "      <td>7997</td>\n",
       "      <td>22117</td>\n",
       "      <td>32083</td>\n",
       "      <td>2296393</td>\n",
       "    </tr>\n",
       "    <tr>\n",
       "      <td>10</td>\n",
       "      <td>2007</td>\n",
       "      <td>1882901</td>\n",
       "      <td>37178</td>\n",
       "      <td>345874</td>\n",
       "      <td>80239</td>\n",
       "      <td>26654</td>\n",
       "      <td>8451</td>\n",
       "      <td>24761</td>\n",
       "      <td>35506</td>\n",
       "      <td>2441564</td>\n",
       "    </tr>\n",
       "    <tr>\n",
       "      <td>11</td>\n",
       "      <td>2008</td>\n",
       "      <td>1924281</td>\n",
       "      <td>39409</td>\n",
       "      <td>351307</td>\n",
       "      <td>79613</td>\n",
       "      <td>29053</td>\n",
       "      <td>8911</td>\n",
       "      <td>26441</td>\n",
       "      <td>38553</td>\n",
       "      <td>2497568</td>\n",
       "    </tr>\n",
       "    <tr>\n",
       "      <td>12</td>\n",
       "      <td>2009</td>\n",
       "      <td>1902429</td>\n",
       "      <td>39552</td>\n",
       "      <td>343940</td>\n",
       "      <td>75318</td>\n",
       "      <td>28284</td>\n",
       "      <td>8556</td>\n",
       "      <td>26954</td>\n",
       "      <td>42627</td>\n",
       "      <td>2467660</td>\n",
       "    </tr>\n",
       "    <tr>\n",
       "      <td>13</td>\n",
       "      <td>2010</td>\n",
       "      <td>1872715</td>\n",
       "      <td>38145</td>\n",
       "      <td>327096</td>\n",
       "      <td>71457</td>\n",
       "      <td>26680</td>\n",
       "      <td>8245</td>\n",
       "      <td>27092</td>\n",
       "      <td>44957</td>\n",
       "      <td>2416387</td>\n",
       "    </tr>\n",
       "    <tr>\n",
       "      <td>14</td>\n",
       "      <td>2011</td>\n",
       "      <td>1887810</td>\n",
       "      <td>36582</td>\n",
       "      <td>320966</td>\n",
       "      <td>71677</td>\n",
       "      <td>25129</td>\n",
       "      <td>8276</td>\n",
       "      <td>27769</td>\n",
       "      <td>46947</td>\n",
       "      <td>2425156</td>\n",
       "    </tr>\n",
       "    <tr>\n",
       "      <td>15</td>\n",
       "      <td>2012</td>\n",
       "      <td>1882550</td>\n",
       "      <td>35106</td>\n",
       "      <td>309219</td>\n",
       "      <td>69961</td>\n",
       "      <td>24180</td>\n",
       "      <td>8266</td>\n",
       "      <td>27455</td>\n",
       "      <td>46486</td>\n",
       "      <td>2403223</td>\n",
       "    </tr>\n",
       "    <tr>\n",
       "      <td>16</td>\n",
       "      <td>2013</td>\n",
       "      <td>1910165</td>\n",
       "      <td>36623</td>\n",
       "      <td>317849</td>\n",
       "      <td>99122</td>\n",
       "      <td>22964</td>\n",
       "      <td>8488</td>\n",
       "      <td>27682</td>\n",
       "      <td>59664</td>\n",
       "      <td>2482557</td>\n",
       "    </tr>\n",
       "    <tr>\n",
       "      <td>17</td>\n",
       "      <td>2014</td>\n",
       "      <td>1943868</td>\n",
       "      <td>36573</td>\n",
       "      <td>317378</td>\n",
       "      <td>94669</td>\n",
       "      <td>22373</td>\n",
       "      <td>8802</td>\n",
       "      <td>28033</td>\n",
       "      <td>63626</td>\n",
       "      <td>2515322</td>\n",
       "    </tr>\n",
       "    <tr>\n",
       "      <td>18</td>\n",
       "      <td>2015</td>\n",
       "      <td>1985130</td>\n",
       "      <td>36974</td>\n",
       "      <td>330541</td>\n",
       "      <td>91882</td>\n",
       "      <td>21977</td>\n",
       "      <td>9259</td>\n",
       "      <td>28936</td>\n",
       "      <td>65595</td>\n",
       "      <td>2570294</td>\n",
       "    </tr>\n",
       "    <tr>\n",
       "      <td>19</td>\n",
       "      <td>2016</td>\n",
       "      <td>2026977</td>\n",
       "      <td>38023</td>\n",
       "      <td>342259</td>\n",
       "      <td>89482</td>\n",
       "      <td>21675</td>\n",
       "      <td>9841</td>\n",
       "      <td>30112</td>\n",
       "      <td>66589</td>\n",
       "      <td>2624958</td>\n",
       "    </tr>\n",
       "  </tbody>\n",
       "</table>\n",
       "</div>"
      ],
      "text/plain": [
       "    Year  Private\\ncars  Motor\\ncycles  Goods\\nvehicles  \\\n",
       "0   1997        1134429          24424           158158   \n",
       "1   1998        1196901          24398           170866   \n",
       "2   1999        1269245          26677           188814   \n",
       "3   2000        1319250          30638           205575   \n",
       "4   2001        1384704          32913           219510   \n",
       "5   2002        1447908          33147           233069   \n",
       "6   2003        1507106          35094           251130   \n",
       "7   2004        1582833          34854           268082   \n",
       "8   2005        1662157          34300           286548   \n",
       "9   2006        1778861          34927           318604   \n",
       "10  2007        1882901          37178           345874   \n",
       "11  2008        1924281          39409           351307   \n",
       "12  2009        1902429          39552           343940   \n",
       "13  2010        1872715          38145           327096   \n",
       "14  2011        1887810          36582           320966   \n",
       "15  2012        1882550          35106           309219   \n",
       "16  2013        1910165          36623           317849   \n",
       "17  2014        1943868          36573           317378   \n",
       "18  2015        1985130          36974           330541   \n",
       "19  2016        2026977          38023           342259   \n",
       "\n",
       "    Tractors1,\\nexcavators,\\ndumpers, etc  Small  Large  Exempt\\nvehicles  \\\n",
       "0                                   78405  10340   5845             10336   \n",
       "1                                   78047  11249   6096             11748   \n",
       "2                                   75591  13076   6564             12248   \n",
       "3                                   73806  13637   6957             13864   \n",
       "4                                   73719  16547   7084             14965   \n",
       "5                                   73956  18252   7090             16186   \n",
       "6                                   76425  19856   7392             17185   \n",
       "7                                   76697  20744   7430             18847   \n",
       "8                                   76307  21888   7625             20321   \n",
       "9                                   78520  23284   7997             22117   \n",
       "10                                  80239  26654   8451             24761   \n",
       "11                                  79613  29053   8911             26441   \n",
       "12                                  75318  28284   8556             26954   \n",
       "13                                  71457  26680   8245             27092   \n",
       "14                                  71677  25129   8276             27769   \n",
       "15                                  69961  24180   8266             27455   \n",
       "16                                  99122  22964   8488             27682   \n",
       "17                                  94669  22373   8802             28033   \n",
       "18                                  91882  21977   9259             28936   \n",
       "19                                  89482  21675   9841             30112   \n",
       "\n",
       "    Others1    Total  \n",
       "0     10393  1432330  \n",
       "1     11548  1510853  \n",
       "2     15941  1608156  \n",
       "3     18494  1682221  \n",
       "4     20242  1769684  \n",
       "5     20438  1850046  \n",
       "6     23241  1937429  \n",
       "7     26820  2036307  \n",
       "8     29534  2138680  \n",
       "9     32083  2296393  \n",
       "10    35506  2441564  \n",
       "11    38553  2497568  \n",
       "12    42627  2467660  \n",
       "13    44957  2416387  \n",
       "14    46947  2425156  \n",
       "15    46486  2403223  \n",
       "16    59664  2482557  \n",
       "17    63626  2515322  \n",
       "18    65595  2570294  \n",
       "19    66589  2624958  "
      ]
     },
     "execution_count": 78,
     "metadata": {},
     "output_type": "execute_result"
    }
   ],
   "source": [
    "extended_vehicle_df = pd.read_excel('./P-TRANOM2016_TBL1.1.xlsx')\n",
    "extended_vehicle_df"
   ]
  },
  {
   "cell_type": "code",
   "execution_count": 80,
   "metadata": {},
   "outputs": [
    {
     "data": {
      "application/vnd.plotly.v1+json": {
       "config": {
        "plotlyServerURL": "https://plot.ly"
       },
       "data": [
        {
         "name": "Motor\ncycles",
         "type": "bar",
         "x": [
          1997,
          1998,
          1999,
          2000,
          2001,
          2002,
          2003,
          2004,
          2005,
          2006,
          2007,
          2008,
          2009,
          2010,
          2011,
          2012,
          2013,
          2014,
          2015,
          2016
         ],
         "xaxis": "x",
         "y": [
          24424,
          24398,
          26677,
          30638,
          32913,
          33147,
          35094,
          34854,
          34300,
          34927,
          37178,
          39409,
          39552,
          38145,
          36582,
          35106,
          36623,
          36573,
          36974,
          38023
         ],
         "yaxis": "y"
        },
        {
         "name": "Goods\nvehicles",
         "type": "bar",
         "x": [
          1997,
          1998,
          1999,
          2000,
          2001,
          2002,
          2003,
          2004,
          2005,
          2006,
          2007,
          2008,
          2009,
          2010,
          2011,
          2012,
          2013,
          2014,
          2015,
          2016
         ],
         "xaxis": "x2",
         "y": [
          158158,
          170866,
          188814,
          205575,
          219510,
          233069,
          251130,
          268082,
          286548,
          318604,
          345874,
          351307,
          343940,
          327096,
          320966,
          309219,
          317849,
          317378,
          330541,
          342259
         ],
         "yaxis": "y2"
        },
        {
         "name": "Tractors1,\nexcavators,\ndumpers, etc",
         "type": "bar",
         "x": [
          1997,
          1998,
          1999,
          2000,
          2001,
          2002,
          2003,
          2004,
          2005,
          2006,
          2007,
          2008,
          2009,
          2010,
          2011,
          2012,
          2013,
          2014,
          2015,
          2016
         ],
         "xaxis": "x3",
         "y": [
          78405,
          78047,
          75591,
          73806,
          73719,
          73956,
          76425,
          76697,
          76307,
          78520,
          80239,
          79613,
          75318,
          71457,
          71677,
          69961,
          99122,
          94669,
          91882,
          89482
         ],
         "yaxis": "y3"
        },
        {
         "name": "Small",
         "type": "bar",
         "x": [
          1997,
          1998,
          1999,
          2000,
          2001,
          2002,
          2003,
          2004,
          2005,
          2006,
          2007,
          2008,
          2009,
          2010,
          2011,
          2012,
          2013,
          2014,
          2015,
          2016
         ],
         "xaxis": "x4",
         "y": [
          10340,
          11249,
          13076,
          13637,
          16547,
          18252,
          19856,
          20744,
          21888,
          23284,
          26654,
          29053,
          28284,
          26680,
          25129,
          24180,
          22964,
          22373,
          21977,
          21675
         ],
         "yaxis": "y4"
        },
        {
         "name": "Large",
         "type": "bar",
         "x": [
          1997,
          1998,
          1999,
          2000,
          2001,
          2002,
          2003,
          2004,
          2005,
          2006,
          2007,
          2008,
          2009,
          2010,
          2011,
          2012,
          2013,
          2014,
          2015,
          2016
         ],
         "xaxis": "x5",
         "y": [
          5845,
          6096,
          6564,
          6957,
          7084,
          7090,
          7392,
          7430,
          7625,
          7997,
          8451,
          8911,
          8556,
          8245,
          8276,
          8266,
          8488,
          8802,
          9259,
          9841
         ],
         "yaxis": "y5"
        },
        {
         "name": "Exempt\nvehicles",
         "type": "bar",
         "x": [
          1997,
          1998,
          1999,
          2000,
          2001,
          2002,
          2003,
          2004,
          2005,
          2006,
          2007,
          2008,
          2009,
          2010,
          2011,
          2012,
          2013,
          2014,
          2015,
          2016
         ],
         "xaxis": "x6",
         "y": [
          10336,
          11748,
          12248,
          13864,
          14965,
          16186,
          17185,
          18847,
          20321,
          22117,
          24761,
          26441,
          26954,
          27092,
          27769,
          27455,
          27682,
          28033,
          28936,
          30112
         ],
         "yaxis": "y6"
        },
        {
         "name": "Others1",
         "type": "bar",
         "x": [
          1997,
          1998,
          1999,
          2000,
          2001,
          2002,
          2003,
          2004,
          2005,
          2006,
          2007,
          2008,
          2009,
          2010,
          2011,
          2012,
          2013,
          2014,
          2015,
          2016
         ],
         "xaxis": "x7",
         "y": [
          10393,
          11548,
          15941,
          18494,
          20242,
          20438,
          23241,
          26820,
          29534,
          32083,
          35506,
          38553,
          42627,
          44957,
          46947,
          46486,
          59664,
          63626,
          65595,
          66589
         ],
         "yaxis": "y7"
        },
        {
         "name": "Total",
         "type": "bar",
         "x": [
          1997,
          1998,
          1999,
          2000,
          2001,
          2002,
          2003,
          2004,
          2005,
          2006,
          2007,
          2008,
          2009,
          2010,
          2011,
          2012,
          2013,
          2014,
          2015,
          2016
         ],
         "xaxis": "x8",
         "y": [
          1432330,
          1510853,
          1608156,
          1682221,
          1769684,
          1850046,
          1937429,
          2036307,
          2138680,
          2296393,
          2441564,
          2497568,
          2467660,
          2416387,
          2425156,
          2403223,
          2482557,
          2515322,
          2570294,
          2624958
         ],
         "yaxis": "y8"
        }
       ],
       "layout": {
        "annotations": [
         {
          "font": {
           "size": 16
          },
          "showarrow": false,
          "text": "Motor\ncycles",
          "x": 0.225,
          "xanchor": "center",
          "xref": "paper",
          "y": 1,
          "yanchor": "bottom",
          "yref": "paper"
         },
         {
          "font": {
           "size": 16
          },
          "showarrow": false,
          "text": "Goods\nvehicles",
          "x": 0.775,
          "xanchor": "center",
          "xref": "paper",
          "y": 1,
          "yanchor": "bottom",
          "yref": "paper"
         },
         {
          "font": {
           "size": 16
          },
          "showarrow": false,
          "text": "Tractors1,\nexcavators,\ndumpers, etc",
          "x": 0.225,
          "xanchor": "center",
          "xref": "paper",
          "y": 0.71875,
          "yanchor": "bottom",
          "yref": "paper"
         },
         {
          "font": {
           "size": 16
          },
          "showarrow": false,
          "text": "Small",
          "x": 0.775,
          "xanchor": "center",
          "xref": "paper",
          "y": 0.71875,
          "yanchor": "bottom",
          "yref": "paper"
         },
         {
          "font": {
           "size": 16
          },
          "showarrow": false,
          "text": "Large",
          "x": 0.225,
          "xanchor": "center",
          "xref": "paper",
          "y": 0.4375,
          "yanchor": "bottom",
          "yref": "paper"
         },
         {
          "font": {
           "size": 16
          },
          "showarrow": false,
          "text": "Exempt\nvehicles",
          "x": 0.775,
          "xanchor": "center",
          "xref": "paper",
          "y": 0.4375,
          "yanchor": "bottom",
          "yref": "paper"
         },
         {
          "font": {
           "size": 16
          },
          "showarrow": false,
          "text": "Others1",
          "x": 0.225,
          "xanchor": "center",
          "xref": "paper",
          "y": 0.15625,
          "yanchor": "bottom",
          "yref": "paper"
         },
         {
          "font": {
           "size": 16
          },
          "showarrow": false,
          "text": "Total",
          "x": 0.775,
          "xanchor": "center",
          "xref": "paper",
          "y": 0.15625,
          "yanchor": "bottom",
          "yref": "paper"
         }
        ],
        "height": 2000,
        "template": {
         "data": {
          "bar": [
           {
            "error_x": {
             "color": "#2a3f5f"
            },
            "error_y": {
             "color": "#2a3f5f"
            },
            "marker": {
             "line": {
              "color": "#E5ECF6",
              "width": 0.5
             },
             "pattern": {
              "fillmode": "overlay",
              "size": 10,
              "solidity": 0.2
             }
            },
            "type": "bar"
           }
          ],
          "barpolar": [
           {
            "marker": {
             "line": {
              "color": "#E5ECF6",
              "width": 0.5
             },
             "pattern": {
              "fillmode": "overlay",
              "size": 10,
              "solidity": 0.2
             }
            },
            "type": "barpolar"
           }
          ],
          "carpet": [
           {
            "aaxis": {
             "endlinecolor": "#2a3f5f",
             "gridcolor": "white",
             "linecolor": "white",
             "minorgridcolor": "white",
             "startlinecolor": "#2a3f5f"
            },
            "baxis": {
             "endlinecolor": "#2a3f5f",
             "gridcolor": "white",
             "linecolor": "white",
             "minorgridcolor": "white",
             "startlinecolor": "#2a3f5f"
            },
            "type": "carpet"
           }
          ],
          "choropleth": [
           {
            "colorbar": {
             "outlinewidth": 0,
             "ticks": ""
            },
            "type": "choropleth"
           }
          ],
          "contour": [
           {
            "colorbar": {
             "outlinewidth": 0,
             "ticks": ""
            },
            "colorscale": [
             [
              0,
              "#0d0887"
             ],
             [
              0.1111111111111111,
              "#46039f"
             ],
             [
              0.2222222222222222,
              "#7201a8"
             ],
             [
              0.3333333333333333,
              "#9c179e"
             ],
             [
              0.4444444444444444,
              "#bd3786"
             ],
             [
              0.5555555555555556,
              "#d8576b"
             ],
             [
              0.6666666666666666,
              "#ed7953"
             ],
             [
              0.7777777777777778,
              "#fb9f3a"
             ],
             [
              0.8888888888888888,
              "#fdca26"
             ],
             [
              1,
              "#f0f921"
             ]
            ],
            "type": "contour"
           }
          ],
          "contourcarpet": [
           {
            "colorbar": {
             "outlinewidth": 0,
             "ticks": ""
            },
            "type": "contourcarpet"
           }
          ],
          "heatmap": [
           {
            "colorbar": {
             "outlinewidth": 0,
             "ticks": ""
            },
            "colorscale": [
             [
              0,
              "#0d0887"
             ],
             [
              0.1111111111111111,
              "#46039f"
             ],
             [
              0.2222222222222222,
              "#7201a8"
             ],
             [
              0.3333333333333333,
              "#9c179e"
             ],
             [
              0.4444444444444444,
              "#bd3786"
             ],
             [
              0.5555555555555556,
              "#d8576b"
             ],
             [
              0.6666666666666666,
              "#ed7953"
             ],
             [
              0.7777777777777778,
              "#fb9f3a"
             ],
             [
              0.8888888888888888,
              "#fdca26"
             ],
             [
              1,
              "#f0f921"
             ]
            ],
            "type": "heatmap"
           }
          ],
          "heatmapgl": [
           {
            "colorbar": {
             "outlinewidth": 0,
             "ticks": ""
            },
            "colorscale": [
             [
              0,
              "#0d0887"
             ],
             [
              0.1111111111111111,
              "#46039f"
             ],
             [
              0.2222222222222222,
              "#7201a8"
             ],
             [
              0.3333333333333333,
              "#9c179e"
             ],
             [
              0.4444444444444444,
              "#bd3786"
             ],
             [
              0.5555555555555556,
              "#d8576b"
             ],
             [
              0.6666666666666666,
              "#ed7953"
             ],
             [
              0.7777777777777778,
              "#fb9f3a"
             ],
             [
              0.8888888888888888,
              "#fdca26"
             ],
             [
              1,
              "#f0f921"
             ]
            ],
            "type": "heatmapgl"
           }
          ],
          "histogram": [
           {
            "marker": {
             "pattern": {
              "fillmode": "overlay",
              "size": 10,
              "solidity": 0.2
             }
            },
            "type": "histogram"
           }
          ],
          "histogram2d": [
           {
            "colorbar": {
             "outlinewidth": 0,
             "ticks": ""
            },
            "colorscale": [
             [
              0,
              "#0d0887"
             ],
             [
              0.1111111111111111,
              "#46039f"
             ],
             [
              0.2222222222222222,
              "#7201a8"
             ],
             [
              0.3333333333333333,
              "#9c179e"
             ],
             [
              0.4444444444444444,
              "#bd3786"
             ],
             [
              0.5555555555555556,
              "#d8576b"
             ],
             [
              0.6666666666666666,
              "#ed7953"
             ],
             [
              0.7777777777777778,
              "#fb9f3a"
             ],
             [
              0.8888888888888888,
              "#fdca26"
             ],
             [
              1,
              "#f0f921"
             ]
            ],
            "type": "histogram2d"
           }
          ],
          "histogram2dcontour": [
           {
            "colorbar": {
             "outlinewidth": 0,
             "ticks": ""
            },
            "colorscale": [
             [
              0,
              "#0d0887"
             ],
             [
              0.1111111111111111,
              "#46039f"
             ],
             [
              0.2222222222222222,
              "#7201a8"
             ],
             [
              0.3333333333333333,
              "#9c179e"
             ],
             [
              0.4444444444444444,
              "#bd3786"
             ],
             [
              0.5555555555555556,
              "#d8576b"
             ],
             [
              0.6666666666666666,
              "#ed7953"
             ],
             [
              0.7777777777777778,
              "#fb9f3a"
             ],
             [
              0.8888888888888888,
              "#fdca26"
             ],
             [
              1,
              "#f0f921"
             ]
            ],
            "type": "histogram2dcontour"
           }
          ],
          "mesh3d": [
           {
            "colorbar": {
             "outlinewidth": 0,
             "ticks": ""
            },
            "type": "mesh3d"
           }
          ],
          "parcoords": [
           {
            "line": {
             "colorbar": {
              "outlinewidth": 0,
              "ticks": ""
             }
            },
            "type": "parcoords"
           }
          ],
          "pie": [
           {
            "automargin": true,
            "type": "pie"
           }
          ],
          "scatter": [
           {
            "marker": {
             "colorbar": {
              "outlinewidth": 0,
              "ticks": ""
             }
            },
            "type": "scatter"
           }
          ],
          "scatter3d": [
           {
            "line": {
             "colorbar": {
              "outlinewidth": 0,
              "ticks": ""
             }
            },
            "marker": {
             "colorbar": {
              "outlinewidth": 0,
              "ticks": ""
             }
            },
            "type": "scatter3d"
           }
          ],
          "scattercarpet": [
           {
            "marker": {
             "colorbar": {
              "outlinewidth": 0,
              "ticks": ""
             }
            },
            "type": "scattercarpet"
           }
          ],
          "scattergeo": [
           {
            "marker": {
             "colorbar": {
              "outlinewidth": 0,
              "ticks": ""
             }
            },
            "type": "scattergeo"
           }
          ],
          "scattergl": [
           {
            "marker": {
             "colorbar": {
              "outlinewidth": 0,
              "ticks": ""
             }
            },
            "type": "scattergl"
           }
          ],
          "scattermapbox": [
           {
            "marker": {
             "colorbar": {
              "outlinewidth": 0,
              "ticks": ""
             }
            },
            "type": "scattermapbox"
           }
          ],
          "scatterpolar": [
           {
            "marker": {
             "colorbar": {
              "outlinewidth": 0,
              "ticks": ""
             }
            },
            "type": "scatterpolar"
           }
          ],
          "scatterpolargl": [
           {
            "marker": {
             "colorbar": {
              "outlinewidth": 0,
              "ticks": ""
             }
            },
            "type": "scatterpolargl"
           }
          ],
          "scatterternary": [
           {
            "marker": {
             "colorbar": {
              "outlinewidth": 0,
              "ticks": ""
             }
            },
            "type": "scatterternary"
           }
          ],
          "surface": [
           {
            "colorbar": {
             "outlinewidth": 0,
             "ticks": ""
            },
            "colorscale": [
             [
              0,
              "#0d0887"
             ],
             [
              0.1111111111111111,
              "#46039f"
             ],
             [
              0.2222222222222222,
              "#7201a8"
             ],
             [
              0.3333333333333333,
              "#9c179e"
             ],
             [
              0.4444444444444444,
              "#bd3786"
             ],
             [
              0.5555555555555556,
              "#d8576b"
             ],
             [
              0.6666666666666666,
              "#ed7953"
             ],
             [
              0.7777777777777778,
              "#fb9f3a"
             ],
             [
              0.8888888888888888,
              "#fdca26"
             ],
             [
              1,
              "#f0f921"
             ]
            ],
            "type": "surface"
           }
          ],
          "table": [
           {
            "cells": {
             "fill": {
              "color": "#EBF0F8"
             },
             "line": {
              "color": "white"
             }
            },
            "header": {
             "fill": {
              "color": "#C8D4E3"
             },
             "line": {
              "color": "white"
             }
            },
            "type": "table"
           }
          ]
         },
         "layout": {
          "annotationdefaults": {
           "arrowcolor": "#2a3f5f",
           "arrowhead": 0,
           "arrowwidth": 1
          },
          "autotypenumbers": "strict",
          "coloraxis": {
           "colorbar": {
            "outlinewidth": 0,
            "ticks": ""
           }
          },
          "colorscale": {
           "diverging": [
            [
             0,
             "#8e0152"
            ],
            [
             0.1,
             "#c51b7d"
            ],
            [
             0.2,
             "#de77ae"
            ],
            [
             0.3,
             "#f1b6da"
            ],
            [
             0.4,
             "#fde0ef"
            ],
            [
             0.5,
             "#f7f7f7"
            ],
            [
             0.6,
             "#e6f5d0"
            ],
            [
             0.7,
             "#b8e186"
            ],
            [
             0.8,
             "#7fbc41"
            ],
            [
             0.9,
             "#4d9221"
            ],
            [
             1,
             "#276419"
            ]
           ],
           "sequential": [
            [
             0,
             "#0d0887"
            ],
            [
             0.1111111111111111,
             "#46039f"
            ],
            [
             0.2222222222222222,
             "#7201a8"
            ],
            [
             0.3333333333333333,
             "#9c179e"
            ],
            [
             0.4444444444444444,
             "#bd3786"
            ],
            [
             0.5555555555555556,
             "#d8576b"
            ],
            [
             0.6666666666666666,
             "#ed7953"
            ],
            [
             0.7777777777777778,
             "#fb9f3a"
            ],
            [
             0.8888888888888888,
             "#fdca26"
            ],
            [
             1,
             "#f0f921"
            ]
           ],
           "sequentialminus": [
            [
             0,
             "#0d0887"
            ],
            [
             0.1111111111111111,
             "#46039f"
            ],
            [
             0.2222222222222222,
             "#7201a8"
            ],
            [
             0.3333333333333333,
             "#9c179e"
            ],
            [
             0.4444444444444444,
             "#bd3786"
            ],
            [
             0.5555555555555556,
             "#d8576b"
            ],
            [
             0.6666666666666666,
             "#ed7953"
            ],
            [
             0.7777777777777778,
             "#fb9f3a"
            ],
            [
             0.8888888888888888,
             "#fdca26"
            ],
            [
             1,
             "#f0f921"
            ]
           ]
          },
          "colorway": [
           "#636efa",
           "#EF553B",
           "#00cc96",
           "#ab63fa",
           "#FFA15A",
           "#19d3f3",
           "#FF6692",
           "#B6E880",
           "#FF97FF",
           "#FECB52"
          ],
          "font": {
           "color": "#2a3f5f"
          },
          "geo": {
           "bgcolor": "white",
           "lakecolor": "white",
           "landcolor": "#E5ECF6",
           "showlakes": true,
           "showland": true,
           "subunitcolor": "white"
          },
          "hoverlabel": {
           "align": "left"
          },
          "hovermode": "closest",
          "mapbox": {
           "style": "light"
          },
          "paper_bgcolor": "white",
          "plot_bgcolor": "#E5ECF6",
          "polar": {
           "angularaxis": {
            "gridcolor": "white",
            "linecolor": "white",
            "ticks": ""
           },
           "bgcolor": "#E5ECF6",
           "radialaxis": {
            "gridcolor": "white",
            "linecolor": "white",
            "ticks": ""
           }
          },
          "scene": {
           "xaxis": {
            "backgroundcolor": "#E5ECF6",
            "gridcolor": "white",
            "gridwidth": 2,
            "linecolor": "white",
            "showbackground": true,
            "ticks": "",
            "zerolinecolor": "white"
           },
           "yaxis": {
            "backgroundcolor": "#E5ECF6",
            "gridcolor": "white",
            "gridwidth": 2,
            "linecolor": "white",
            "showbackground": true,
            "ticks": "",
            "zerolinecolor": "white"
           },
           "zaxis": {
            "backgroundcolor": "#E5ECF6",
            "gridcolor": "white",
            "gridwidth": 2,
            "linecolor": "white",
            "showbackground": true,
            "ticks": "",
            "zerolinecolor": "white"
           }
          },
          "shapedefaults": {
           "line": {
            "color": "#2a3f5f"
           }
          },
          "ternary": {
           "aaxis": {
            "gridcolor": "white",
            "linecolor": "white",
            "ticks": ""
           },
           "baxis": {
            "gridcolor": "white",
            "linecolor": "white",
            "ticks": ""
           },
           "bgcolor": "#E5ECF6",
           "caxis": {
            "gridcolor": "white",
            "linecolor": "white",
            "ticks": ""
           }
          },
          "title": {
           "x": 0.05
          },
          "xaxis": {
           "automargin": true,
           "gridcolor": "white",
           "linecolor": "white",
           "ticks": "",
           "title": {
            "standoff": 15
           },
           "zerolinecolor": "white",
           "zerolinewidth": 2
          },
          "yaxis": {
           "automargin": true,
           "gridcolor": "white",
           "linecolor": "white",
           "ticks": "",
           "title": {
            "standoff": 15
           },
           "zerolinecolor": "white",
           "zerolinewidth": 2
          }
         }
        },
        "width": 1200,
        "xaxis": {
         "anchor": "y",
         "domain": [
          0,
          0.45
         ]
        },
        "xaxis2": {
         "anchor": "y2",
         "domain": [
          0.55,
          1
         ]
        },
        "xaxis3": {
         "anchor": "y3",
         "domain": [
          0,
          0.45
         ]
        },
        "xaxis4": {
         "anchor": "y4",
         "domain": [
          0.55,
          1
         ]
        },
        "xaxis5": {
         "anchor": "y5",
         "domain": [
          0,
          0.45
         ]
        },
        "xaxis6": {
         "anchor": "y6",
         "domain": [
          0.55,
          1
         ]
        },
        "xaxis7": {
         "anchor": "y7",
         "domain": [
          0,
          0.45
         ]
        },
        "xaxis8": {
         "anchor": "y8",
         "domain": [
          0.55,
          1
         ]
        },
        "yaxis": {
         "anchor": "x",
         "domain": [
          0.84375,
          1
         ]
        },
        "yaxis2": {
         "anchor": "x2",
         "domain": [
          0.84375,
          1
         ]
        },
        "yaxis3": {
         "anchor": "x3",
         "domain": [
          0.5625,
          0.71875
         ]
        },
        "yaxis4": {
         "anchor": "x4",
         "domain": [
          0.5625,
          0.71875
         ]
        },
        "yaxis5": {
         "anchor": "x5",
         "domain": [
          0.28125,
          0.4375
         ]
        },
        "yaxis6": {
         "anchor": "x6",
         "domain": [
          0.28125,
          0.4375
         ]
        },
        "yaxis7": {
         "anchor": "x7",
         "domain": [
          0,
          0.15625
         ]
        },
        "yaxis8": {
         "anchor": "x8",
         "domain": [
          0,
          0.15625
         ]
        }
       }
      }
     },
     "metadata": {},
     "output_type": "display_data"
    }
   ],
   "source": [
    "rows=4\n",
    "cols=2\n",
    "fig = make_subplots(rows=rows, cols=cols, subplot_titles=(extended_vehicle_df.columns[2:]))\n",
    "x = 2\n",
    "for i in range(1, rows + 1):\n",
    "    for j in range(1, cols + 1):\n",
    "        fig.add_trace(go.Bar(x =extended_vehicle_df['Year'], y = extended_vehicle_df[extended_vehicle_df.columns[x]], name=extended_vehicle_df.columns[x]) ,\n",
    "                     row=i,\n",
    "                     col=j)\n",
    "\n",
    "        x=x+1\n",
    "\n",
    "fig.update_layout(height=2000, width=1200)\n",
    "fig.show()"
   ]
  },
  {
   "cell_type": "code",
   "execution_count": 82,
   "metadata": {},
   "outputs": [
    {
     "data": {
      "application/vnd.plotly.v1+json": {
       "config": {
        "plotlyServerURL": "https://plot.ly"
       },
       "data": [
        {
         "hovertemplate": "Year=%{x}<br>Total=%{y}<extra></extra>",
         "legendgroup": "",
         "line": {
          "color": "#636efa",
          "dash": "solid"
         },
         "marker": {
          "symbol": "circle"
         },
         "mode": "lines",
         "name": "",
         "orientation": "v",
         "showlegend": false,
         "type": "scatter",
         "x": [
          1997,
          1998,
          1999,
          2000,
          2001,
          2002,
          2003,
          2004,
          2005,
          2006,
          2007,
          2008,
          2009,
          2010,
          2011,
          2012,
          2013,
          2014,
          2015,
          2016
         ],
         "xaxis": "x",
         "y": [
          1432330,
          1510853,
          1608156,
          1682221,
          1769684,
          1850046,
          1937429,
          2036307,
          2138680,
          2296393,
          2441564,
          2497568,
          2467660,
          2416387,
          2425156,
          2403223,
          2482557,
          2515322,
          2570294,
          2624958
         ],
         "yaxis": "y"
        }
       ],
       "layout": {
        "legend": {
         "tracegroupgap": 0
        },
        "margin": {
         "t": 60
        },
        "template": {
         "data": {
          "bar": [
           {
            "error_x": {
             "color": "#2a3f5f"
            },
            "error_y": {
             "color": "#2a3f5f"
            },
            "marker": {
             "line": {
              "color": "#E5ECF6",
              "width": 0.5
             },
             "pattern": {
              "fillmode": "overlay",
              "size": 10,
              "solidity": 0.2
             }
            },
            "type": "bar"
           }
          ],
          "barpolar": [
           {
            "marker": {
             "line": {
              "color": "#E5ECF6",
              "width": 0.5
             },
             "pattern": {
              "fillmode": "overlay",
              "size": 10,
              "solidity": 0.2
             }
            },
            "type": "barpolar"
           }
          ],
          "carpet": [
           {
            "aaxis": {
             "endlinecolor": "#2a3f5f",
             "gridcolor": "white",
             "linecolor": "white",
             "minorgridcolor": "white",
             "startlinecolor": "#2a3f5f"
            },
            "baxis": {
             "endlinecolor": "#2a3f5f",
             "gridcolor": "white",
             "linecolor": "white",
             "minorgridcolor": "white",
             "startlinecolor": "#2a3f5f"
            },
            "type": "carpet"
           }
          ],
          "choropleth": [
           {
            "colorbar": {
             "outlinewidth": 0,
             "ticks": ""
            },
            "type": "choropleth"
           }
          ],
          "contour": [
           {
            "colorbar": {
             "outlinewidth": 0,
             "ticks": ""
            },
            "colorscale": [
             [
              0,
              "#0d0887"
             ],
             [
              0.1111111111111111,
              "#46039f"
             ],
             [
              0.2222222222222222,
              "#7201a8"
             ],
             [
              0.3333333333333333,
              "#9c179e"
             ],
             [
              0.4444444444444444,
              "#bd3786"
             ],
             [
              0.5555555555555556,
              "#d8576b"
             ],
             [
              0.6666666666666666,
              "#ed7953"
             ],
             [
              0.7777777777777778,
              "#fb9f3a"
             ],
             [
              0.8888888888888888,
              "#fdca26"
             ],
             [
              1,
              "#f0f921"
             ]
            ],
            "type": "contour"
           }
          ],
          "contourcarpet": [
           {
            "colorbar": {
             "outlinewidth": 0,
             "ticks": ""
            },
            "type": "contourcarpet"
           }
          ],
          "heatmap": [
           {
            "colorbar": {
             "outlinewidth": 0,
             "ticks": ""
            },
            "colorscale": [
             [
              0,
              "#0d0887"
             ],
             [
              0.1111111111111111,
              "#46039f"
             ],
             [
              0.2222222222222222,
              "#7201a8"
             ],
             [
              0.3333333333333333,
              "#9c179e"
             ],
             [
              0.4444444444444444,
              "#bd3786"
             ],
             [
              0.5555555555555556,
              "#d8576b"
             ],
             [
              0.6666666666666666,
              "#ed7953"
             ],
             [
              0.7777777777777778,
              "#fb9f3a"
             ],
             [
              0.8888888888888888,
              "#fdca26"
             ],
             [
              1,
              "#f0f921"
             ]
            ],
            "type": "heatmap"
           }
          ],
          "heatmapgl": [
           {
            "colorbar": {
             "outlinewidth": 0,
             "ticks": ""
            },
            "colorscale": [
             [
              0,
              "#0d0887"
             ],
             [
              0.1111111111111111,
              "#46039f"
             ],
             [
              0.2222222222222222,
              "#7201a8"
             ],
             [
              0.3333333333333333,
              "#9c179e"
             ],
             [
              0.4444444444444444,
              "#bd3786"
             ],
             [
              0.5555555555555556,
              "#d8576b"
             ],
             [
              0.6666666666666666,
              "#ed7953"
             ],
             [
              0.7777777777777778,
              "#fb9f3a"
             ],
             [
              0.8888888888888888,
              "#fdca26"
             ],
             [
              1,
              "#f0f921"
             ]
            ],
            "type": "heatmapgl"
           }
          ],
          "histogram": [
           {
            "marker": {
             "pattern": {
              "fillmode": "overlay",
              "size": 10,
              "solidity": 0.2
             }
            },
            "type": "histogram"
           }
          ],
          "histogram2d": [
           {
            "colorbar": {
             "outlinewidth": 0,
             "ticks": ""
            },
            "colorscale": [
             [
              0,
              "#0d0887"
             ],
             [
              0.1111111111111111,
              "#46039f"
             ],
             [
              0.2222222222222222,
              "#7201a8"
             ],
             [
              0.3333333333333333,
              "#9c179e"
             ],
             [
              0.4444444444444444,
              "#bd3786"
             ],
             [
              0.5555555555555556,
              "#d8576b"
             ],
             [
              0.6666666666666666,
              "#ed7953"
             ],
             [
              0.7777777777777778,
              "#fb9f3a"
             ],
             [
              0.8888888888888888,
              "#fdca26"
             ],
             [
              1,
              "#f0f921"
             ]
            ],
            "type": "histogram2d"
           }
          ],
          "histogram2dcontour": [
           {
            "colorbar": {
             "outlinewidth": 0,
             "ticks": ""
            },
            "colorscale": [
             [
              0,
              "#0d0887"
             ],
             [
              0.1111111111111111,
              "#46039f"
             ],
             [
              0.2222222222222222,
              "#7201a8"
             ],
             [
              0.3333333333333333,
              "#9c179e"
             ],
             [
              0.4444444444444444,
              "#bd3786"
             ],
             [
              0.5555555555555556,
              "#d8576b"
             ],
             [
              0.6666666666666666,
              "#ed7953"
             ],
             [
              0.7777777777777778,
              "#fb9f3a"
             ],
             [
              0.8888888888888888,
              "#fdca26"
             ],
             [
              1,
              "#f0f921"
             ]
            ],
            "type": "histogram2dcontour"
           }
          ],
          "mesh3d": [
           {
            "colorbar": {
             "outlinewidth": 0,
             "ticks": ""
            },
            "type": "mesh3d"
           }
          ],
          "parcoords": [
           {
            "line": {
             "colorbar": {
              "outlinewidth": 0,
              "ticks": ""
             }
            },
            "type": "parcoords"
           }
          ],
          "pie": [
           {
            "automargin": true,
            "type": "pie"
           }
          ],
          "scatter": [
           {
            "marker": {
             "colorbar": {
              "outlinewidth": 0,
              "ticks": ""
             }
            },
            "type": "scatter"
           }
          ],
          "scatter3d": [
           {
            "line": {
             "colorbar": {
              "outlinewidth": 0,
              "ticks": ""
             }
            },
            "marker": {
             "colorbar": {
              "outlinewidth": 0,
              "ticks": ""
             }
            },
            "type": "scatter3d"
           }
          ],
          "scattercarpet": [
           {
            "marker": {
             "colorbar": {
              "outlinewidth": 0,
              "ticks": ""
             }
            },
            "type": "scattercarpet"
           }
          ],
          "scattergeo": [
           {
            "marker": {
             "colorbar": {
              "outlinewidth": 0,
              "ticks": ""
             }
            },
            "type": "scattergeo"
           }
          ],
          "scattergl": [
           {
            "marker": {
             "colorbar": {
              "outlinewidth": 0,
              "ticks": ""
             }
            },
            "type": "scattergl"
           }
          ],
          "scattermapbox": [
           {
            "marker": {
             "colorbar": {
              "outlinewidth": 0,
              "ticks": ""
             }
            },
            "type": "scattermapbox"
           }
          ],
          "scatterpolar": [
           {
            "marker": {
             "colorbar": {
              "outlinewidth": 0,
              "ticks": ""
             }
            },
            "type": "scatterpolar"
           }
          ],
          "scatterpolargl": [
           {
            "marker": {
             "colorbar": {
              "outlinewidth": 0,
              "ticks": ""
             }
            },
            "type": "scatterpolargl"
           }
          ],
          "scatterternary": [
           {
            "marker": {
             "colorbar": {
              "outlinewidth": 0,
              "ticks": ""
             }
            },
            "type": "scatterternary"
           }
          ],
          "surface": [
           {
            "colorbar": {
             "outlinewidth": 0,
             "ticks": ""
            },
            "colorscale": [
             [
              0,
              "#0d0887"
             ],
             [
              0.1111111111111111,
              "#46039f"
             ],
             [
              0.2222222222222222,
              "#7201a8"
             ],
             [
              0.3333333333333333,
              "#9c179e"
             ],
             [
              0.4444444444444444,
              "#bd3786"
             ],
             [
              0.5555555555555556,
              "#d8576b"
             ],
             [
              0.6666666666666666,
              "#ed7953"
             ],
             [
              0.7777777777777778,
              "#fb9f3a"
             ],
             [
              0.8888888888888888,
              "#fdca26"
             ],
             [
              1,
              "#f0f921"
             ]
            ],
            "type": "surface"
           }
          ],
          "table": [
           {
            "cells": {
             "fill": {
              "color": "#EBF0F8"
             },
             "line": {
              "color": "white"
             }
            },
            "header": {
             "fill": {
              "color": "#C8D4E3"
             },
             "line": {
              "color": "white"
             }
            },
            "type": "table"
           }
          ]
         },
         "layout": {
          "annotationdefaults": {
           "arrowcolor": "#2a3f5f",
           "arrowhead": 0,
           "arrowwidth": 1
          },
          "autotypenumbers": "strict",
          "coloraxis": {
           "colorbar": {
            "outlinewidth": 0,
            "ticks": ""
           }
          },
          "colorscale": {
           "diverging": [
            [
             0,
             "#8e0152"
            ],
            [
             0.1,
             "#c51b7d"
            ],
            [
             0.2,
             "#de77ae"
            ],
            [
             0.3,
             "#f1b6da"
            ],
            [
             0.4,
             "#fde0ef"
            ],
            [
             0.5,
             "#f7f7f7"
            ],
            [
             0.6,
             "#e6f5d0"
            ],
            [
             0.7,
             "#b8e186"
            ],
            [
             0.8,
             "#7fbc41"
            ],
            [
             0.9,
             "#4d9221"
            ],
            [
             1,
             "#276419"
            ]
           ],
           "sequential": [
            [
             0,
             "#0d0887"
            ],
            [
             0.1111111111111111,
             "#46039f"
            ],
            [
             0.2222222222222222,
             "#7201a8"
            ],
            [
             0.3333333333333333,
             "#9c179e"
            ],
            [
             0.4444444444444444,
             "#bd3786"
            ],
            [
             0.5555555555555556,
             "#d8576b"
            ],
            [
             0.6666666666666666,
             "#ed7953"
            ],
            [
             0.7777777777777778,
             "#fb9f3a"
            ],
            [
             0.8888888888888888,
             "#fdca26"
            ],
            [
             1,
             "#f0f921"
            ]
           ],
           "sequentialminus": [
            [
             0,
             "#0d0887"
            ],
            [
             0.1111111111111111,
             "#46039f"
            ],
            [
             0.2222222222222222,
             "#7201a8"
            ],
            [
             0.3333333333333333,
             "#9c179e"
            ],
            [
             0.4444444444444444,
             "#bd3786"
            ],
            [
             0.5555555555555556,
             "#d8576b"
            ],
            [
             0.6666666666666666,
             "#ed7953"
            ],
            [
             0.7777777777777778,
             "#fb9f3a"
            ],
            [
             0.8888888888888888,
             "#fdca26"
            ],
            [
             1,
             "#f0f921"
            ]
           ]
          },
          "colorway": [
           "#636efa",
           "#EF553B",
           "#00cc96",
           "#ab63fa",
           "#FFA15A",
           "#19d3f3",
           "#FF6692",
           "#B6E880",
           "#FF97FF",
           "#FECB52"
          ],
          "font": {
           "color": "#2a3f5f"
          },
          "geo": {
           "bgcolor": "white",
           "lakecolor": "white",
           "landcolor": "#E5ECF6",
           "showlakes": true,
           "showland": true,
           "subunitcolor": "white"
          },
          "hoverlabel": {
           "align": "left"
          },
          "hovermode": "closest",
          "mapbox": {
           "style": "light"
          },
          "paper_bgcolor": "white",
          "plot_bgcolor": "#E5ECF6",
          "polar": {
           "angularaxis": {
            "gridcolor": "white",
            "linecolor": "white",
            "ticks": ""
           },
           "bgcolor": "#E5ECF6",
           "radialaxis": {
            "gridcolor": "white",
            "linecolor": "white",
            "ticks": ""
           }
          },
          "scene": {
           "xaxis": {
            "backgroundcolor": "#E5ECF6",
            "gridcolor": "white",
            "gridwidth": 2,
            "linecolor": "white",
            "showbackground": true,
            "ticks": "",
            "zerolinecolor": "white"
           },
           "yaxis": {
            "backgroundcolor": "#E5ECF6",
            "gridcolor": "white",
            "gridwidth": 2,
            "linecolor": "white",
            "showbackground": true,
            "ticks": "",
            "zerolinecolor": "white"
           },
           "zaxis": {
            "backgroundcolor": "#E5ECF6",
            "gridcolor": "white",
            "gridwidth": 2,
            "linecolor": "white",
            "showbackground": true,
            "ticks": "",
            "zerolinecolor": "white"
           }
          },
          "shapedefaults": {
           "line": {
            "color": "#2a3f5f"
           }
          },
          "ternary": {
           "aaxis": {
            "gridcolor": "white",
            "linecolor": "white",
            "ticks": ""
           },
           "baxis": {
            "gridcolor": "white",
            "linecolor": "white",
            "ticks": ""
           },
           "bgcolor": "#E5ECF6",
           "caxis": {
            "gridcolor": "white",
            "linecolor": "white",
            "ticks": ""
           }
          },
          "title": {
           "x": 0.05
          },
          "xaxis": {
           "automargin": true,
           "gridcolor": "white",
           "linecolor": "white",
           "ticks": "",
           "title": {
            "standoff": 15
           },
           "zerolinecolor": "white",
           "zerolinewidth": 2
          },
          "yaxis": {
           "automargin": true,
           "gridcolor": "white",
           "linecolor": "white",
           "ticks": "",
           "title": {
            "standoff": 15
           },
           "zerolinecolor": "white",
           "zerolinewidth": 2
          }
         }
        },
        "xaxis": {
         "anchor": "y",
         "domain": [
          0,
          1
         ],
         "title": {
          "text": "Year"
         }
        },
        "yaxis": {
         "anchor": "x",
         "domain": [
          0,
          1
         ],
         "title": {
          "text": "Total"
         }
        }
       }
      }
     },
     "metadata": {},
     "output_type": "display_data"
    }
   ],
   "source": [
    "fig = px.line(extended_vehicle_df, x='Year', y='Total')\n",
    "fig.show()"
   ]
  },
  {
   "cell_type": "code",
   "execution_count": null,
   "metadata": {},
   "outputs": [],
   "source": []
  }
 ],
 "metadata": {
  "kernelspec": {
   "display_name": "Python 3.7.4 ('base')",
   "language": "python",
   "name": "python3"
  },
  "language_info": {
   "codemirror_mode": {
    "name": "ipython",
    "version": 3
   },
   "file_extension": ".py",
   "mimetype": "text/x-python",
   "name": "python",
   "nbconvert_exporter": "python",
   "pygments_lexer": "ipython3",
   "version": "3.7.4"
  },
  "orig_nbformat": 4,
  "vscode": {
   "interpreter": {
    "hash": "40d3a090f54c6569ab1632332b64b2c03c39dcf918b08424e98f38b5ae0af88f"
   }
  }
 },
 "nbformat": 4,
 "nbformat_minor": 2
}
